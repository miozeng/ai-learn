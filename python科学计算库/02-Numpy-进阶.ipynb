{
 "cells": [
  {
   "cell_type": "markdown",
   "metadata": {},
   "source": [
    "## 矩阵"
   ]
  },
  {
   "cell_type": "code",
   "execution_count": null,
   "metadata": {},
   "outputs": [],
   "source": [
    "使用 mat 方法将 2 维数组转化为矩阵\n",
    "也可以使用 Matlab 的语法传入一个字符串来生成矩阵：A = np.mat('1,2,4;2,5,3;7,8,9')"
   ]
  },
  {
   "cell_type": "code",
   "execution_count": 2,
   "metadata": {},
   "outputs": [
    {
     "data": {
      "text/plain": [
       "matrix([[1, 2, 4],\n",
       "        [2, 5, 3],\n",
       "        [7, 8, 9]])"
      ]
     },
     "execution_count": 2,
     "metadata": {},
     "output_type": "execute_result"
    }
   ],
   "source": [
    "\n",
    "import numpy as np\n",
    "a = np.array([[1,2,4],\n",
    "              [2,5,3], \n",
    "              [7,8,9]])\n",
    "A = np.mat(a)\n",
    "A"
   ]
  },
  {
   "cell_type": "markdown",
   "metadata": {},
   "source": [
    "\n",
    "利用分块创造新的矩阵："
   ]
  },
  {
   "cell_type": "code",
   "execution_count": 2,
   "metadata": {},
   "outputs": [
    {
     "data": {
      "text/plain": [
       "matrix([[ 1,  2, 10, 20],\n",
       "        [ 3,  4, 30, 40],\n",
       "        [10, 20,  1,  2],\n",
       "        [30, 40,  3,  4]])"
      ]
     },
     "execution_count": 2,
     "metadata": {},
     "output_type": "execute_result"
    }
   ],
   "source": [
    "\n",
    "a = np.array([[ 1, 2],\n",
    "              [ 3, 4]])\n",
    "b = np.array([[10,20], \n",
    "              [30,40]])\n",
    "\n",
    "np.bmat('a,b;b,a')\n"
   ]
  },
  {
   "cell_type": "markdown",
   "metadata": {},
   "source": [
    "A.I 表示 A 矩阵的逆矩阵\n",
    "\n",
    "矩阵指数表示矩阵连乘："
   ]
  },
  {
   "cell_type": "code",
   "execution_count": 4,
   "metadata": {},
   "outputs": [
    {
     "name": "stdout",
     "output_type": "stream",
     "text": [
      "[[1.00000000e+00 5.55111512e-17 0.00000000e+00]\n",
      " [0.00000000e+00 1.00000000e+00 2.08166817e-17]\n",
      " [2.22044605e-16 4.16333634e-17 1.00000000e+00]]\n"
     ]
    }
   ],
   "source": [
    "print( A * A.I)"
   ]
  },
  {
   "cell_type": "code",
   "execution_count": 5,
   "metadata": {},
   "outputs": [
    {
     "name": "stdout",
     "output_type": "stream",
     "text": [
      "[[ 6497  9580  9836]\n",
      " [ 7138 10561 10818]\n",
      " [18434 27220 27945]]\n"
     ]
    }
   ],
   "source": [
    "print (A ** 4)\n"
   ]
  },
  {
   "cell_type": "markdown",
   "metadata": {},
   "source": [
    "### 函数"
   ]
  },
  {
   "cell_type": "markdown",
   "metadata": {},
   "source": [
    "## 常用函数 "
   ]
  },
  {
   "cell_type": "code",
   "execution_count": null,
   "metadata": {},
   "outputs": [],
   "source": [
    "numpy.sum(a, axis=None, dtype=None, out=None, keepdims=<class 'numpy._globals._NoValue'>)[source]\n",
    "a是数组则为数组的和\n",
    "a为二维数组axis=1表示按行相加 , axis=0表示按列相加\n"
   ]
  },
  {
   "cell_type": "code",
   "execution_count": 3,
   "metadata": {},
   "outputs": [
    {
     "data": {
      "text/plain": [
       "array([3, 9])"
      ]
     },
     "execution_count": 3,
     "metadata": {},
     "output_type": "execute_result"
    }
   ],
   "source": [
    "np.sum([[0,1,2],[2,3,4]], axis=1) "
   ]
  },
  {
   "cell_type": "raw",
   "metadata": {},
   "source": [
    "乘法运算\n",
    "1.np.multiply()函数\n",
    "数组和矩阵对应位置相乘，输出与相乘数组/矩阵的大小一致\n",
    "\n",
    "2.np.dot\n",
    "对于秩为1的数组，执行对应位置相乘，然后再相加；\n",
    "\n",
    "对于秩不为1的二维数组，执行矩阵乘法运算；超过二维的可以参考numpy库介绍。\n",
    "\n",
    "3.*\n",
    "对数组执行对应位置相乘\n",
    "\n",
    "对矩阵执行矩阵乘法运算"
   ]
  },
  {
   "cell_type": "code",
   "execution_count": 4,
   "metadata": {},
   "outputs": [
    {
     "name": "stdout",
     "output_type": "stream",
     "text": [
      "[[1 2]\n",
      " [3 4]]\n",
      "[[0 1]\n",
      " [2 3]]\n"
     ]
    },
    {
     "data": {
      "text/plain": [
       "array([[ 0,  2],\n",
       "       [ 6, 12]])"
      ]
     },
     "execution_count": 4,
     "metadata": {},
     "output_type": "execute_result"
    }
   ],
   "source": [
    "A = np.arange(1,5).reshape(2,2)\n",
    "B = np.arange(0,4).reshape(2,2)\n",
    "print(A)\n",
    "print(B)\n",
    "np.multiply(A,B)       #数组对应元素位置相乘"
   ]
  },
  {
   "cell_type": "code",
   "execution_count": 5,
   "metadata": {},
   "outputs": [
    {
     "data": {
      "text/plain": [
       "array([[ 4,  7],\n",
       "       [ 8, 15]])"
      ]
     },
     "execution_count": 5,
     "metadata": {},
     "output_type": "execute_result"
    }
   ],
   "source": [
    "np.dot(A,B)    #对数组执行矩阵相乘运算"
   ]
  },
  {
   "cell_type": "code",
   "execution_count": 6,
   "metadata": {},
   "outputs": [
    {
     "data": {
      "text/plain": [
       "array([[ 0,  2],\n",
       "       [ 6, 12]])"
      ]
     },
     "execution_count": 6,
     "metadata": {},
     "output_type": "execute_result"
    }
   ],
   "source": [
    "A*B  #对应位置点乘"
   ]
  },
  {
   "cell_type": "code",
   "execution_count": 7,
   "metadata": {},
   "outputs": [
    {
     "data": {
      "text/plain": [
       "matrix([[ 0,  2],\n",
       "        [ 6, 12]])"
      ]
     },
     "execution_count": 7,
     "metadata": {},
     "output_type": "execute_result"
    }
   ],
   "source": [
    "np.multiply(np.mat(A),np.mat(B))     #矩阵对应元素位置相乘"
   ]
  },
  {
   "cell_type": "code",
   "execution_count": 8,
   "metadata": {},
   "outputs": [
    {
     "data": {
      "text/plain": [
       "matrix([[ 4,  7],\n",
       "        [ 8, 15]])"
      ]
     },
     "execution_count": 8,
     "metadata": {},
     "output_type": "execute_result"
    }
   ],
   "source": [
    "np.dot(np.mat(A),np.mat(B))   #秩不为1的二维数组执行矩阵乘法运算"
   ]
  },
  {
   "cell_type": "code",
   "execution_count": 9,
   "metadata": {},
   "outputs": [
    {
     "data": {
      "text/plain": [
       "8"
      ]
     },
     "execution_count": 9,
     "metadata": {},
     "output_type": "execute_result"
    }
   ],
   "source": [
    "C = np.arange(1,4)\n",
    "D = np.arange(0,3)\n",
    "np.dot(C,D)   #秩为1 对应位置相乘，再求和"
   ]
  },
  {
   "cell_type": "code",
   "execution_count": 10,
   "metadata": {},
   "outputs": [
    {
     "data": {
      "text/plain": [
       "matrix([[ 4,  7],\n",
       "        [ 8, 15]])"
      ]
     },
     "execution_count": 10,
     "metadata": {},
     "output_type": "execute_result"
    }
   ],
   "source": [
    "(np.mat(A))*(np.mat(B))  #执行矩阵运算"
   ]
  },
  {
   "cell_type": "raw",
   "metadata": {},
   "source": [
    "1.log常用的两个底数计算（以10为底和以e为底）\n",
    "10为底：np.log10(x)\n",
    "e为底 ：log下什么都不写默认是自然对数 \n",
    "\n",
    "2. power(x1, x2)\n",
    "    对x1中的每个元素求x2次方。不会改变x1上的shape。\n",
    "\n",
    "3. sum(a, axis=None, dtype=None, out=None, keepdims=False)\n",
    "\n",
    " 对a求和，如果axis=None，将矩阵中的每一个数加起来，如果axis=0，矩阵按列相加，如果axis大于0,矩阵按行相加。\n",
    "\n",
    " dtype定义输出的类型。\n",
    "\n",
    " out：自定义存放输出结果的矩阵，shape必须和输出一致。\n",
    " \n",
    "4 mean()函数功能：求取均值\n",
    "经常操作的参数为axis，以m * n矩阵举例：\n",
    "axis 不设置值，对 m*n 个数求均值，返回一个实数\n",
    "axis = 0：压缩行，对各列求均值，返回 1* n 矩阵\n",
    "axis =1 ：压缩列，对各行求均值，返回 m *1 矩阵\n",
    " \n",
    "5 np.square(a) 计算每个元素的平方。等价于 arr ** 2\n",
    "\n",
    "6. np.linalg.norm(x, ord=None, axis=None, keepdims=False)  求范数默认是二范式，ord=1是一范式，ord=2是2范式\n",
    "ord=np.inf 无穷范式\n",
    "\n",
    "7.divide：去掉余数\n",
    " "
   ]
  },
  {
   "cell_type": "code",
   "execution_count": 11,
   "metadata": {},
   "outputs": [
    {
     "data": {
      "text/plain": [
       "5.0"
      ]
     },
     "execution_count": 11,
     "metadata": {},
     "output_type": "execute_result"
    }
   ],
   "source": [
    "x = np.array([3, 4])  \n",
    "np.linalg.norm(x, ord=2)  "
   ]
  },
  {
   "cell_type": "markdown",
   "metadata": {},
   "source": [
    "三角函数\n",
    "sin(x)              \n",
    "cos(x)                 \n",
    "tan(x)             \n",
    "sinh(x)               \n",
    "conh(x)          \n",
    "tanh(x)            \n",
    "arccos(x)     \n",
    "arctan(x)       \n",
    "arcsin(x)    \n",
    "arccosh(x)   \n",
    "arctanh(x)      \n",
    "arcsinh(x)              \n",
    "arctan2(x,y)                \n",
    "\n",
    "arctan2(x,y) 返回 arctan(x/y) 。\n",
    "\n",
    "向量操作\n",
    "dot(x,y)   返回的是两个数组的点积         \n",
    "inner(x,y)      \n",
    "cross(x,y)     \n",
    "vdot(x,y)            \n",
    "outer(x,y)       \n",
    "kron(x,y)          \n",
    "tensordot(x,y[,axis])        \n",
    "\n",
    "其他操作\n",
    "exp(x)                \n",
    "log(x)              \n",
    "log10(x)             \n",
    "sqrt(x)           \n",
    "absolute(x)              \n",
    "conjugate(x)               \n",
    "negative(x)             \n",
    "ceil(x)             \n",
    "floor(x)                \n",
    "fabs(x)           \n",
    "hypot(x)                \n",
    "fmod(x)                  \n",
    "maximum(x,y)     \n",
    "minimum(x,y)           \n",
    "\n",
    "类型处理\n",
    "iscomplexobj\n",
    "iscomplex\n",
    "isrealobj\n",
    "isreal\n",
    "imag\n",
    "real\n",
    "real_if_close\n",
    "isscalar\n",
    "isneginf\n",
    "isposinf\n",
    "isinf\n",
    "isfinite\n",
    "isnan\n",
    "nan_to_num\n",
    "common_type\n",
    "typename\n",
    "\n",
    "\n",
    "修改形状\n",
    "atleast_1d\n",
    "atleast_2d\n",
    "atleast_3d\n",
    "expand_dims\n",
    "apply_over_axes\n",
    "apply_along_axis\n",
    "hstack\n",
    "vstack\n",
    "dstack\n",
    "column_stack\n",
    "hsplit\n",
    "vsplit\n",
    "dsplit\n",
    "\n",
    "split\n",
    "\n",
    "squeeze  从数组的形状中删除单维条目，即把shape中为1的维度去掉\n",
    "\n",
    "其他有用函数\n",
    "fix\n",
    "mod\n",
    "amax\n",
    "amin\n",
    "ptp\n",
    "sum\n",
    "cumsum\n",
    "prod\n",
    "cumprod\n",
    "diff\n",
    "angle\n",
    "\n",
    "unwrap\n",
    "sort_complex\n",
    "trim_zeros\n",
    "fliplr\n",
    "flipud\n",
    "rot90\n",
    "diag\n",
    "eye\n",
    "select\n",
    "extract\n",
    "insert\n",
    "\n",
    "roots\n",
    "poly\n",
    "any\n",
    "all\n",
    "disp\n",
    "unique\n",
    "nansum\n",
    "nanmax\n",
    "nanargmax\n",
    "nanargmin\n",
    "nanmin\n",
    "\n",
    "nan 开头的函数会进行相应的操作，但是忽略 nan 值。"
   ]
  },
  {
   "cell_type": "markdown",
   "metadata": {},
   "source": [
    "## 向量化函数"
   ]
  },
  {
   "cell_type": "markdown",
   "metadata": {},
   "source": [
    "自定义的 sinc 函数："
   ]
  },
  {
   "cell_type": "code",
   "execution_count": 2,
   "metadata": {},
   "outputs": [],
   "source": [
    "import numpy as np\n",
    "\n",
    "def sinc(x):\n",
    "    if x == 0.0:\n",
    "        return 1.0\n",
    "    else:\n",
    "        w = np.pi * x\n",
    "        return np.sin(w) / w"
   ]
  },
  {
   "cell_type": "markdown",
   "metadata": {},
   "source": [
    "作用于单个数值："
   ]
  },
  {
   "cell_type": "code",
   "execution_count": 3,
   "metadata": {},
   "outputs": [
    {
     "data": {
      "text/plain": [
       "3.8981718325193755e-17"
      ]
     },
     "execution_count": 3,
     "metadata": {},
     "output_type": "execute_result"
    }
   ],
   "source": [
    "sinc(3.0)"
   ]
  },
  {
   "cell_type": "markdown",
   "metadata": {},
   "source": [
    "但这个函数不能作用于数组："
   ]
  },
  {
   "cell_type": "code",
   "execution_count": 4,
   "metadata": {},
   "outputs": [
    {
     "ename": "ValueError",
     "evalue": "The truth value of an array with more than one element is ambiguous. Use a.any() or a.all()",
     "output_type": "error",
     "traceback": [
      "\u001b[1;31m---------------------------------------------------------------------------\u001b[0m",
      "\u001b[1;31mValueError\u001b[0m                                Traceback (most recent call last)",
      "\u001b[1;32m<ipython-input-4-32fc17f21f5c>\u001b[0m in \u001b[0;36m<module>\u001b[1;34m()\u001b[0m\n\u001b[0;32m      1\u001b[0m \u001b[0mx\u001b[0m \u001b[1;33m=\u001b[0m \u001b[0mnp\u001b[0m\u001b[1;33m.\u001b[0m\u001b[0marray\u001b[0m\u001b[1;33m(\u001b[0m\u001b[1;33m[\u001b[0m\u001b[1;36m1\u001b[0m\u001b[1;33m,\u001b[0m\u001b[1;36m2\u001b[0m\u001b[1;33m,\u001b[0m\u001b[1;36m3\u001b[0m\u001b[1;33m]\u001b[0m\u001b[1;33m)\u001b[0m\u001b[1;33m\u001b[0m\u001b[0m\n\u001b[1;32m----> 2\u001b[1;33m \u001b[0msinc\u001b[0m\u001b[1;33m(\u001b[0m\u001b[0mx\u001b[0m\u001b[1;33m)\u001b[0m\u001b[1;33m\u001b[0m\u001b[0m\n\u001b[0m",
      "\u001b[1;32m<ipython-input-2-40ac8c638858>\u001b[0m in \u001b[0;36msinc\u001b[1;34m(x)\u001b[0m\n\u001b[0;32m      2\u001b[0m \u001b[1;33m\u001b[0m\u001b[0m\n\u001b[0;32m      3\u001b[0m \u001b[1;32mdef\u001b[0m \u001b[0msinc\u001b[0m\u001b[1;33m(\u001b[0m\u001b[0mx\u001b[0m\u001b[1;33m)\u001b[0m\u001b[1;33m:\u001b[0m\u001b[1;33m\u001b[0m\u001b[0m\n\u001b[1;32m----> 4\u001b[1;33m     \u001b[1;32mif\u001b[0m \u001b[0mx\u001b[0m \u001b[1;33m==\u001b[0m \u001b[1;36m0.0\u001b[0m\u001b[1;33m:\u001b[0m\u001b[1;33m\u001b[0m\u001b[0m\n\u001b[0m\u001b[0;32m      5\u001b[0m         \u001b[1;32mreturn\u001b[0m \u001b[1;36m1.0\u001b[0m\u001b[1;33m\u001b[0m\u001b[0m\n\u001b[0;32m      6\u001b[0m     \u001b[1;32melse\u001b[0m\u001b[1;33m:\u001b[0m\u001b[1;33m\u001b[0m\u001b[0m\n",
      "\u001b[1;31mValueError\u001b[0m: The truth value of an array with more than one element is ambiguous. Use a.any() or a.all()"
     ]
    }
   ],
   "source": [
    "x = np.array([1,2,3])\n",
    "sinc(x)"
   ]
  },
  {
   "cell_type": "markdown",
   "metadata": {},
   "source": [
    "可以使用 numpy 的 vectorize 将函数 sinc 向量化，产生一个新的函数："
   ]
  },
  {
   "cell_type": "code",
   "execution_count": 5,
   "metadata": {},
   "outputs": [
    {
     "data": {
      "text/plain": [
       "array([ 3.89817183e-17, -3.89817183e-17,  3.89817183e-17])"
      ]
     },
     "execution_count": 5,
     "metadata": {},
     "output_type": "execute_result"
    }
   ],
   "source": [
    "vsinc = np.vectorize(sinc)\n",
    "vsinc(x)"
   ]
  },
  {
   "cell_type": "markdown",
   "metadata": {},
   "source": [
    "\n",
    "其作用是为 x 中的每一个值调用 sinc 函数\n",
    "\n",
    "因为这样的用法涉及大量的函数调用，因此，向量化函数的效率并不高。"
   ]
  },
  {
   "cell_type": "markdown",
   "metadata": {},
   "source": [
    "## 二元运算"
   ]
  },
  {
   "cell_type": "markdown",
   "metadata": {},
   "source": [
    "四则运算\n",
    "\n",
    "|运算|\t函数|\n",
    "|a + b|\tadd(a,b)|\n",
    "|a - b|\tsubtract(a,b)|\n",
    "|a * b|\tmultiply(a,b)|\n",
    "a / b\tdivide(a,b)\n",
    "a ** b\tpower(a,b)\n",
    "a % b\tremainder(a,b)\n",
    "\n",
    "比较和逻辑运算\n",
    "\n",
    "|运算|\t函数<|\n",
    "|==\t|equal|\n",
    "|!=\t|not_equal|\n",
    "|>\t|greater|\n",
    "|>=|\tgreater_equal|\n",
    "|<\t|less|\n",
    "|<=\t|less_equal|\n",
    "| |logical_and|\n",
    "| |logical_or|\n",
    "| |logical_xor|\n",
    "| |logical_not|\n",
    "|&|\tbitwise_and|\n",
    "| | bitwise_or|\n",
    "|^|\tbitwise_xor|\n",
    "|~|\tinvert|\n",
    "|>>|\tright_shift|\n",
    "|<<\t|left_shift|"
   ]
  },
  {
   "cell_type": "markdown",
   "metadata": {},
   "source": [
    "## choose 函数实现条件筛选\n",
    "对于数组，我们有时候需要进行类似 switch 和 case 进行条件选择，此时使用 choose 函数十分方便：\n"
   ]
  },
  {
   "cell_type": "code",
   "execution_count": null,
   "metadata": {},
   "outputs": [],
   "source": [
    "import numpy as np"
   ]
  },
  {
   "cell_type": "code",
   "execution_count": 6,
   "metadata": {},
   "outputs": [
    {
     "data": {
      "text/plain": [
       "array([[11, 10, 11],\n",
       "       [12, 11, 10],\n",
       "       [11, 12, 12]])"
      ]
     },
     "execution_count": 6,
     "metadata": {},
     "output_type": "execute_result"
    }
   ],
   "source": [
    "control = np.array([[1,0,1],\n",
    "                    [2,1,0],\n",
    "                    [1,2,2]])\n",
    "\n",
    "np.choose(control, [10, 11, 12])"
   ]
  },
  {
   "cell_type": "markdown",
   "metadata": {},
   "source": [
    "\n",
    "在上面的例子中，choose 将 0,1,2 对应的值映射为了 10, 11, 12，这里的 0,1,2 表示对应的下标。\n",
    "\n",
    "事实上， choose 不仅仅能接受下标参数，还可以接受下标所在的位置\n",
    "\n",
    "下面的例子将数组中所有小于 10 的值变成了 10。"
   ]
  },
  {
   "cell_type": "code",
   "execution_count": 7,
   "metadata": {},
   "outputs": [
    {
     "data": {
      "text/plain": [
       "array([[ True,  True,  True],\n",
       "       [False, False, False],\n",
       "       [False, False, False]])"
      ]
     },
     "execution_count": 7,
     "metadata": {},
     "output_type": "execute_result"
    }
   ],
   "source": [
    "\n",
    "a = np.array([[ 0, 1, 2], \n",
    "              [10,11,12], \n",
    "              [20,21,22]])\n",
    "\n",
    "a < 10"
   ]
  },
  {
   "cell_type": "code",
   "execution_count": 8,
   "metadata": {},
   "outputs": [
    {
     "data": {
      "text/plain": [
       "array([[10, 10, 10],\n",
       "       [10, 11, 12],\n",
       "       [20, 21, 22]])"
      ]
     },
     "execution_count": 8,
     "metadata": {},
     "output_type": "execute_result"
    }
   ],
   "source": [
    "np.choose(a < 10, (a, 10))"
   ]
  },
  {
   "cell_type": "markdown",
   "metadata": {},
   "source": [
    "## 数组广播机制"
   ]
  },
  {
   "cell_type": "code",
   "execution_count": 9,
   "metadata": {},
   "outputs": [
    {
     "data": {
      "text/plain": [
       "array([[ 0,  1,  2],\n",
       "       [10, 11, 12],\n",
       "       [20, 21, 22],\n",
       "       [30, 31, 32]])"
      ]
     },
     "execution_count": 9,
     "metadata": {},
     "output_type": "execute_result"
    }
   ],
   "source": [
    "a = np.array([[ 0, 0, 0],\n",
    "              [10,10,10],\n",
    "              [20,20,20],\n",
    "              [30,30,30]])\n",
    "b = np.array([0,1,2])\n",
    "\n",
    "a + b"
   ]
  },
  {
   "cell_type": "markdown",
   "metadata": {},
   "source": [
    "虽然两个数组的维数不一样，但是 Numpy 检测到 b 的维度与 a 的维度匹配，所以将 b 扩展为之前的形式，得到相同的形状。\n",
    "\n",
    "对于更高维度，这样的扩展依然有效。\n",
    "\n",
    "如果我们再将 a 变成一个列向量呢？"
   ]
  },
  {
   "cell_type": "code",
   "execution_count": 10,
   "metadata": {},
   "outputs": [
    {
     "data": {
      "text/plain": [
       "array([[ 0],\n",
       "       [10],\n",
       "       [20],\n",
       "       [30]])"
      ]
     },
     "execution_count": 10,
     "metadata": {},
     "output_type": "execute_result"
    }
   ],
   "source": [
    "a = np.array([0,10,20,30])\n",
    "a.shape = 4,1\n",
    "a"
   ]
  },
  {
   "cell_type": "code",
   "execution_count": 11,
   "metadata": {},
   "outputs": [
    {
     "data": {
      "text/plain": [
       "array([[ 0,  1,  2],\n",
       "       [10, 11, 12],\n",
       "       [20, 21, 22],\n",
       "       [30, 31, 32]])"
      ]
     },
     "execution_count": 11,
     "metadata": {},
     "output_type": "execute_result"
    }
   ],
   "source": [
    "\n",
    "a + b"
   ]
  },
  {
   "cell_type": "markdown",
   "metadata": {},
   "source": [
    "## 数组读写"
   ]
  },
  {
   "cell_type": "code",
   "execution_count": 12,
   "metadata": {},
   "outputs": [
    {
     "name": "stdout",
     "output_type": "stream",
     "text": [
      "Writing myfile.txt\n"
     ]
    }
   ],
   "source": [
    "\n",
    "%%writefile myfile.txt\n",
    "2.1 2.3 3.2 1.3 3.1\n",
    "6.1 3.1 4.2 2.3 1.8"
   ]
  },
  {
   "cell_type": "code",
   "execution_count": 13,
   "metadata": {},
   "outputs": [],
   "source": [
    "data = []\n",
    "\n",
    "with open('myfile.txt') as f:\n",
    "    # 每次读一行\n",
    "    for line in f:\n",
    "        fileds = line.split()\n",
    "        row_data = [float(x) for x in fileds]\n",
    "        data.append(row_data)\n",
    "\n",
    "data = np.array(data)"
   ]
  },
  {
   "cell_type": "code",
   "execution_count": 14,
   "metadata": {},
   "outputs": [
    {
     "data": {
      "text/plain": [
       "array([[2.1, 2.3, 3.2, 1.3, 3.1],\n",
       "       [6.1, 3.1, 4.2, 2.3, 1.8]])"
      ]
     },
     "execution_count": 14,
     "metadata": {},
     "output_type": "execute_result"
    }
   ],
   "source": [
    "data"
   ]
  },
  {
   "cell_type": "markdown",
   "metadata": {},
   "source": [
    "不过，更简便的是使用 loadtxt 方法："
   ]
  },
  {
   "cell_type": "code",
   "execution_count": 15,
   "metadata": {},
   "outputs": [
    {
     "data": {
      "text/plain": [
       "array([[2.1, 2.3, 3.2, 1.3, 3.1],\n",
       "       [6.1, 3.1, 4.2, 2.3, 1.8]])"
      ]
     },
     "execution_count": 15,
     "metadata": {},
     "output_type": "execute_result"
    }
   ],
   "source": [
    "\n",
    "data = np.loadtxt('myfile.txt')\n",
    "data"
   ]
  },
  {
   "cell_type": "markdown",
   "metadata": {},
   "source": [
    "loadtxt 函数\n",
    "loadtxt(fname, dtype=<type 'float'>, \n",
    "        comments='#', delimiter=None, \n",
    "        converters=None, skiprows=0, \n",
    "        usecols=None, unpack=False, ndmin=0)\n",
    "\n",
    "loadtxt 有很多可选参数，其中 delimiter 就是刚才用到的分隔符参数。\n",
    "\n",
    "skiprows 参数表示忽略开头的行数，可以用来读写含有标题的文本"
   ]
  },
  {
   "cell_type": "code",
   "execution_count": 16,
   "metadata": {},
   "outputs": [
    {
     "name": "stdout",
     "output_type": "stream",
     "text": [
      "Overwriting myfile.txt\n"
     ]
    }
   ],
   "source": [
    "\n",
    "%%writefile myfile.txt\n",
    " -- BEGINNING OF THE FILE\n",
    "% Day, Month, Year, Skip, Power\n",
    "01, 01, 2000, x876, 13 % wow!\n",
    "% we don't want have Jan 03rd\n",
    "04, 01, 2000, xfed, 55"
   ]
  },
  {
   "cell_type": "code",
   "execution_count": 17,
   "metadata": {},
   "outputs": [
    {
     "data": {
      "text/plain": [
       "array([[   1,    1, 2000,   13],\n",
       "       [   4,    1, 2000,   55]])"
      ]
     },
     "execution_count": 17,
     "metadata": {},
     "output_type": "execute_result"
    }
   ],
   "source": [
    "\n",
    "data = np.loadtxt('myfile.txt', \n",
    "                  skiprows=1,         #忽略第一行\n",
    "                  dtype=np.int,      #数组类型\n",
    "                  delimiter=',',     #逗号分割\n",
    "                  usecols=(0,1,2,4), #指定使用哪几列数据\n",
    "                  comments='%'       #百分号为注释符\n",
    "                 )\n",
    "data"
   ]
  },
  {
   "cell_type": "code",
   "execution_count": 18,
   "metadata": {},
   "outputs": [],
   "source": [
    "\n",
    "import os\n",
    "os.remove('myfile.txt')"
   ]
  },
  {
   "cell_type": "markdown",
   "metadata": {},
   "source": [
    "\n",
    "|文件格式\t|使用的包\t|函数|\n",
    "|txt\t   |numpy|\tloadtxt, genfromtxt, fromfile, savetxt, tofile|\n",
    "|csv\t   |csv\t|reader, writer|\n",
    "|Matlab    |scipy.io|\tloadmat, savemat|\n",
    "|hdf      |pytables,| h5py\t|\n",
    "|NetCDF    |netCDF4, scipy.io.netcdf|\tnetCDF4.Dataset, scipy.io.netcdf.netcdf_file|\n",
    "|文件格式   |使用的包|\t备注|\n",
    "|wav      |\tscipy.io.wavfile|\t音频文件|\n",
    "|jpeg,png,...|PIL, scipy.misc.pilutil|\t图像文件|\n",
    "|fits     |\tpyfits|\t天文图像|\n",
    "此外， pandas ——一个用来处理时间序列的包中包含处理各种文件的方法"
   ]
  },
  {
   "cell_type": "markdown",
   "metadata": {},
   "source": [
    "### 将数组写入文件"
   ]
  },
  {
   "cell_type": "code",
   "execution_count": 19,
   "metadata": {},
   "outputs": [],
   "source": [
    "\n",
    "data = np.array([[1,2], \n",
    "                 [3,4]])\n",
    "\n",
    "np.savetxt('out.txt', data, fmt=\"%.2f\", delimiter=',') #保存为2位小数的浮点数，用逗号分隔"
   ]
  },
  {
   "cell_type": "code",
   "execution_count": 21,
   "metadata": {},
   "outputs": [
    {
     "name": "stdout",
     "output_type": "stream",
     "text": [
      "1.00,2.00\n",
      "\n",
      "3.00,4.00\n",
      "\n"
     ]
    }
   ],
   "source": [
    "\n",
    "with open('out.txt') as f:\n",
    "    for line in f:\n",
    "        print (line),"
   ]
  },
  {
   "cell_type": "markdown",
   "metadata": {},
   "source": [
    "\n",
    "更多参数：\n",
    "\n",
    "savetxt(fname, \n",
    "        X, \n",
    "        fmt='%.18e', \n",
    "        delimiter=' ', \n",
    "        newline='\\n', \n",
    "        header='', \n",
    "        footer='', \n",
    "        comments='# ')"
   ]
  },
  {
   "cell_type": "code",
   "execution_count": 22,
   "metadata": {},
   "outputs": [],
   "source": [
    "import os\n",
    "os.remove('out.txt')"
   ]
  },
  {
   "cell_type": "markdown",
   "metadata": {},
   "source": [
    "\n",
    "### Numpy 二进制格式\n",
    "数组可以储存成二进制格式，单个的数组保存为 .npy 格式，多个数组保存为多个.npy文件组成的 .npz 格式，每个 .npy 文件包含一个数组。\n",
    "\n",
    "与文本格式不同，二进制格式保存了数组的 shape, dtype 信息，以便完全重构出保存的数组。\n",
    "\n",
    "保存的方法：\n",
    "\n",
    "save(file, arr) 保存单个数组，.npy 格式\n",
    "savez(file, *args, **kwds) 保存多个数组，无压缩的 .npz 格式\n",
    "savez_compressed(file, *args, **kwds) 保存多个数组，有压缩的 .npz 格式\n",
    "读取的方法：\n",
    "\n",
    "load(file, mmap_mode=None) 对于 .npy，返回保存的数组，对于 .npz，返回一个名称-数组对组成的字典。"
   ]
  },
  {
   "cell_type": "code",
   "execution_count": 23,
   "metadata": {},
   "outputs": [],
   "source": [
    "a = np.array([[1.0,2.0], \n",
    "              [3.0,4.0]])\n",
    "b = np.arange(1000)\n",
    "np.savez('data.npz', a=a, b=b)"
   ]
  },
  {
   "cell_type": "code",
   "execution_count": 24,
   "metadata": {},
   "outputs": [
    {
     "name": "stderr",
     "output_type": "stream",
     "text": [
      "'unzip' 不是内部或外部命令，也不是可运行的程序\n",
      "或批处理文件。\n"
     ]
    }
   ],
   "source": [
    "!unzip -l data.npz"
   ]
  },
  {
   "cell_type": "code",
   "execution_count": 25,
   "metadata": {},
   "outputs": [
    {
     "data": {
      "text/plain": [
       "['a', 'b']"
      ]
     },
     "execution_count": 25,
     "metadata": {},
     "output_type": "execute_result"
    }
   ],
   "source": [
    "data = np.load('data.npz')\n",
    "\n",
    "data.keys()"
   ]
  },
  {
   "cell_type": "code",
   "execution_count": 27,
   "metadata": {},
   "outputs": [
    {
     "data": {
      "text/plain": [
       "array([[1., 2.],\n",
       "       [3., 4.]])"
      ]
     },
     "execution_count": 27,
     "metadata": {},
     "output_type": "execute_result"
    }
   ],
   "source": [
    "\n",
    "data['a']"
   ]
  },
  {
   "cell_type": "code",
   "execution_count": 28,
   "metadata": {},
   "outputs": [],
   "source": [
    "# 要先删除 data，否则删除时会报错\n",
    "del data\n",
    "\n",
    "os.remove('data.npz')"
   ]
  },
  {
   "cell_type": "markdown",
   "metadata": {},
   "source": [
    "## 结构化数组"
   ]
  },
  {
   "cell_type": "markdown",
   "metadata": {},
   "source": [
    "希望定义一个一维数组，每个元素有三个属性 name, age, wgt，此时我们需要使用结构化数组。\n",
    "\n"
   ]
  },
  {
   "cell_type": "code",
   "execution_count": 29,
   "metadata": {},
   "outputs": [],
   "source": [
    "\n",
    "person_dtype = np.dtype([('name', 'S10'), ('age', 'int'), ('weight', 'float')])"
   ]
  },
  {
   "cell_type": "markdown",
   "metadata": {},
   "source": [
    "\n",
    "产生一个 3 x 4 共12人的空结构体数组："
   ]
  },
  {
   "cell_type": "code",
   "execution_count": 30,
   "metadata": {},
   "outputs": [],
   "source": [
    "people = np.empty((3,4), person_dtype)"
   ]
  },
  {
   "cell_type": "markdown",
   "metadata": {},
   "source": [
    "\n",
    "分别赋值："
   ]
  },
  {
   "cell_type": "code",
   "execution_count": 31,
   "metadata": {},
   "outputs": [
    {
     "name": "stdout",
     "output_type": "stream",
     "text": [
      "[[(b'Brad', 33, 8.45528067e-307) (b'Jane', 25, 8.27578359e-313)\n",
      "  (b'John', 47, 4.45014772e-308) (b'Fred', 54, 2.46151512e-312)]\n",
      " [(b'Henry', 29, 1.60205318e-306) (b'George', 61, 1.23075756e-312)\n",
      "  (b'Brain', 32, 9.34531022e-307) (b'Amy', 27, 2.20687562e-312)]\n",
      " [(b'Ron', 19, 4.45014772e-308) (b'Susan', 33, 1.01855798e-312)\n",
      "  (b'Jennife', 18, 1.39067117e-308) (b'Jill', 54, 0.00000000e+000)]]\n"
     ]
    }
   ],
   "source": [
    "\n",
    "people['name'] = [['Brad', 'Jane', 'John', 'Fred'],\n",
    "                  ['Henry', 'George', 'Brain', 'Amy'],\n",
    "                  ['Ron', 'Susan', 'Jennife', 'Jill']]\n",
    "\n",
    "\n",
    "people['age'] = [[33, 25, 47, 54],\n",
    "                 [29, 61, 32, 27],\n",
    "                 [19, 33, 18, 54]]\n",
    "\n",
    "people['age'] = [[33, 25, 47, 54],\n",
    "                 [29, 61, 32, 27],\n",
    "                 [19, 33, 18, 54]]\n",
    "\n",
    "print (people)"
   ]
  },
  {
   "cell_type": "markdown",
   "metadata": {},
   "source": [
    "### 从文本中读取结构化数组"
   ]
  },
  {
   "cell_type": "code",
   "execution_count": 32,
   "metadata": {},
   "outputs": [
    {
     "name": "stdout",
     "output_type": "stream",
     "text": [
      "Writing people.txt\n"
     ]
    }
   ],
   "source": [
    "%%writefile people.txt\n",
    "name age weight\n",
    "amy 11 38.2\n",
    "john 10 40.3\n",
    "bill 12 21.2"
   ]
  },
  {
   "cell_type": "code",
   "execution_count": 33,
   "metadata": {},
   "outputs": [
    {
     "data": {
      "text/plain": [
       "array([(b'amy', 11, 38.2), (b'john', 10, 40.3), (b'bill', 12, 21.2)],\n",
       "      dtype=[('name', 'S10'), ('age', '<i4'), ('weight', '<f8')])"
      ]
     },
     "execution_count": 33,
     "metadata": {},
     "output_type": "execute_result"
    }
   ],
   "source": [
    "person_dtype = np.dtype([('name', 'S10'), ('age', 'int'), ('weight', 'float')])\n",
    "\n",
    "people = np.loadtxt('people.txt', \n",
    "                    skiprows=1,\n",
    "                    dtype=person_dtype)\n",
    "\n",
    "people"
   ]
  },
  {
   "cell_type": "code",
   "execution_count": 34,
   "metadata": {},
   "outputs": [
    {
     "data": {
      "text/plain": [
       "array([b'amy', b'john', b'bill'], dtype='|S10')"
      ]
     },
     "execution_count": 34,
     "metadata": {},
     "output_type": "execute_result"
    }
   ],
   "source": [
    "people['name']"
   ]
  },
  {
   "cell_type": "code",
   "execution_count": 35,
   "metadata": {},
   "outputs": [],
   "source": [
    "\n",
    "import os\n",
    "os.remove('people.txt')"
   ]
  },
  {
   "cell_type": "markdown",
   "metadata": {},
   "source": [
    "## 记录数组\n",
    "记录数组（record array）与结构数组类似："
   ]
  },
  {
   "cell_type": "code",
   "execution_count": 36,
   "metadata": {},
   "outputs": [],
   "source": [
    "partical_dtype = np.dtype([('mass', 'float'), \n",
    "                           ('velocity', 'float')])"
   ]
  },
  {
   "cell_type": "code",
   "execution_count": 37,
   "metadata": {},
   "outputs": [
    {
     "data": {
      "text/plain": [
       "rec.array([(1., 1.), (1., 2.), (2., 1.), (1., 3.)],\n",
       "          dtype=[('mass', '<f8'), ('velocity', '<f8')])"
      ]
     },
     "execution_count": 37,
     "metadata": {},
     "output_type": "execute_result"
    }
   ],
   "source": [
    "from numpy import rec\n",
    "\n",
    "particals_rec = rec.fromrecords([(1,1), (1,2), (2,1), (1,3)], \n",
    "                                dtype = partical_dtype)\n",
    "particals_rec"
   ]
  },
  {
   "cell_type": "code",
   "execution_count": 38,
   "metadata": {},
   "outputs": [
    {
     "data": {
      "text/plain": [
       "array([1., 1., 2., 1.])"
      ]
     },
     "execution_count": 38,
     "metadata": {},
     "output_type": "execute_result"
    }
   ],
   "source": [
    "particals_rec.mass"
   ]
  },
  {
   "cell_type": "markdown",
   "metadata": {},
   "source": [
    "\n",
    "### array 还是 matrix？\n",
    "Numpy 中不仅提供了 array 这个基本类型，还提供了支持矩阵操作的类 matrix，但是一般推荐使用 array：\n",
    "\n",
    "很多 numpy 函数返回的是 array，不是 matrix\n",
    "在 array 中，逐元素操作和矩阵操作有着明显的不同\n",
    "向量可以不被视为矩阵\n",
    "具体说来：\n",
    "\n",
    "*， dot(), multiply()\n",
    "array：* -逐元素乘法，dot() -矩阵乘法\n",
    "matrix：* -矩阵乘法，multiply() -逐元素乘法\n",
    "处理向量\n",
    "array：形状为 1xN, Nx1, N 的向量的意义是不同的，类似于 A[:,1] 的操作返回的是一维数组，形状为 N，一维数组的转置仍是自己本身\n",
    "matrix：形状为 1xN, Nx1，A[:,1] 返回的是二维 Nx1 矩阵\n",
    "高维数组\n",
    "array：支持大于2的维度\n",
    "matrix：维度只能为2\n",
    "属性\n",
    "array：.T 表示转置\n",
    "matrix：.H 表示复共轭转置，.I 表示逆，.A 表示转化为 array 类型\n",
    "构造函数\n",
    "array：array 函数接受一个（嵌套）序列作为参数——array([[1,2,3],[4,5,6]])\n",
    "matrix：matrix 函数额外支持字符串参数——matrix(\"[1 2 3; 4 5 6]\")\n",
    "其优缺点各自如下：\n",
    "\n",
    "array\n",
    "\n",
    "[GOOD] 一维数组既可以看成列向量，也可以看成行向量。v 在 dot(A,v) 被看成列向量，在 dot(v,A) 中被看成行向量，这样省去了转置的麻烦\n",
    "[BAD!] 矩阵乘法需要使用 dot() 函数，如： dot(dot(A,B),C) vs A*B*C\n",
    "[GOOD] 逐元素乘法很简单： A*B\n",
    "[GOOD] 作为基本类型，是很多基于 numpy 的第三方库函数的返回类型\n",
    "[GOOD] 所有的操作 *,/,+,**,... 都是逐元素的\n",
    "[GOOD] 可以处理任意维度的数据\n",
    "[GOOD] 张量运算\n",
    "matrix\n",
    "\n",
    "[GOOD] 类似与 MATLAB 的操作\n",
    "[BAD!] 最高维度为2\n",
    "[BAD!] 最低维度也为2\n",
    "[BAD!] 很多函数返回的是 array，即使传入的参数是 matrix\n",
    "[GOOD] A*B 是矩阵乘法\n",
    "[BAD!] 逐元素乘法需要调用 multiply 函数\n",
    "[BAD!] / 是逐元素操作\n",
    "当然在实际使用中，二者的使用取决于具体情况。\n",
    "\n",
    "二者可以互相转化：\n",
    "\n",
    "asarray ：返回数组\n",
    "asmatrix（或者mat） ：返回矩阵\n",
    "asanyarray ：返回数组或者数组的子类，注意到矩阵是数组的一个子类，所以输入是矩阵的时候返回的也是矩阵"
   ]
  }
 ],
 "metadata": {
  "kernelspec": {
   "display_name": "Python 3",
   "language": "python",
   "name": "python3"
  },
  "language_info": {
   "codemirror_mode": {
    "name": "ipython",
    "version": 3
   },
   "file_extension": ".py",
   "mimetype": "text/x-python",
   "name": "python",
   "nbconvert_exporter": "python",
   "pygments_lexer": "ipython3",
   "version": "3.6.1"
  }
 },
 "nbformat": 4,
 "nbformat_minor": 2
}
