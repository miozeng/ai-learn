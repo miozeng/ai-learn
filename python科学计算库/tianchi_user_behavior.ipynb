{
 "cells": [
  {
   "cell_type": "markdown",
   "metadata": {},
   "source": [
    "# 天池-新人实战赛之[离线赛]\n"
   ]
  },
  {
   "cell_type": "code",
   "execution_count": 3,
   "metadata": {},
   "outputs": [],
   "source": [
    "import pandas as pd, numpy as np\n",
    "import matplotlib.pyplot as plt\n",
    "#Jupyter 设置\n",
    "%matplotlib inline"
   ]
  },
  {
   "cell_type": "code",
   "execution_count": 42,
   "metadata": {},
   "outputs": [
    {
     "name": "stdout",
     "output_type": "stream",
     "text": [
      "23291027\n"
     ]
    }
   ],
   "source": [
    "#读取输入\n",
    "df_user_data = pd.read_csv('data/tianchi_fresh_comp_train_user.csv')\n",
    "df_item_data = pd.read_csv('data/tianchi_fresh_comp_train_item.csv')\n",
    "\n",
    "# df_user_data = pd.read_csv('data/test_user.csv',names=['user_id','item_id','behavior_type','user_geohash','item_category','time'])\n",
    "print(len(df_user_data))\n",
    "# df_user_data"
   ]
  },
  {
   "cell_type": "code",
   "execution_count": 43,
   "metadata": {},
   "outputs": [
    {
     "name": "stdout",
     "output_type": "stream",
     "text": [
      "20000\n"
     ]
    }
   ],
   "source": [
    "dict={}\n",
    "for i in range(len(df_user_data)):\n",
    "   \n",
    "    if(i <1):\n",
    "        continue\n",
    "    userid = df_user_data['user_id'][i]\n",
    "    ls = dict.get(userid,0)\n",
    "    if(ls):\n",
    "        dict[userid]=userid\n",
    "    else:\n",
    "        dict[userid]=userid\n",
    "        \n",
    "print(len(dict))\n"
   ]
  },
  {
   "cell_type": "code",
   "execution_count": 49,
   "metadata": {},
   "outputs": [
    {
     "name": "stdout",
     "output_type": "stream",
     "text": [
      "dict[37047140]= 37047140\n"
     ]
    }
   ],
   "source": [
    "i=0\n",
    "for (k,v) in  dict.items(): \n",
    "    if(i==18000):\n",
    "        print (\"dict[%s]=\" % k,v )\n",
    "    i=i+1"
   ]
  },
  {
   "cell_type": "markdown",
   "metadata": {},
   "source": [
    "统计数据，总共有23291027数据，2w个用户，将1.8w的用户作为训练数据集，0.2W条数据作为验证数据集,根据计算应该是以user_id =37047140 为分割\n"
   ]
  },
  {
   "cell_type": "markdown",
   "metadata": {},
   "source": [
    "behavior_type \t\n",
    " 包括浏览、收藏、加购物车、购买，对应取值分别是1、2、3、4。\n",
    " \n",
    " 一数据处理\n",
    " 获取数据，根据userid 分组 时间排序排序\n",
    " \n",
    " 2.使用模型LSTM\n",
    " X：Time\n",
    " Y：category"
   ]
  },
  {
   "cell_type": "code",
   "execution_count": null,
   "metadata": {},
   "outputs": [],
   "source": [
    "# convert an array of values into a dataset matrix\n",
    "def create_dataset(dataset, look_back=1):\n",
    "    dataX, dataY = [], []\n",
    "    for i in range(len(dataset)-look_back-1):\n",
    "        a = dataset[i:(i+look_back), 0]\n",
    "        dataX.append(a)\n",
    "        dataY.append(dataset[i + look_back, 0])\n",
    "    return numpy.array(dataX), numpy.array(dataY)\n",
    "\n",
    "# fix random seed for reproducibility\n",
    "numpy.random.seed(7)"
   ]
  }
 ],
 "metadata": {
  "kernelspec": {
   "display_name": "Python 3",
   "language": "python",
   "name": "python3"
  },
  "language_info": {
   "codemirror_mode": {
    "name": "ipython",
    "version": 3
   },
   "file_extension": ".py",
   "mimetype": "text/x-python",
   "name": "python",
   "nbconvert_exporter": "python",
   "pygments_lexer": "ipython3",
   "version": "3.6.1"
  }
 },
 "nbformat": 4,
 "nbformat_minor": 2
}
