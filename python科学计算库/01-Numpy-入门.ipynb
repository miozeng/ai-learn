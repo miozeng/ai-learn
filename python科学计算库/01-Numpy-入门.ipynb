{
 "cells": [
  {
   "cell_type": "raw",
   "metadata": {},
   "source": [
    "# Numpy"
   ]
  },
  {
   "cell_type": "raw",
   "metadata": {},
   "source": [
    "\n",
    "导入numpy\n",
    "Numpy是Python的一个很重要的第三方库，很多其他科学计算的第三方库都是以Numpy为基础建立的。\n",
    "\n",
    "Numpy的一个重要特性是它的数组计算。用来存储和处理大型矩阵"
   ]
  },
  {
   "cell_type": "markdown",
   "metadata": {},
   "source": [
    "    \"||作用|\\n\",\n",
    "    \"|-|-|\\n\",\n",
    "    \"|1|**基本属性**\\n\",\n",
    "    \"|`a.dtype`|数组元素类型 `float32,uint8,...`\\n\",\n",
    "    \"|`a.shape`|数组形状 `(m,n,o,...)`\\n\",\n",
    "    \"|`a.size`|数组元素数\\n\",\n",
    "    \"|`a.itemsize`|每个元素占字节数\\n\",\n",
    "    \"|`a.nbytes`|所有元素占的字节\\n\",\n",
    "    \"|`a.ndim`|数组维度\\n\",\n",
    "    \"|2|**形状相关**\\n\",\n",
    "    \"|`a.flat`|所有元素的迭代器\\n\",\n",
    "    \"|`a.flatten()`|返回一个1维数组的复制\\n\",\n",
    "    \"|`a.ravel()`|返回一个1维数组，高效\\n\",\n",
    "    \"|`a.resize(new_size)`|改变形状\\n\",\n",
    "    \"|`a.swapaxes(axis1, axis2)`|交换两个维度的位置\\n\",\n",
    "    \"|`a.transpose(*axex)`|交换所有维度的位置\\n\",\n",
    "    \"|`a.T`|转置，`a.transpose()`\\n\",\n",
    "    \"|`a.squeeze()`| 去除所有长度为1的维度\\n\",\n",
    "    \"|3|**填充复制**\\n\",\n",
    "    \"|`a.copy()`| 返回数组的一个复制\\n\",\n",
    "    \"|`a.fill(value)`| 将数组的元组设置为特定值\\n\",\n",
    "    \"|4|**转化**\\n\",\n",
    "    \"|`a.tolist()`|将数组转化为列表\\n\",\n",
    "    \"|`a.tostring()`|转换为字符串\\n\",\n",
    "    \"|`a.astype(dtype)`|转化为指定类型\\n\",\n",
    "    \"|`a.byteswap(False)`|转换大小字节序\\n\",\n",
    "    \"|`a.view(type_or_dtype)`|生成一个使用相同内存，但使用不同的表示方法的数组\\n\",\n",
    "    \"|5|**复数**\\n\",\n",
    "    \"|`a.imag`|虚部\\n\",\n",
    "    \"|`a.real`|实部\\n\",\n",
    "    \"|`a.conjugate()`|复共轭\\n\",\n",
    "    \"|`a.conj()`|复共轭（缩写）\\n\",\n",
    "    \"|6|**保存**\\n\",\n",
    "    \"|`a.dump(file)`|将二进制数据存在file中\\n\",\n",
    "    \"|`a.dump()`|将二进制数据表示成字符串\\n\",\n",
    "    \"|`a.tofile(fid, sep=\\\"\\\",format=\\\"%s\\\")`|格式化ASCⅡ码写入文件\\n\",\n",
    "    \"|7|**查找排序**\\n\",\n",
    "    \"|`a.nonzero()`|返回所有非零元素的索引\\n\",\n",
    "    \"|`a.sort(axis=-1)`|沿某个轴排序\\n\",\n",
    "    \"|`a.argsort(axis=-1)`|沿某个轴，返回按排序的索引\\n\",\n",
    "    \"|`a.searchsorted(b)`|返回将b中元素插入a后能保持有序的索引值\\n\",\n",
    "    \"|8|**元素数学操作**\\n\",\n",
    "    \"|`a.clip(low, high)`|将数值限制在一定范围内\\n\",\n",
    "    \"|`a.round(decimals=0)`|近似到指定精度\\n\",\n",
    "    \"|`a.cumsum(axis=None)`|累加和\\n\",\n",
    "    \"|`a.cumprod(axis=None)`|累乘积\\n\",\n",
    "    \"|9|**约简操作**\\n\",\n",
    "    \"|`a.sum(axis=None)`|求和\\n\",\n",
    "    \"|`a.prod(axis=None)`|求积\\n\",\n",
    "    \"|`a.min(axis=None)`|最小值\\n\",\n",
    "    \"|`a.max(axis=None)`|最大值\\n\",\n",
    "    \"|`a.argmin(axis=None)`|最小值索引\\n\",\n",
    "    \"|`a.argmax(axis=None)`|最大值索引\\n\",\n",
    "    \"|`a.ptp(axis=None)`|最大值减最小值\\n\",\n",
    "    \"|`a.mean(axis=None)`|平均值\\n\",\n",
    "    \"|`a.std(axis=None)`|标准差\\n\",\n",
    "    \"|`a.var(axis=None)`|方差\\n\",\n",
    "    \"|`a.any(axis=None)`|只要有一个不为0，返回真，逻辑或\\n\",\n",
    "    \"|`a.all(axis=None)`|所有都不为0，返回真，逻辑与\""
   ]
  },
  {
   "cell_type": "code",
   "execution_count": 1,
   "metadata": {},
   "outputs": [],
   "source": [
    "import numpy as np \n",
    "import time\n",
    "from matplotlib.pyplot import axis\n",
    "\n"
   ]
  },
  {
   "cell_type": "markdown",
   "metadata": {},
   "source": [
    "## 创建数组 "
   ]
  },
  {
   "cell_type": "markdown",
   "metadata": {},
   "source": [
    "array:\n",
    "arange :arange(start, stop=None, step=1, dtype=None)\n",
    "产生一个在区间 \\[start, stop) 之间，以 step 为间隔的数组，如果只输入一个参数，则默认从 0 开始，并以这个值为结束：\n",
    "\n",
    "np.zeros/empty/ones:传入形状即可\n",
    "\n",
    "empty_like, ones_like, zeros_like\n",
    "empty_like(a)、ones_like(a)、zeros_like(a)\n",
    "产生一个跟 a 大小一样，类型一样的对应数组\n",
    "\n",
    "np.diag():对角阵\n",
    "\n",
    "linspace:linspace(start, stop, N) 产生 N 个等距分布在 [start, stop\\]间的元素组成的数组，包括 start, stop,第一个参数表示起始点、第二个参数表示终止点，第三个参数表示数列的个数\n",
    "\n",
    "logspace：logspace(start, stop, N)、产生 N 个对数等距分布的数组，默认以10为底\n",
    "\n",
    "identity：indentity(n, dtype=float64)产生一个 n 乘 n 的单位矩阵\n",
    "\n",
    "reshape:可以创建一个改变了尺寸的新数组，原数组的shape保持不变\n",
    "数组a和d其实共享数据存储内存区域，因此修改其中任意一个数组的元素都会同时修改另外一个数组的内容\n"
   ]
  },
  {
   "cell_type": "code",
   "execution_count": 12,
   "metadata": {},
   "outputs": [
    {
     "name": "stdout",
     "output_type": "stream",
     "text": [
      "[1 2 3 4]\n",
      "[[1 2]\n",
      " [3 4]]\n",
      "[[1 0 0]\n",
      " [0 2 0]\n",
      " [0 0 3]]\n",
      "[[10 11 12]\n",
      " [13 14 15]\n",
      " [16 17 18]]\n",
      "[10 14 18]\n",
      "[11 15]\n"
     ]
    }
   ],
   "source": [
    "a = np.array([1,2,3,4])\n",
    "d = a.reshape((2,2))\n",
    "print(a)\n",
    "print(d)\n",
    "print(np.diag((1,2,3)))# 创建对角阵\n",
    "x = np.arange(10,19).reshape((3,3))\n",
    "print(x)\n",
    "print(np.diag(x)) #提取对角\n",
    "print(np.diag(x,1)) #注意对角线的位置"
   ]
  },
  {
   "cell_type": "markdown",
   "metadata": {},
   "source": [
    "## 向量化的优势 "
   ]
  },
  {
   "cell_type": "code",
   "execution_count": 5,
   "metadata": {},
   "outputs": [
    {
     "data": {
      "text/plain": [
       "array([2, 3, 4, 5])"
      ]
     },
     "execution_count": 5,
     "metadata": {},
     "output_type": "execute_result"
    }
   ],
   "source": [
    "a + 1"
   ]
  },
  {
   "cell_type": "code",
   "execution_count": 6,
   "metadata": {},
   "outputs": [
    {
     "data": {
      "text/plain": [
       "array([3, 5, 7, 9])"
      ]
     },
     "execution_count": 6,
     "metadata": {},
     "output_type": "execute_result"
    }
   ],
   "source": [
    "b = np.array([2, 3, 4, 5])\n",
    "a + b"
   ]
  },
  {
   "cell_type": "markdown",
   "metadata": {},
   "source": [
    " compare  vectorization and for loop"
   ]
  },
  {
   "cell_type": "code",
   "execution_count": 11,
   "metadata": {},
   "outputs": [
    {
     "name": "stdout",
     "output_type": "stream",
     "text": [
      "249910.36933394146\n",
      "vectorization:69.00405883789062ms\n",
      "1.550543941266711\n",
      "vectorization:349.9951362609863ms\n"
     ]
    }
   ],
   "source": [
    "a = np.random.rand(1000000)\n",
    "b = np.random.rand(1000000)\n",
    "tic = time.time()\n",
    "c=np.dot(a,b)\n",
    "toc = time.time()\n",
    "\n",
    "print(c)\n",
    "print(\"vectorization:\" +str(1000*(toc-tic))+\"ms\")\n",
    "\n",
    "c=0\n",
    "tic = time.time()\n",
    "for i in range(1000000):\n",
    "    c=a[i]+b[i];\n",
    "toc = time.time()\n",
    "print(c)\n",
    "print(\"vectorization:\" +str(1000*(toc-tic))+\"ms\")"
   ]
  },
  {
   "cell_type": "markdown",
   "metadata": {},
   "source": [
    "## random函数"
   ]
  },
  {
   "cell_type": "raw",
   "metadata": {},
   "source": [
    "1 numpy.random.rand(d0,d1,…,dn)\n",
    "rand函数根据给定维度生成[0,1)之间的数据，包含0，不包含1\n",
    "dn表格每个维度\n",
    "返回值为指定维度的array\n",
    "\n",
    "2 numpy.random.randn(d0,d1,…,dn)\n",
    "randn函数返回一个或一组样本，具有标准正态分布。\n",
    "\n",
    "3 numpy.random.randint(low, high=None, size=None, dtype=’l’)\n",
    "返回随机整数，范围区间为[low,high），包含low，不包含high\n",
    "参数：low为最小值，high为最大值，size为数组维度大小，dtype为数据类型，默认的数据类型是np.int\n",
    "high没有填写时，默认生成随机数的范围是[0，low)\n",
    "\n",
    "4.numpy.random.random_integers(low, high=None, size=None)\n",
    "返回随机整数，范围区间为[low,high]，包含low和high\n",
    "\n",
    "5.numpy.random.choice(a, size=None, replace=True, p=None)\n",
    "从给定的一维数组中生成随机数\n",
    "参数： a为一维数组类似数据或整数；size为数组维度；p为数组中的数据出现的概率\n",
    "a为整数时，对应的一维数组为np.arange(a)\n",
    "\n",
    "6.np.random.seed()的作用：使得随机数据可预测。\n",
    "当我们设置相同的seed，每次生成的随机数相同。如果不设置seed，则每次会生成不同的随机数\n",
    "\n",
    "7  生成[0,1)之间的浮点数\n",
    "numpy.random.random_sample(size=None)\n",
    "numpy.random.random(size=None)\n",
    "numpy.random.ranf(size=None)\n",
    "numpy.random.sample(size=None)\n",
    "\n",
    "8 np.random.permutation（m）对原来的数组重新洗牌生成新数组而 不影响原来的数组"
   ]
  },
  {
   "cell_type": "code",
   "execution_count": 2,
   "metadata": {},
   "outputs": [
    {
     "data": {
      "text/plain": [
       "array([[0.55743778, 0.08326764],\n",
       "       [0.27658304, 0.69030943],\n",
       "       [0.34477484, 0.29308865],\n",
       "       [0.32284147, 0.11990476]])"
      ]
     },
     "execution_count": 2,
     "metadata": {},
     "output_type": "execute_result"
    }
   ],
   "source": [
    "np.random.rand(4,2)"
   ]
  },
  {
   "cell_type": "code",
   "execution_count": 3,
   "metadata": {},
   "outputs": [
    {
     "data": {
      "text/plain": [
       "array([['sansumg', 'xiaomi', 'iphone'],\n",
       "       ['xiaomi', 'lenovo', 'sansumg'],\n",
       "       ['moto', 'sansumg', 'sansumg']], dtype='<U7')"
      ]
     },
     "execution_count": 3,
     "metadata": {},
     "output_type": "execute_result"
    }
   ],
   "source": [
    "demo_list = ['lenovo', 'sansumg','moto','xiaomi', 'iphone']\n",
    "np.random.choice(demo_list,size=(3,3), p=[0.1,0.6,0.1,0.1,0.1])"
   ]
  },
  {
   "cell_type": "code",
   "execution_count": 4,
   "metadata": {},
   "outputs": [
    {
     "data": {
      "text/plain": [
       "array([0.5507979 , 0.70814782, 0.29090474, 0.51082761, 0.89294695])"
      ]
     },
     "execution_count": 4,
     "metadata": {},
     "output_type": "execute_result"
    }
   ],
   "source": [
    "np.random.seed(3)\n",
    "np.random.rand(5)"
   ]
  },
  {
   "cell_type": "code",
   "execution_count": 5,
   "metadata": {},
   "outputs": [
    {
     "data": {
      "text/plain": [
       "array([0.5507979 , 0.70814782, 0.29090474, 0.51082761, 0.89294695])"
      ]
     },
     "execution_count": 5,
     "metadata": {},
     "output_type": "execute_result"
    }
   ],
   "source": [
    "np.random.seed(3)\n",
    "np.random.rand(5)"
   ]
  },
  {
   "cell_type": "code",
   "execution_count": 7,
   "metadata": {},
   "outputs": [
    {
     "name": "stdout",
     "output_type": "stream",
     "text": [
      "[ 0  1  2  3  4  5  6  7  8  9 10 11]\n",
      "[ 3  2  1  8  4  0  6  7  5 11  9 10]\n"
     ]
    }
   ],
   "source": [
    "a = np.arange(12)  \n",
    "print(a)   \n",
    "b = np.random.permutation(a)  \n",
    "print (b)"
   ]
  },
  {
   "cell_type": "code",
   "execution_count": null,
   "metadata": {},
   "outputs": [],
   "source": []
  }
 ],
 "metadata": {
  "kernelspec": {
   "display_name": "Python 3",
   "language": "python",
   "name": "python3"
  },
  "language_info": {
   "codemirror_mode": {
    "name": "ipython",
    "version": 3
   },
   "file_extension": ".py",
   "mimetype": "text/x-python",
   "name": "python",
   "nbconvert_exporter": "python",
   "pygments_lexer": "ipython3",
   "version": "3.6.1"
  }
 },
 "nbformat": 4,
 "nbformat_minor": 2
}
