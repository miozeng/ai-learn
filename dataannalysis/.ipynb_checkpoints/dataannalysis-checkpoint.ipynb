{
 "cells": [
  {
   "cell_type": "markdown",
   "metadata": {},
   "source": [
    "# 数据分析"
   ]
  },
  {
   "cell_type": "markdown",
   "metadata": {},
   "source": [
    "使用天池新人赛的数据做一个数据分析，赛事详情\n",
    "https://tianchi.aliyun.com/competition/entrance/231702/information\n",
    "赛题使用公开数据的问卷调查结果，选取其中多组变量，包括个体变量（性别、年龄、地域、职业、健康、婚姻与政治面貌等等）、家庭变量（父母、配偶、子女、家庭资本等等）、社会态度（公平、信用、公共服务等等），来预测其对幸福感的评价。\n"
   ]
  },
  {
   "cell_type": "markdown",
   "metadata": {},
   "source": [
    "比较喜欢的数据分析的例子\n",
    "https://tianchi.aliyun.com/notebook-ai/detail?spm=5176.12282042.0.0.3bdc290aps5KBs&postId=4662\n",
    "https://tianchi.aliyun.com/notebook-ai/detail?spm=5176.12282042.0.0.3bdc290aps5KBs&postId=6772"
   ]
  },
  {
   "cell_type": "markdown",
   "metadata": {},
   "source": [
    "##  1. 数据导入"
   ]
  },
  {
   "cell_type": "code",
   "execution_count": 6,
   "metadata": {},
   "outputs": [],
   "source": [
    "# 引入需要的包\n",
    "import numpy as np\n",
    "import pandas as pd\n",
    "import seaborn as sns\n",
    "import matplotlib.pyplot as plt\n",
    "import sklearn as sklearn\n",
    "#from sklearn import preprocessing"
   ]
  },
  {
   "cell_type": "code",
   "execution_count": 7,
   "metadata": {},
   "outputs": [],
   "source": [
    "# 读取数据\n",
    "testdata = pd.read_csv('../data/dataannalysis/happiness_test_abbr.csv')\n",
    "traindata = pd.read_csv('../data/dataannalysis/happiness_train_abbr.csv')"
   ]
  },
  {
   "cell_type": "markdown",
   "metadata": {},
   "source": [
    "## 2.数据总览"
   ]
  },
  {
   "cell_type": "code",
   "execution_count": 3,
   "metadata": {},
   "outputs": [
    {
     "data": {
      "text/html": [
       "<div>\n",
       "<style scoped>\n",
       "    .dataframe tbody tr th:only-of-type {\n",
       "        vertical-align: middle;\n",
       "    }\n",
       "\n",
       "    .dataframe tbody tr th {\n",
       "        vertical-align: top;\n",
       "    }\n",
       "\n",
       "    .dataframe thead th {\n",
       "        text-align: right;\n",
       "    }\n",
       "</style>\n",
       "<table border=\"1\" class=\"dataframe\">\n",
       "  <thead>\n",
       "    <tr style=\"text-align: right;\">\n",
       "      <th></th>\n",
       "      <th>id</th>\n",
       "      <th>happiness</th>\n",
       "      <th>survey_type</th>\n",
       "      <th>province</th>\n",
       "      <th>city</th>\n",
       "      <th>county</th>\n",
       "      <th>survey_time</th>\n",
       "      <th>gender</th>\n",
       "      <th>birth</th>\n",
       "      <th>nationality</th>\n",
       "      <th>...</th>\n",
       "      <th>family_income</th>\n",
       "      <th>family_m</th>\n",
       "      <th>family_status</th>\n",
       "      <th>house</th>\n",
       "      <th>car</th>\n",
       "      <th>marital</th>\n",
       "      <th>status_peer</th>\n",
       "      <th>status_3_before</th>\n",
       "      <th>view</th>\n",
       "      <th>inc_ability</th>\n",
       "    </tr>\n",
       "  </thead>\n",
       "  <tbody>\n",
       "    <tr>\n",
       "      <th>0</th>\n",
       "      <td>1</td>\n",
       "      <td>4</td>\n",
       "      <td>1</td>\n",
       "      <td>12</td>\n",
       "      <td>32</td>\n",
       "      <td>59</td>\n",
       "      <td>2015/8/4 14:18</td>\n",
       "      <td>1</td>\n",
       "      <td>1959</td>\n",
       "      <td>1</td>\n",
       "      <td>...</td>\n",
       "      <td>60000.0</td>\n",
       "      <td>2</td>\n",
       "      <td>2</td>\n",
       "      <td>1</td>\n",
       "      <td>2</td>\n",
       "      <td>3</td>\n",
       "      <td>3</td>\n",
       "      <td>2</td>\n",
       "      <td>4</td>\n",
       "      <td>3</td>\n",
       "    </tr>\n",
       "    <tr>\n",
       "      <th>1</th>\n",
       "      <td>2</td>\n",
       "      <td>4</td>\n",
       "      <td>2</td>\n",
       "      <td>18</td>\n",
       "      <td>52</td>\n",
       "      <td>85</td>\n",
       "      <td>2015/7/21 15:04</td>\n",
       "      <td>1</td>\n",
       "      <td>1992</td>\n",
       "      <td>1</td>\n",
       "      <td>...</td>\n",
       "      <td>40000.0</td>\n",
       "      <td>3</td>\n",
       "      <td>4</td>\n",
       "      <td>1</td>\n",
       "      <td>2</td>\n",
       "      <td>1</td>\n",
       "      <td>1</td>\n",
       "      <td>1</td>\n",
       "      <td>4</td>\n",
       "      <td>2</td>\n",
       "    </tr>\n",
       "    <tr>\n",
       "      <th>2</th>\n",
       "      <td>3</td>\n",
       "      <td>4</td>\n",
       "      <td>2</td>\n",
       "      <td>29</td>\n",
       "      <td>83</td>\n",
       "      <td>126</td>\n",
       "      <td>2015/7/21 13:24</td>\n",
       "      <td>2</td>\n",
       "      <td>1967</td>\n",
       "      <td>1</td>\n",
       "      <td>...</td>\n",
       "      <td>8000.0</td>\n",
       "      <td>3</td>\n",
       "      <td>3</td>\n",
       "      <td>1</td>\n",
       "      <td>2</td>\n",
       "      <td>3</td>\n",
       "      <td>2</td>\n",
       "      <td>1</td>\n",
       "      <td>4</td>\n",
       "      <td>2</td>\n",
       "    </tr>\n",
       "    <tr>\n",
       "      <th>3</th>\n",
       "      <td>4</td>\n",
       "      <td>5</td>\n",
       "      <td>2</td>\n",
       "      <td>10</td>\n",
       "      <td>28</td>\n",
       "      <td>51</td>\n",
       "      <td>2015/7/25 17:33</td>\n",
       "      <td>2</td>\n",
       "      <td>1943</td>\n",
       "      <td>1</td>\n",
       "      <td>...</td>\n",
       "      <td>12000.0</td>\n",
       "      <td>3</td>\n",
       "      <td>3</td>\n",
       "      <td>1</td>\n",
       "      <td>1</td>\n",
       "      <td>7</td>\n",
       "      <td>2</td>\n",
       "      <td>1</td>\n",
       "      <td>3</td>\n",
       "      <td>2</td>\n",
       "    </tr>\n",
       "    <tr>\n",
       "      <th>4</th>\n",
       "      <td>5</td>\n",
       "      <td>4</td>\n",
       "      <td>1</td>\n",
       "      <td>7</td>\n",
       "      <td>18</td>\n",
       "      <td>36</td>\n",
       "      <td>2015/8/10 9:50</td>\n",
       "      <td>2</td>\n",
       "      <td>1994</td>\n",
       "      <td>1</td>\n",
       "      <td>...</td>\n",
       "      <td>-2.0</td>\n",
       "      <td>4</td>\n",
       "      <td>3</td>\n",
       "      <td>1</td>\n",
       "      <td>1</td>\n",
       "      <td>1</td>\n",
       "      <td>3</td>\n",
       "      <td>2</td>\n",
       "      <td>3</td>\n",
       "      <td>-8</td>\n",
       "    </tr>\n",
       "  </tbody>\n",
       "</table>\n",
       "<p>5 rows × 42 columns</p>\n",
       "</div>"
      ],
      "text/plain": [
       "   id  happiness  survey_type  province  city  county      survey_time  \\\n",
       "0   1          4            1        12    32      59   2015/8/4 14:18   \n",
       "1   2          4            2        18    52      85  2015/7/21 15:04   \n",
       "2   3          4            2        29    83     126  2015/7/21 13:24   \n",
       "3   4          5            2        10    28      51  2015/7/25 17:33   \n",
       "4   5          4            1         7    18      36   2015/8/10 9:50   \n",
       "\n",
       "   gender  birth  nationality     ...       family_income  family_m  \\\n",
       "0       1   1959            1     ...             60000.0         2   \n",
       "1       1   1992            1     ...             40000.0         3   \n",
       "2       2   1967            1     ...              8000.0         3   \n",
       "3       2   1943            1     ...             12000.0         3   \n",
       "4       2   1994            1     ...                -2.0         4   \n",
       "\n",
       "   family_status  house  car  marital  status_peer  status_3_before  view  \\\n",
       "0              2      1    2        3            3                2     4   \n",
       "1              4      1    2        1            1                1     4   \n",
       "2              3      1    2        3            2                1     4   \n",
       "3              3      1    1        7            2                1     3   \n",
       "4              3      1    1        1            3                2     3   \n",
       "\n",
       "   inc_ability  \n",
       "0            3  \n",
       "1            2  \n",
       "2            2  \n",
       "3            2  \n",
       "4           -8  \n",
       "\n",
       "[5 rows x 42 columns]"
      ]
     },
     "execution_count": 3,
     "metadata": {},
     "output_type": "execute_result"
    }
   ],
   "source": [
    "traindata.head()"
   ]
  },
  {
   "cell_type": "markdown",
   "metadata": {},
   "source": [
    "survey_type\t\t样本类型\t1 = 城市; 2 = 农村; \n",
    "\n",
    "province\t采访地点-省/自治区/直辖市编码\t1 = 上海市; 2 = 云南省; 3 = 内蒙古自治区; 4 = 北京市; 5 = 吉林省; 6 = 四川省; 7 = 天津市; 8 = 宁夏回族自治区; 9 = 安徽省; 10 = 山东省; 11 = 山西省; 12 = 广东省; 13 = 广西壮族自治区; 14 = 新疆维吾尔自治区; 15 = 江苏省; 16 = 江西省; 17 = 河北省; 18 = 河南省; 19 = 浙江省; 20 = 海南省; 21 = 湖北省; 22 = 湖南省; 23 = 甘肃省; 24 = 福建省; 25 = 西藏自治区; 26 = 贵州省; 27 = 辽宁省; 28 = 重庆市; 29 = 陕西省; 30 = 青海省; 31 = 黑龙江省; \n",
    "\n",
    "city\t\t采访地点-地级市编码\t-\n",
    "\n",
    "county\t采访地点-县/区编码\t-\n",
    "\n",
    "survey_time\t问卷当前时间\t-\n",
    "\n",
    "gender\t\t您的性别\t1 = 男; 2 = 女; \n",
    "\n",
    "birth\t\t您的出生日期-年\t-\n",
    "\n",
    "nationality\t\t您的民族\t1 = 汉; 2 = 蒙; 3 = 满; 4 = 回; 5 = 藏; 6 = 壮; 7 = 维; 8 = 其他; \n",
    "\n",
    "religion\t\t您的宗教信仰-不信仰宗教\t0 = 否; 1 = 是; \n",
    "\n",
    "religion_freq\t您参加宗教活动的频繁程度 \t1 = 从来没有参加过; 2 = 一年不到1次; 3 = 一年大概1到2次; 4 = 一年几次; 5 = 大概一月1次; 6 = 一月2到3次; 7 = 差不多每周都有; 8 = 每周都有; 9 = 一周几次; \n",
    "edu\ta7a\t您目前的最高教育程度（包括目前在读的） \t1 = 没有受过任何教育; 2 = 私塾、扫盲班; 3 = 小学; 4 = 初中; 5 = 职业高中; 6 = 普通高中; 7 = 中专; 8 = 技校; 9 = 大学专科（成人高等教育）; 10 = 大学专科（正规高等教育）; 11 = 大学本科（成人高等教育）; 12 = 大学本科（正规高等教育）; 13 = 研究生及以上; 14 = 其他; \n",
    "\n",
    "income\t\t您个人去年全年的总收入\t9999996 = 个人全年总收入高于百万位数; \n",
    "\n",
    "political\t您目前的政治面貌\t1 = 群众; 2 = 共青团员; 3 = 民主党派; 4 = 共产党员;\n",
    "\n",
    "floor_area\ta11\t您现在住的这座住房的套内建筑面积\t-\n",
    "\n",
    "height_cm\ta13\t您目前的身高是（厘米）\t-\n",
    "\n",
    "weight_jin\ta14\t您目前的体重是（斤）\t-\n",
    "\n",
    "health\ta15\t您觉得您目前的身体健康状况\t1 = 很不健康; 2 = 比较不健康; 3 = 一般; 4 = 比较健康; 5 = 很健康;\n",
    "\n",
    "health_problem\ta16\t在过去的四周中由于健康问题影响到您的工作或其他日常活动的频繁程度\t-\n",
    "\n",
    "depression\ta17\t在过去的四周中您感到心情抑郁或沮丧的频繁程度\t1 = 总是; 2 = 经常; 3 = 有时; 4 = 很少; 5 = 从不;\n",
    "\n",
    "hukou\ta18\t您目前的户口登记状况\t1 = 农业户口; 2 = 非农业户口; 3 = 蓝印户口; 4 = 居民户口（以前是农业户口）; 5 = 居民户口（以前是非农业户口）; 6 = 军籍; 7 = 没有户口; 8 = 其他;\n",
    "\n",
    "socialize\ta311\t在过去一年中，您是否经常在您的空闲时间做下面的事情-社交\t1 = 从不; 2 = 很少; 3 = 有时; 4 = 经常; 5 = 非常频繁; \n",
    "\n",
    "relax\ta312\t在过去一年中，您是否经常在您的空闲时间做下面的事情-休息放松\t1 = 从不; 2 = 很少; 3 = 有时; 4 = 经常; 5 = 非常频繁; \n",
    "\n",
    "learn\ta313\t在过去一年中，您是否经常在您的空闲时间做下面的事情-学习充电\t1 = 从不; 2 = 很少; 3 = 有时; 4 = 经常; 5 = 非常频繁; \n",
    "\n",
    "equity\ta35\t总的来说，您认为当今社会公不公平\t1 = 完全不公平; 2 = 比较不公平; 3 = 说不上公平但也不能说不公平; 4 = 比较公平; 5 = 完全公平; \n",
    "\n",
    "happiness\ta36\t总的来说，您觉得您的生活是否幸福\t1 = 非常不幸福; 2 = 比较不幸福; 3 = 说不上幸福不幸福; 4 = 比较幸福; 5 = 非常幸福; \n",
    "\n",
    "class\ta431\t您认为自己目前处于哪个等级上\t1 = 1(最底层); 10 = 10(最顶层); \n",
    "\n",
    "work_exper\ta58\t您的工作经历及状况\t1 = 目前从事非农工作; 2 = 目前务农，曾经有过非农工作; 3 = 目前务农，没有过非农工作; 4 = 目前没有工作，而且只务过农; 5 = 目前没有工作，曾经有过非农工作; 6 = 从未工作过; \n",
    "\n",
    "work_status\ta59a\t下列各种情形，哪一种更符合您目前工作的状况\t1 = 自己是老板（或者是合伙人）; 2 = 个体工商户; 3 = 受雇于他人（有固定雇主）; 4 = 劳务工/劳务派遣人员; 5 = 零工、散工（无固定雇主的受雇者）; 6 = 在自己家的生意/企业中工作/帮忙，领工资; 7 = 在自己家的生意/企业中工作/帮忙，不领工资; 8 = 自由职业者; 9 = 其他; \n",
    "\n",
    "work_yr\ta59c\t从您第一份非农工作到目前的工作，您一共工作了多少年\t-\n",
    "\n",
    "work_type\ta59e\t您目前工作的性质\t1 = 全职工作; 2 = 非全职工作; \n",
    "\n",
    "work_manage\ta59f\t您目前工作的管理活动情况\t1 = 只管理别人，不受别人管理; 2 = 既管理别人，又受别人管理; 3 = 只受别人管理，不管理别人; 4 = 既不管理别人，又不受别人管理; \n",
    "\n",
    "family_income\ta62\t您家去年全年家庭总收入\t9999996 = 全年全家总收入超过了百万位数; \n",
    "\n",
    "family_m\ta63\t您家目前住在一起的通常有几人（包括您本人）\t-\n",
    "\n",
    "family_status\ta64\t您家的家庭经济状况在所在地属于哪一档\t1 = 远低于平均水平; 2 = 低于平均水平; 3 = 平均水平; 4 = 高于平均水平; 5 = 远高于平均水平; \n",
    "\n",
    "house\ta65\t您家现拥有几处房产\t96 = 房产数超过两位数; \n",
    "\n",
    "car\ta66\t您家是否拥有家用小汽车\t1 = 有; 2 = 没有; \n",
    "\n",
    "marital\ta69\t您目前的婚姻状况\t1 = 未婚; 2 = 同居; 3 = 初婚有配偶; 4 = 再婚有配偶; 5 = 分居未离婚; 6 = 离婚; 7 = 丧偶; \n",
    "\n",
    "status_peer\tb1\t与同龄人相比，您本人的社会经济地位怎样\t1 = 较高; 2 = 差不多; 3 = 较低; \n",
    "\n",
    "status_3_before\tb2\t与三年前相比，您的社会经济地位发生了什么变化\t1 = 上升了; 2 = 差不多; 3 = 下降了; \n",
    "\n",
    "view\t根据您的一般印象您对一些重要事情所持的观点和看法与社会大众一致的时候有多少\t1 = 一致的时候非常少; 2 = 一致的时候比较少; 3 = 一般; 4 = 一致的时候比较多; 5 = 一致的时候非常多; \n",
    "\n",
    "inc_ability\t\t考虑到您的能力和工作状况，您目前的收入是否合理\t1 = 非常合理; 2 = 合理; 3 = 不合理; 4 = 非常不合理; \n"
   ]
  },
  {
   "cell_type": "markdown",
   "metadata": {},
   "source": [
    "## 3.数据集可视化与分析"
   ]
  },
  {
   "cell_type": "markdown",
   "metadata": {},
   "source": [
    "### 3.1.数据基本统计"
   ]
  },
  {
   "cell_type": "raw",
   "metadata": {},
   "source": [
    "data.describe() #基本统计量\n",
    "count    #数量\n",
    "mean     #均值\n",
    "std      #标准差\n",
    "min      #最小值\n",
    "25%     #下四分位\n",
    "50%     #中位数\n",
    "75%     #上四分位\n",
    "max     #最大值\n",
    "\n"
   ]
  },
  {
   "cell_type": "code",
   "execution_count": 9,
   "metadata": {},
   "outputs": [
    {
     "data": {
      "text/html": [
       "<div>\n",
       "<style scoped>\n",
       "    .dataframe tbody tr th:only-of-type {\n",
       "        vertical-align: middle;\n",
       "    }\n",
       "\n",
       "    .dataframe tbody tr th {\n",
       "        vertical-align: top;\n",
       "    }\n",
       "\n",
       "    .dataframe thead th {\n",
       "        text-align: right;\n",
       "    }\n",
       "</style>\n",
       "<table border=\"1\" class=\"dataframe\">\n",
       "  <thead>\n",
       "    <tr style=\"text-align: right;\">\n",
       "      <th></th>\n",
       "      <th>id</th>\n",
       "      <th>happiness</th>\n",
       "      <th>survey_type</th>\n",
       "      <th>province</th>\n",
       "      <th>city</th>\n",
       "      <th>county</th>\n",
       "      <th>gender</th>\n",
       "      <th>nationality</th>\n",
       "      <th>religion</th>\n",
       "      <th>religion_freq</th>\n",
       "      <th>edu</th>\n",
       "      <th>income</th>\n",
       "      <th>political</th>\n",
       "      <th>floor_area</th>\n",
       "      <th>height_cm</th>\n",
       "      <th>weight_jin</th>\n",
       "      <th>health</th>\n",
       "      <th>health_problem</th>\n",
       "      <th>depression</th>\n",
       "      <th>hukou</th>\n",
       "      <th>socialize</th>\n",
       "      <th>relax</th>\n",
       "      <th>learn</th>\n",
       "      <th>equity</th>\n",
       "      <th>class</th>\n",
       "      <th>work_exper</th>\n",
       "      <th>work_status</th>\n",
       "      <th>work_yr</th>\n",
       "      <th>work_type</th>\n",
       "      <th>work_manage</th>\n",
       "      <th>family_income</th>\n",
       "      <th>family_m</th>\n",
       "      <th>family_status</th>\n",
       "      <th>house</th>\n",
       "      <th>car</th>\n",
       "      <th>marital</th>\n",
       "      <th>status_peer</th>\n",
       "      <th>status_3_before</th>\n",
       "      <th>view</th>\n",
       "      <th>inc_ability</th>\n",
       "    </tr>\n",
       "  </thead>\n",
       "  <tbody>\n",
       "    <tr>\n",
       "      <th>count</th>\n",
       "      <td>8000.00000</td>\n",
       "      <td>8000.000000</td>\n",
       "      <td>8000.000000</td>\n",
       "      <td>8000.000000</td>\n",
       "      <td>8000.000000</td>\n",
       "      <td>8000.000000</td>\n",
       "      <td>8000.00000</td>\n",
       "      <td>8000.00000</td>\n",
       "      <td>8000.000000</td>\n",
       "      <td>8000.000000</td>\n",
       "      <td>8000.000000</td>\n",
       "      <td>8.000000e+03</td>\n",
       "      <td>8000.000000</td>\n",
       "      <td>8000.000000</td>\n",
       "      <td>8000.000000</td>\n",
       "      <td>8000.000000</td>\n",
       "      <td>8000.000000</td>\n",
       "      <td>8000.000000</td>\n",
       "      <td>8000.000000</td>\n",
       "      <td>8000.000000</td>\n",
       "      <td>8000.000000</td>\n",
       "      <td>8000.000000</td>\n",
       "      <td>8000.00000</td>\n",
       "      <td>8000.000000</td>\n",
       "      <td>8000.000000</td>\n",
       "      <td>8000.000000</td>\n",
       "      <td>2951.000000</td>\n",
       "      <td>2951.000000</td>\n",
       "      <td>2951.000000</td>\n",
       "      <td>2951.000000</td>\n",
       "      <td>7.999000e+03</td>\n",
       "      <td>8000.000000</td>\n",
       "      <td>8000.000000</td>\n",
       "      <td>8000.000000</td>\n",
       "      <td>8000.000000</td>\n",
       "      <td>8000.000000</td>\n",
       "      <td>8000.000000</td>\n",
       "      <td>8000.000000</td>\n",
       "      <td>8000.00000</td>\n",
       "      <td>8000.000000</td>\n",
       "    </tr>\n",
       "    <tr>\n",
       "      <th>mean</th>\n",
       "      <td>4000.50000</td>\n",
       "      <td>3.850125</td>\n",
       "      <td>1.405500</td>\n",
       "      <td>15.155375</td>\n",
       "      <td>42.564750</td>\n",
       "      <td>70.619000</td>\n",
       "      <td>1.53000</td>\n",
       "      <td>1.37350</td>\n",
       "      <td>0.772250</td>\n",
       "      <td>1.427250</td>\n",
       "      <td>4.878375</td>\n",
       "      <td>3.330734e+04</td>\n",
       "      <td>1.317750</td>\n",
       "      <td>115.302954</td>\n",
       "      <td>163.989750</td>\n",
       "      <td>121.575625</td>\n",
       "      <td>3.598500</td>\n",
       "      <td>3.786250</td>\n",
       "      <td>3.819375</td>\n",
       "      <td>1.893750</td>\n",
       "      <td>2.790625</td>\n",
       "      <td>3.291000</td>\n",
       "      <td>1.92650</td>\n",
       "      <td>3.135125</td>\n",
       "      <td>4.192250</td>\n",
       "      <td>2.979750</td>\n",
       "      <td>3.155202</td>\n",
       "      <td>14.500508</td>\n",
       "      <td>0.906811</td>\n",
       "      <td>2.652321</td>\n",
       "      <td>6.776050e+04</td>\n",
       "      <td>2.882500</td>\n",
       "      <td>2.595875</td>\n",
       "      <td>1.063625</td>\n",
       "      <td>1.817125</td>\n",
       "      <td>3.234375</td>\n",
       "      <td>2.226125</td>\n",
       "      <td>1.702500</td>\n",
       "      <td>3.30350</td>\n",
       "      <td>1.094875</td>\n",
       "    </tr>\n",
       "    <tr>\n",
       "      <th>std</th>\n",
       "      <td>2309.54541</td>\n",
       "      <td>0.938228</td>\n",
       "      <td>0.491019</td>\n",
       "      <td>8.917100</td>\n",
       "      <td>27.187404</td>\n",
       "      <td>38.747503</td>\n",
       "      <td>0.49913</td>\n",
       "      <td>1.52882</td>\n",
       "      <td>1.071459</td>\n",
       "      <td>1.408441</td>\n",
       "      <td>3.154533</td>\n",
       "      <td>2.329853e+05</td>\n",
       "      <td>1.141358</td>\n",
       "      <td>87.275890</td>\n",
       "      <td>8.086567</td>\n",
       "      <td>23.189453</td>\n",
       "      <td>1.108468</td>\n",
       "      <td>1.372332</td>\n",
       "      <td>1.062846</td>\n",
       "      <td>1.348588</td>\n",
       "      <td>1.083021</td>\n",
       "      <td>1.076668</td>\n",
       "      <td>1.19343</td>\n",
       "      <td>1.285524</td>\n",
       "      <td>2.040358</td>\n",
       "      <td>1.752705</td>\n",
       "      <td>1.759518</td>\n",
       "      <td>11.467829</td>\n",
       "      <td>1.404517</td>\n",
       "      <td>1.716054</td>\n",
       "      <td>2.909591e+05</td>\n",
       "      <td>1.521835</td>\n",
       "      <td>1.077011</td>\n",
       "      <td>0.789402</td>\n",
       "      <td>0.511825</td>\n",
       "      <td>1.423182</td>\n",
       "      <td>0.971525</td>\n",
       "      <td>0.976147</td>\n",
       "      <td>1.98132</td>\n",
       "      <td>3.410180</td>\n",
       "    </tr>\n",
       "    <tr>\n",
       "      <th>min</th>\n",
       "      <td>1.00000</td>\n",
       "      <td>-8.000000</td>\n",
       "      <td>1.000000</td>\n",
       "      <td>1.000000</td>\n",
       "      <td>1.000000</td>\n",
       "      <td>1.000000</td>\n",
       "      <td>1.00000</td>\n",
       "      <td>-8.00000</td>\n",
       "      <td>-8.000000</td>\n",
       "      <td>-8.000000</td>\n",
       "      <td>-8.000000</td>\n",
       "      <td>-3.000000e+00</td>\n",
       "      <td>-8.000000</td>\n",
       "      <td>3.000000</td>\n",
       "      <td>114.000000</td>\n",
       "      <td>40.000000</td>\n",
       "      <td>-8.000000</td>\n",
       "      <td>-8.000000</td>\n",
       "      <td>-8.000000</td>\n",
       "      <td>1.000000</td>\n",
       "      <td>-8.000000</td>\n",
       "      <td>-8.000000</td>\n",
       "      <td>-8.00000</td>\n",
       "      <td>-8.000000</td>\n",
       "      <td>-8.000000</td>\n",
       "      <td>1.000000</td>\n",
       "      <td>-8.000000</td>\n",
       "      <td>-3.000000</td>\n",
       "      <td>-8.000000</td>\n",
       "      <td>-8.000000</td>\n",
       "      <td>-3.000000e+00</td>\n",
       "      <td>-3.000000</td>\n",
       "      <td>-8.000000</td>\n",
       "      <td>-3.000000</td>\n",
       "      <td>-8.000000</td>\n",
       "      <td>1.000000</td>\n",
       "      <td>-8.000000</td>\n",
       "      <td>-8.000000</td>\n",
       "      <td>-8.00000</td>\n",
       "      <td>-8.000000</td>\n",
       "    </tr>\n",
       "    <tr>\n",
       "      <th>25%</th>\n",
       "      <td>2000.75000</td>\n",
       "      <td>4.000000</td>\n",
       "      <td>1.000000</td>\n",
       "      <td>7.000000</td>\n",
       "      <td>18.000000</td>\n",
       "      <td>37.000000</td>\n",
       "      <td>1.00000</td>\n",
       "      <td>1.00000</td>\n",
       "      <td>1.000000</td>\n",
       "      <td>1.000000</td>\n",
       "      <td>3.000000</td>\n",
       "      <td>1.695000e+03</td>\n",
       "      <td>1.000000</td>\n",
       "      <td>64.000000</td>\n",
       "      <td>158.000000</td>\n",
       "      <td>105.000000</td>\n",
       "      <td>3.000000</td>\n",
       "      <td>3.000000</td>\n",
       "      <td>3.000000</td>\n",
       "      <td>1.000000</td>\n",
       "      <td>2.000000</td>\n",
       "      <td>3.000000</td>\n",
       "      <td>1.00000</td>\n",
       "      <td>2.000000</td>\n",
       "      <td>3.000000</td>\n",
       "      <td>1.000000</td>\n",
       "      <td>3.000000</td>\n",
       "      <td>5.000000</td>\n",
       "      <td>1.000000</td>\n",
       "      <td>2.000000</td>\n",
       "      <td>1.300000e+04</td>\n",
       "      <td>2.000000</td>\n",
       "      <td>2.000000</td>\n",
       "      <td>1.000000</td>\n",
       "      <td>2.000000</td>\n",
       "      <td>3.000000</td>\n",
       "      <td>2.000000</td>\n",
       "      <td>1.000000</td>\n",
       "      <td>3.00000</td>\n",
       "      <td>2.000000</td>\n",
       "    </tr>\n",
       "    <tr>\n",
       "      <th>50%</th>\n",
       "      <td>4000.50000</td>\n",
       "      <td>4.000000</td>\n",
       "      <td>1.000000</td>\n",
       "      <td>15.000000</td>\n",
       "      <td>42.000000</td>\n",
       "      <td>73.000000</td>\n",
       "      <td>2.00000</td>\n",
       "      <td>1.00000</td>\n",
       "      <td>1.000000</td>\n",
       "      <td>1.000000</td>\n",
       "      <td>4.000000</td>\n",
       "      <td>1.500000e+04</td>\n",
       "      <td>1.000000</td>\n",
       "      <td>96.000000</td>\n",
       "      <td>164.000000</td>\n",
       "      <td>120.000000</td>\n",
       "      <td>4.000000</td>\n",
       "      <td>4.000000</td>\n",
       "      <td>4.000000</td>\n",
       "      <td>1.000000</td>\n",
       "      <td>3.000000</td>\n",
       "      <td>3.000000</td>\n",
       "      <td>2.00000</td>\n",
       "      <td>3.000000</td>\n",
       "      <td>5.000000</td>\n",
       "      <td>3.000000</td>\n",
       "      <td>3.000000</td>\n",
       "      <td>12.000000</td>\n",
       "      <td>1.000000</td>\n",
       "      <td>3.000000</td>\n",
       "      <td>3.800000e+04</td>\n",
       "      <td>3.000000</td>\n",
       "      <td>3.000000</td>\n",
       "      <td>1.000000</td>\n",
       "      <td>2.000000</td>\n",
       "      <td>3.000000</td>\n",
       "      <td>2.000000</td>\n",
       "      <td>2.000000</td>\n",
       "      <td>4.00000</td>\n",
       "      <td>2.000000</td>\n",
       "    </tr>\n",
       "    <tr>\n",
       "      <th>75%</th>\n",
       "      <td>6000.25000</td>\n",
       "      <td>4.000000</td>\n",
       "      <td>2.000000</td>\n",
       "      <td>22.000000</td>\n",
       "      <td>65.000000</td>\n",
       "      <td>104.000000</td>\n",
       "      <td>2.00000</td>\n",
       "      <td>1.00000</td>\n",
       "      <td>1.000000</td>\n",
       "      <td>1.000000</td>\n",
       "      <td>6.000000</td>\n",
       "      <td>3.600000e+04</td>\n",
       "      <td>1.000000</td>\n",
       "      <td>130.000000</td>\n",
       "      <td>170.000000</td>\n",
       "      <td>135.250000</td>\n",
       "      <td>4.000000</td>\n",
       "      <td>5.000000</td>\n",
       "      <td>5.000000</td>\n",
       "      <td>2.000000</td>\n",
       "      <td>4.000000</td>\n",
       "      <td>4.000000</td>\n",
       "      <td>3.00000</td>\n",
       "      <td>4.000000</td>\n",
       "      <td>5.000000</td>\n",
       "      <td>5.000000</td>\n",
       "      <td>3.000000</td>\n",
       "      <td>22.000000</td>\n",
       "      <td>1.000000</td>\n",
       "      <td>3.000000</td>\n",
       "      <td>7.000000e+04</td>\n",
       "      <td>4.000000</td>\n",
       "      <td>3.000000</td>\n",
       "      <td>1.000000</td>\n",
       "      <td>2.000000</td>\n",
       "      <td>3.000000</td>\n",
       "      <td>3.000000</td>\n",
       "      <td>2.000000</td>\n",
       "      <td>4.00000</td>\n",
       "      <td>3.000000</td>\n",
       "    </tr>\n",
       "    <tr>\n",
       "      <th>max</th>\n",
       "      <td>8000.00000</td>\n",
       "      <td>5.000000</td>\n",
       "      <td>2.000000</td>\n",
       "      <td>31.000000</td>\n",
       "      <td>89.000000</td>\n",
       "      <td>134.000000</td>\n",
       "      <td>2.00000</td>\n",
       "      <td>8.00000</td>\n",
       "      <td>1.000000</td>\n",
       "      <td>9.000000</td>\n",
       "      <td>14.000000</td>\n",
       "      <td>9.999990e+06</td>\n",
       "      <td>4.000000</td>\n",
       "      <td>1300.000000</td>\n",
       "      <td>191.000000</td>\n",
       "      <td>260.000000</td>\n",
       "      <td>5.000000</td>\n",
       "      <td>5.000000</td>\n",
       "      <td>5.000000</td>\n",
       "      <td>8.000000</td>\n",
       "      <td>5.000000</td>\n",
       "      <td>5.000000</td>\n",
       "      <td>5.00000</td>\n",
       "      <td>5.000000</td>\n",
       "      <td>10.000000</td>\n",
       "      <td>6.000000</td>\n",
       "      <td>9.000000</td>\n",
       "      <td>55.000000</td>\n",
       "      <td>2.000000</td>\n",
       "      <td>4.000000</td>\n",
       "      <td>9.999992e+06</td>\n",
       "      <td>50.000000</td>\n",
       "      <td>5.000000</td>\n",
       "      <td>30.000000</td>\n",
       "      <td>2.000000</td>\n",
       "      <td>7.000000</td>\n",
       "      <td>3.000000</td>\n",
       "      <td>3.000000</td>\n",
       "      <td>5.00000</td>\n",
       "      <td>4.000000</td>\n",
       "    </tr>\n",
       "  </tbody>\n",
       "</table>\n",
       "</div>"
      ],
      "text/plain": [
       "               id    happiness  survey_type     province         city  \\\n",
       "count  8000.00000  8000.000000  8000.000000  8000.000000  8000.000000   \n",
       "mean   4000.50000     3.850125     1.405500    15.155375    42.564750   \n",
       "std    2309.54541     0.938228     0.491019     8.917100    27.187404   \n",
       "min       1.00000    -8.000000     1.000000     1.000000     1.000000   \n",
       "25%    2000.75000     4.000000     1.000000     7.000000    18.000000   \n",
       "50%    4000.50000     4.000000     1.000000    15.000000    42.000000   \n",
       "75%    6000.25000     4.000000     2.000000    22.000000    65.000000   \n",
       "max    8000.00000     5.000000     2.000000    31.000000    89.000000   \n",
       "\n",
       "            county      gender  nationality     religion  religion_freq  \\\n",
       "count  8000.000000  8000.00000   8000.00000  8000.000000    8000.000000   \n",
       "mean     70.619000     1.53000      1.37350     0.772250       1.427250   \n",
       "std      38.747503     0.49913      1.52882     1.071459       1.408441   \n",
       "min       1.000000     1.00000     -8.00000    -8.000000      -8.000000   \n",
       "25%      37.000000     1.00000      1.00000     1.000000       1.000000   \n",
       "50%      73.000000     2.00000      1.00000     1.000000       1.000000   \n",
       "75%     104.000000     2.00000      1.00000     1.000000       1.000000   \n",
       "max     134.000000     2.00000      8.00000     1.000000       9.000000   \n",
       "\n",
       "               edu        income    political   floor_area    height_cm  \\\n",
       "count  8000.000000  8.000000e+03  8000.000000  8000.000000  8000.000000   \n",
       "mean      4.878375  3.330734e+04     1.317750   115.302954   163.989750   \n",
       "std       3.154533  2.329853e+05     1.141358    87.275890     8.086567   \n",
       "min      -8.000000 -3.000000e+00    -8.000000     3.000000   114.000000   \n",
       "25%       3.000000  1.695000e+03     1.000000    64.000000   158.000000   \n",
       "50%       4.000000  1.500000e+04     1.000000    96.000000   164.000000   \n",
       "75%       6.000000  3.600000e+04     1.000000   130.000000   170.000000   \n",
       "max      14.000000  9.999990e+06     4.000000  1300.000000   191.000000   \n",
       "\n",
       "        weight_jin       health  health_problem   depression        hukou  \\\n",
       "count  8000.000000  8000.000000     8000.000000  8000.000000  8000.000000   \n",
       "mean    121.575625     3.598500        3.786250     3.819375     1.893750   \n",
       "std      23.189453     1.108468        1.372332     1.062846     1.348588   \n",
       "min      40.000000    -8.000000       -8.000000    -8.000000     1.000000   \n",
       "25%     105.000000     3.000000        3.000000     3.000000     1.000000   \n",
       "50%     120.000000     4.000000        4.000000     4.000000     1.000000   \n",
       "75%     135.250000     4.000000        5.000000     5.000000     2.000000   \n",
       "max     260.000000     5.000000        5.000000     5.000000     8.000000   \n",
       "\n",
       "         socialize        relax       learn       equity        class  \\\n",
       "count  8000.000000  8000.000000  8000.00000  8000.000000  8000.000000   \n",
       "mean      2.790625     3.291000     1.92650     3.135125     4.192250   \n",
       "std       1.083021     1.076668     1.19343     1.285524     2.040358   \n",
       "min      -8.000000    -8.000000    -8.00000    -8.000000    -8.000000   \n",
       "25%       2.000000     3.000000     1.00000     2.000000     3.000000   \n",
       "50%       3.000000     3.000000     2.00000     3.000000     5.000000   \n",
       "75%       4.000000     4.000000     3.00000     4.000000     5.000000   \n",
       "max       5.000000     5.000000     5.00000     5.000000    10.000000   \n",
       "\n",
       "        work_exper  work_status      work_yr    work_type  work_manage  \\\n",
       "count  8000.000000  2951.000000  2951.000000  2951.000000  2951.000000   \n",
       "mean      2.979750     3.155202    14.500508     0.906811     2.652321   \n",
       "std       1.752705     1.759518    11.467829     1.404517     1.716054   \n",
       "min       1.000000    -8.000000    -3.000000    -8.000000    -8.000000   \n",
       "25%       1.000000     3.000000     5.000000     1.000000     2.000000   \n",
       "50%       3.000000     3.000000    12.000000     1.000000     3.000000   \n",
       "75%       5.000000     3.000000    22.000000     1.000000     3.000000   \n",
       "max       6.000000     9.000000    55.000000     2.000000     4.000000   \n",
       "\n",
       "       family_income     family_m  family_status        house          car  \\\n",
       "count   7.999000e+03  8000.000000    8000.000000  8000.000000  8000.000000   \n",
       "mean    6.776050e+04     2.882500       2.595875     1.063625     1.817125   \n",
       "std     2.909591e+05     1.521835       1.077011     0.789402     0.511825   \n",
       "min    -3.000000e+00    -3.000000      -8.000000    -3.000000    -8.000000   \n",
       "25%     1.300000e+04     2.000000       2.000000     1.000000     2.000000   \n",
       "50%     3.800000e+04     3.000000       3.000000     1.000000     2.000000   \n",
       "75%     7.000000e+04     4.000000       3.000000     1.000000     2.000000   \n",
       "max     9.999992e+06    50.000000       5.000000    30.000000     2.000000   \n",
       "\n",
       "           marital  status_peer  status_3_before        view  inc_ability  \n",
       "count  8000.000000  8000.000000      8000.000000  8000.00000  8000.000000  \n",
       "mean      3.234375     2.226125         1.702500     3.30350     1.094875  \n",
       "std       1.423182     0.971525         0.976147     1.98132     3.410180  \n",
       "min       1.000000    -8.000000        -8.000000    -8.00000    -8.000000  \n",
       "25%       3.000000     2.000000         1.000000     3.00000     2.000000  \n",
       "50%       3.000000     2.000000         2.000000     4.00000     2.000000  \n",
       "75%       3.000000     3.000000         2.000000     4.00000     3.000000  \n",
       "max       7.000000     3.000000         3.000000     5.00000     4.000000  "
      ]
     },
     "execution_count": 9,
     "metadata": {},
     "output_type": "execute_result"
    }
   ],
   "source": [
    "#用来显示所有的数据不隐藏显示\n",
    "pd.set_option('display.max_columns', None)\n",
    "traindata.describe()"
   ]
  },
  {
   "cell_type": "markdown",
   "metadata": {},
   "source": [
    "### 3.2 数据相关性分析"
   ]
  },
  {
   "cell_type": "code",
   "execution_count": 10,
   "metadata": {},
   "outputs": [],
   "source": [
    "#data.corr() #相关系数矩阵\n",
    "hcorr = traindata.corr()['happiness']"
   ]
  },
  {
   "cell_type": "code",
   "execution_count": 11,
   "metadata": {},
   "outputs": [
    {
     "data": {
      "text/plain": [
       "pandas.core.series.Series"
      ]
     },
     "execution_count": 11,
     "metadata": {},
     "output_type": "execute_result"
    }
   ],
   "source": [
    "type(hcorr)"
   ]
  },
  {
   "cell_type": "code",
   "execution_count": 18,
   "metadata": {},
   "outputs": [
    {
     "data": {
      "text/plain": [
       "[-0.08474288545685181,\n",
       " -0.026026497351057366,\n",
       " -0.022891806638446553,\n",
       " -0.01892806722388683,\n",
       " -0.01704334773328416,\n",
       " -0.0128260150912601,\n",
       " -0.00974743960625193,\n",
       " -0.009732796724920622,\n",
       " -0.007544193189818286,\n",
       " -0.007332514120674034,\n",
       " 0.002178528402989203,\n",
       " 0.0022963396590225116,\n",
       " 0.0025635261620537845,\n",
       " 0.009559547127312343,\n",
       " 0.020994082275602774,\n",
       " 0.02201596454063707,\n",
       " 0.02405642298617414,\n",
       " 0.02643995692566824,\n",
       " 0.030379750431118402,\n",
       " 0.04694498603552479,\n",
       " 0.047654140221689845,\n",
       " 0.05482061041789942,\n",
       " 0.05736649349644618,\n",
       " 0.06353892235031633,\n",
       " 0.06581304123832936,\n",
       " 0.0745840128278182,\n",
       " 0.09467716492073786,\n",
       " 0.10294536971594943,\n",
       " 0.10301286106620398,\n",
       " 0.10358816298608245,\n",
       " 0.11257183261666817,\n",
       " 0.11621351523205037,\n",
       " 0.13476140442179102,\n",
       " 0.18241351540856393,\n",
       " 0.23598784858251898,\n",
       " 0.24555185429853232,\n",
       " 0.2469790789415611,\n",
       " 0.2673283368835527,\n",
       " 0.29993344571490743,\n",
       " 1.0]"
      ]
     },
     "execution_count": 18,
     "metadata": {},
     "output_type": "execute_result"
    }
   ],
   "source": [
    "sorted(hcorr)"
   ]
  },
  {
   "cell_type": "code",
   "execution_count": 17,
   "metadata": {},
   "outputs": [
    {
     "data": {
      "text/plain": [
       "id                 0.009560\n",
       "happiness          1.000000\n",
       "survey_type       -0.017043\n",
       "province          -0.007333\n",
       "city              -0.009733\n",
       "county            -0.007544\n",
       "gender             0.022016\n",
       "nationality       -0.018928\n",
       "religion           0.063539\n",
       "religion_freq      0.002296\n",
       "edu                0.102945\n",
       "income             0.024056\n",
       "political          0.094677\n",
       "floor_area         0.046945\n",
       "height_cm          0.030380\n",
       "weight_jin         0.074584\n",
       "health             0.246979\n",
       "health_problem     0.182414\n",
       "depression         0.299933\n",
       "hukou              0.057366\n",
       "socialize          0.103588\n",
       "relax              0.134761\n",
       "learn              0.116214\n",
       "equity             0.245552\n",
       "class              0.267328\n",
       "work_exper         0.002564\n",
       "work_status        0.026440\n",
       "work_yr           -0.009747\n",
       "work_type          0.065813\n",
       "work_manage        0.020994\n",
       "family_income      0.047654\n",
       "family_m           0.054821\n",
       "family_status      0.235988\n",
       "house              0.103013\n",
       "car               -0.012826\n",
       "marital           -0.026026\n",
       "status_peer       -0.084743\n",
       "status_3_before   -0.022892\n",
       "view               0.112572\n",
       "inc_ability        0.002179\n",
       "Name: happiness, dtype: float64"
      ]
     },
     "execution_count": 17,
     "metadata": {},
     "output_type": "execute_result"
    }
   ],
   "source": [
    " traindata.corr()['happiness']"
   ]
  },
  {
   "cell_type": "code",
   "execution_count": null,
   "metadata": {},
   "outputs": [],
   "source": [
    "其中正负相关性小于0.01的有id;province;city;county;religion_freq;work_exper;work_yr;inc_ability"
   ]
  },
  {
   "cell_type": "code",
   "execution_count": 6,
   "metadata": {},
   "outputs": [
    {
     "data": {
      "image/png": "[encoded data removed]",
      "text/plain": [
       "<Figure size 1008x720 with 2 Axes>"
      ]
     },
     "metadata": {
      "needs_background": "light"
     },
     "output_type": "display_data"
    }
   ],
   "source": [
    "f, ax= plt.subplots(figsize = (14, 10))\n",
    "sns.heatmap(traindata.corr(),cmap='RdBu', linewidths = 0.05, ax = ax)\n",
    "# 设置Axes的标题\n",
    "ax.set_title('Happiness Correaltion of Feature')\n",
    "f.savefig('corr.png', dpi=100, bbox_inches='tight')\n"
   ]
  },
  {
   "cell_type": "code",
   "execution_count": 4,
   "metadata": {},
   "outputs": [],
   "source": [
    "#colormap = plt.cm.viridis\n",
    "#plt.figure(figsize=(14,12))\n",
    "#plt.title('Happiness Correaltion of Feature',y=1.05,size=15)\n",
    "#sns.heatmap(traindata.corr(),linewidths=0.1,vmax=1.0,square=True,cmap=colormap,linecolor='white',annot=True)"
   ]
  },
  {
   "cell_type": "raw",
   "metadata": {},
   "source": [
    "\n",
    "正相关性较大的有\n",
    "省份城市区相关系数很大,但这几个系数跟幸福指数关系不是很大,\n",
    "\n",
    "身高weight_jin和体重height_cm  \n",
    "\n",
    "health  您觉得您目前的身体健康状况 和health_problem 在过去的四周中由于健康问题影响到您的工作或其他日常活动的频繁程度和depression  在过去的四周中您感到心情抑郁或沮丧的频繁程度 三者都是相互正相关的\n",
    "\n",
    "教育程度 edu 和learn 在过去一年中，您是否经常在您的空闲时间做下面的事情-学习充电 \n",
    "\n",
    "work_type  您目前工作的性质 1 = 全职工作; 2 = 非全职工作;work_manage  您目前工作的管理活动情况\n",
    "\n",
    "负相关性比较大的有\n",
    "身高体重和性别\n",
    "教育程度 edu和survey_type 样本类型 1 = 城市; 2 = 农村相关性比较大\n",
    "hukou户口和survey_type 样本类型 1 = 城市; 2 = 农村相关性比较大\n",
    "marital a69 您目前的婚姻状况和教育程度 edu\n",
    "inc_ability 您目前的收入是否合理 和work_exper  您的工作经历及状况 相关性较大\n"
   ]
  },
  {
   "cell_type": "raw",
   "metadata": {},
   "source": [
    "通过上面相关性分析我们先去掉列province;city;county;religion_freq;work_exper;work_yr;inc_ability"
   ]
  },
  {
   "cell_type": "markdown",
   "metadata": {},
   "source": [
    "### 3.3特征工程"
   ]
  },
  {
   "cell_type": "code",
   "execution_count": 95,
   "metadata": {
    "scrolled": true
   },
   "outputs": [
    {
     "name": "stdout",
     "output_type": "stream",
     "text": [
      "<class 'pandas.core.frame.DataFrame'>\n",
      "RangeIndex: 8000 entries, 0 to 7999\n",
      "Data columns (total 42 columns):\n",
      "id                 8000 non-null int64\n",
      "happiness          8000 non-null int64\n",
      "survey_type        8000 non-null int64\n",
      "province           8000 non-null int64\n",
      "city               8000 non-null int64\n",
      "county             8000 non-null int64\n",
      "survey_time        8000 non-null object\n",
      "gender             8000 non-null int64\n",
      "birth              8000 non-null category\n",
      "nationality        8000 non-null int64\n",
      "religion           8000 non-null int64\n",
      "religion_freq      8000 non-null int64\n",
      "edu                8000 non-null int64\n",
      "income             8000 non-null category\n",
      "political          8000 non-null int64\n",
      "floor_area         8000 non-null float64\n",
      "height_cm          8000 non-null int64\n",
      "weight_jin         8000 non-null int64\n",
      "health             8000 non-null int64\n",
      "health_problem     8000 non-null int64\n",
      "depression         8000 non-null int64\n",
      "hukou              8000 non-null int64\n",
      "socialize          8000 non-null int64\n",
      "relax              8000 non-null int64\n",
      "learn              8000 non-null int64\n",
      "equity             8000 non-null int64\n",
      "class              8000 non-null int64\n",
      "work_exper         8000 non-null int64\n",
      "work_status        2951 non-null float64\n",
      "work_yr            2951 non-null float64\n",
      "work_type          2951 non-null float64\n",
      "work_manage        2951 non-null float64\n",
      "family_income      7999 non-null float64\n",
      "family_m           8000 non-null int64\n",
      "family_status      8000 non-null int64\n",
      "house              8000 non-null int64\n",
      "car                8000 non-null int64\n",
      "marital            8000 non-null int64\n",
      "status_peer        8000 non-null int64\n",
      "status_3_before    8000 non-null int64\n",
      "view               8000 non-null int64\n",
      "inc_ability        8000 non-null int64\n",
      "dtypes: category(2), float64(6), int64(33), object(1)\n",
      "memory usage: 2.5+ MB\n"
     ]
    }
   ],
   "source": [
    "traindata.info()"
   ]
  },
  {
   "cell_type": "code",
   "execution_count": null,
   "metadata": {},
   "outputs": [],
   "source": [
    "从上面的信息可以得知work_status ; work_type； work_manage ； family_income；存在数据缺失，\n",
    "其中family_income只有一条数据缺失，我选择去除此数据 ，其他数据都存在5049的缺失work_status ; work_type； work_manage ； 因为相关性最大不超过\n",
    "0.065,所以也先选择忽略这几个字段进行分析\n"
   ]
  },
  {
   "cell_type": "code",
   "execution_count": 23,
   "metadata": {},
   "outputs": [],
   "source": [
    "traindata = traindata.drop(columns=['province', 'city','county','religion_freq','work_exper','work_yr','inc_ability'])"
   ]
  },
  {
   "cell_type": "markdown",
   "metadata": {},
   "source": [
    "##### 1.happiness"
   ]
  },
  {
   "cell_type": "code",
   "execution_count": 29,
   "metadata": {},
   "outputs": [
    {
     "data": {
      "image/png": "[encoded data removed]",
      "text/plain": [
       "<Figure size 432x288 with 1 Axes>"
      ]
     },
     "metadata": {},
     "output_type": "display_data"
    }
   ],
   "source": [
    "traindata['happiness'].value_counts().plot.pie(autopct= '%1.1f%%')\n",
    "plt.xlabel('happiness_pie')\n",
    "plt.show()"
   ]
  },
  {
   "cell_type": "markdown",
   "metadata": {},
   "source": [
    "可以看出大部分人是4 = 比较幸福,其中有一部分数据是-8,证明是异常数据,这部分数据没有参考意义,去除"
   ]
  },
  {
   "cell_type": "code",
   "execution_count": 30,
   "metadata": {},
   "outputs": [],
   "source": [
    "traindata = traindata[traindata['happiness'] != -8]"
   ]
  },
  {
   "cell_type": "code",
   "execution_count": 33,
   "metadata": {},
   "outputs": [
    {
     "data": {
      "image/png": "[encoded data removed]",
      "text/plain": [
       "<Figure size 432x288 with 1 Axes>"
      ]
     },
     "metadata": {},
     "output_type": "display_data"
    }
   ],
   "source": [
    "traindata['happiness'].value_counts().plot.pie(autopct= '%1.1f%%')\n",
    "plt.xlabel('happiness_pie')\n",
    "plt.show()"
   ]
  },
  {
   "cell_type": "markdown",
   "metadata": {},
   "source": [
    "从相关性分析做一个排序\n",
    "depression         0.299933       class              0.267328\n",
    "\n",
    "health             0.246979     equity             0.245552\n",
    "        \n",
    "family_status      0.235988        health_problem     0.182414\n",
    "\n",
    "relax              0.134761      learn              0.116214\n",
    "\n",
    "view               0.112572     socialize          0.103588\n",
    "\n",
    "house              0.103013      edu                0.102945\n",
    "\n",
    "political          0.094677       status_peer       -0.084743\n",
    "\n",
    "weight_jin         0.074584       work_type        0.065813\n",
    "\n",
    "religion             0.063539     hukou               0.057366\n",
    "\n",
    "family_m           0.054821       family_income  0.047654\n",
    "\n",
    "floor_area         0.046945        height_cm         0.030380\n",
    "\n",
    "work_status       0.026440         marital             -0.026026\n",
    "\n",
    "income              0.024056      tatus_3_before -0.022892\n",
    "\n",
    "gender               0.022016     work_manage    0.020994\n",
    "\n",
    "nationality        -0.018928        survey_type      -0.017043\n",
    "\n",
    "car                    -0.012826"
   ]
  },
  {
   "cell_type": "markdown",
   "metadata": {},
   "source": [
    "##### 2.depression \n",
    "在过去的四周中您感到心情抑郁或沮丧的频繁程度\t1 = 总是; 2 = 经常; 3 = 有时; 4 = 很少; 5 = 从不;"
   ]
  },
  {
   "cell_type": "code",
   "execution_count": 31,
   "metadata": {},
   "outputs": [
    {
     "data": {
      "text/plain": [
       "<matplotlib.axes._subplots.AxesSubplot at 0x168858698d0>"
      ]
     },
     "execution_count": 31,
     "metadata": {},
     "output_type": "execute_result"
    },
    {
     "data": {
      "image/png": "[encoded data removed]",
      "text/plain": [
       "<Figure size 432x288 with 1 Axes>"
      ]
     },
     "metadata": {
      "needs_background": "light"
     },
     "output_type": "display_data"
    }
   ],
   "source": [
    "traindata[['depression','happiness']].groupby(['depression']).mean().plot.bar()"
   ]
  },
  {
   "cell_type": "code",
   "execution_count": null,
   "metadata": {},
   "outputs": [],
   "source": [
    "depression与happiness有很大的正相关性,但是对于-8明显的是数据的异常,\n",
    "对于这部分异常的数据普遍幸福程度不高,而且depression与health和health_problem 有着相关性,我们要考虑这个异常数据的填充\n",
    "如果这部分异常数据不多我们考虑直接去除异常数据;查看-8的数据所占的比列"
   ]
  },
  {
   "cell_type": "code",
   "execution_count": 34,
   "metadata": {},
   "outputs": [
    {
     "data": {
      "image/png": "[encoded data removed]",
      "text/plain": [
       "<Figure size 432x288 with 1 Axes>"
      ]
     },
     "metadata": {},
     "output_type": "display_data"
    }
   ],
   "source": [
    "traindata['depression'].value_counts().plot.pie(autopct= '%1.1f%%')\n",
    "plt.xlabel('depression_error')\n",
    "plt.show()"
   ]
  },
  {
   "cell_type": "code",
   "execution_count": 35,
   "metadata": {},
   "outputs": [],
   "source": [
    "traindata = traindata[traindata['depression'] != -8]"
   ]
  },
  {
   "cell_type": "code",
   "execution_count": 36,
   "metadata": {},
   "outputs": [
    {
     "data": {
      "text/plain": [
       "<matplotlib.axes._subplots.AxesSubplot at 0x168858cf4a8>"
      ]
     },
     "execution_count": 36,
     "metadata": {},
     "output_type": "execute_result"
    },
    {
     "data": {
      "image/png": "[encoded data removed]",
      "text/plain": [
       "<Figure size 432x288 with 1 Axes>"
      ]
     },
     "metadata": {
      "needs_background": "light"
     },
     "output_type": "display_data"
    }
   ],
   "source": [
    "traindata[['depression','happiness']].groupby(['depression']).mean().plot.bar()"
   ]
  },
  {
   "cell_type": "markdown",
   "metadata": {},
   "source": [
    "##### 3.class\n",
    "您认为自己目前处于哪个等级上 1 = 1(最底层); 10 = 10(最顶层);"
   ]
  },
  {
   "cell_type": "code",
   "execution_count": 38,
   "metadata": {},
   "outputs": [
    {
     "data": {
      "text/plain": [
       "75"
      ]
     },
     "execution_count": 38,
     "metadata": {},
     "output_type": "execute_result"
    }
   ],
   "source": [
    "error_class = traindata[traindata['class'] == -8]\n",
    "error_class.shape[0]"
   ]
  },
  {
   "cell_type": "code",
   "execution_count": 39,
   "metadata": {},
   "outputs": [
    {
     "data": {
      "text/plain": [
       "7974"
      ]
     },
     "execution_count": 39,
     "metadata": {},
     "output_type": "execute_result"
    }
   ],
   "source": [
    "traindata.shape[0]"
   ]
  },
  {
   "cell_type": "markdown",
   "metadata": {},
   "source": [
    "选择去异常数据,也可以是将2或者3替换为-8"
   ]
  },
  {
   "cell_type": "code",
   "execution_count": 40,
   "metadata": {},
   "outputs": [],
   "source": [
    "traindata = traindata[traindata['class'] != -8]"
   ]
  },
  {
   "cell_type": "code",
   "execution_count": 139,
   "metadata": {},
   "outputs": [
    {
     "data": {
      "text/plain": [
       "<matplotlib.axes._subplots.AxesSubplot at 0x168895b4dd8>"
      ]
     },
     "execution_count": 139,
     "metadata": {},
     "output_type": "execute_result"
    },
    {
     "data": {
      "image/png": "[encoded data removed]",
      "text/plain": [
       "<Figure size 432x288 with 1 Axes>"
      ]
     },
     "metadata": {
      "needs_background": "light"
     },
     "output_type": "display_data"
    }
   ],
   "source": [
    "traindata[['class','happiness']].groupby(['class']).mean().plot.bar()"
   ]
  },
  {
   "cell_type": "markdown",
   "metadata": {},
   "source": [
    "##### 4. health\n",
    "您觉得您目前的身体健康状况\t1 = 很不健康; 2 = 比较不健康; 3 = 一般; 4 = 比较健康; 5 = 很健康;"
   ]
  },
  {
   "cell_type": "code",
   "execution_count": 42,
   "metadata": {},
   "outputs": [
    {
     "data": {
      "text/plain": [
       "3"
      ]
     },
     "execution_count": 42,
     "metadata": {},
     "output_type": "execute_result"
    }
   ],
   "source": [
    "error_class = traindata[traindata['health'] == -8]\n",
    "error_class.shape[0]"
   ]
  },
  {
   "cell_type": "code",
   "execution_count": 43,
   "metadata": {},
   "outputs": [],
   "source": [
    "#去除异常数据\n",
    "traindata = traindata[traindata['health'] != -8]"
   ]
  },
  {
   "cell_type": "code",
   "execution_count": 44,
   "metadata": {},
   "outputs": [
    {
     "data": {
      "text/plain": [
       "<matplotlib.axes._subplots.AxesSubplot at 0x168863805f8>"
      ]
     },
     "execution_count": 44,
     "metadata": {},
     "output_type": "execute_result"
    },
    {
     "data": {
      "image/png": "[encoded data removed]",
      "text/plain": [
       "<Figure size 432x288 with 1 Axes>"
      ]
     },
     "metadata": {
      "needs_background": "light"
     },
     "output_type": "display_data"
    }
   ],
   "source": [
    "traindata[['health','happiness']].groupby(['health']).mean().plot.bar()"
   ]
  },
  {
   "cell_type": "markdown",
   "metadata": {},
   "source": [
    "#####  5.equity\n",
    "总的来说，您认为当今社会公不公平\t1 = 完全不公平; 2 = 比较不公平; 3 = 说不上公平但也不能说不公平; 4 = 比较公平; 5 = 完全公平; "
   ]
  },
  {
   "cell_type": "code",
   "execution_count": 45,
   "metadata": {},
   "outputs": [
    {
     "data": {
      "text/plain": [
       "34"
      ]
     },
     "execution_count": 45,
     "metadata": {},
     "output_type": "execute_result"
    }
   ],
   "source": [
    "error_class = traindata[traindata['equity'] == -8]\n",
    "error_class.shape[0]"
   ]
  },
  {
   "cell_type": "code",
   "execution_count": 46,
   "metadata": {},
   "outputs": [],
   "source": [
    "#去除异常数据--异常数据不处理\n",
    "#traindata = traindata[traindata['equity'] != -8]"
   ]
  },
  {
   "cell_type": "code",
   "execution_count": 138,
   "metadata": {},
   "outputs": [
    {
     "data": {
      "text/plain": [
       "<matplotlib.axes._subplots.AxesSubplot at 0x16886aebac8>"
      ]
     },
     "execution_count": 138,
     "metadata": {},
     "output_type": "execute_result"
    },
    {
     "data": {
      "image/png": "[encoded data removed]",
      "text/plain": [
       "<Figure size 432x288 with 1 Axes>"
      ]
     },
     "metadata": {
      "needs_background": "light"
     },
     "output_type": "display_data"
    }
   ],
   "source": [
    "#equity\ta35\t\n",
    "traindata[['equity','happiness']].groupby(['equity']).mean().plot.bar()\n"
   ]
  },
  {
   "cell_type": "markdown",
   "metadata": {},
   "source": [
    "#####  6.family_status\n",
    "您家的家庭经济状况在所在地属于哪一档\t1 = 远低于平均水平; 2 = 低于平均水平; 3 = 平均水平; 4 = 高于平均水平; 5 = 远高于平均水平; \n"
   ]
  },
  {
   "cell_type": "code",
   "execution_count": 48,
   "metadata": {},
   "outputs": [
    {
     "data": {
      "text/plain": [
       "36"
      ]
     },
     "execution_count": 48,
     "metadata": {},
     "output_type": "execute_result"
    }
   ],
   "source": [
    "error_class = traindata[traindata['family_status'] == -8]\n",
    "error_class.shape[0]"
   ]
  },
  {
   "cell_type": "code",
   "execution_count": 49,
   "metadata": {},
   "outputs": [],
   "source": [
    "#去除异常数据\n",
    "traindata = traindata[traindata['family_status'] != -8]"
   ]
  },
  {
   "cell_type": "code",
   "execution_count": 50,
   "metadata": {},
   "outputs": [
    {
     "data": {
      "text/plain": [
       "<matplotlib.axes._subplots.AxesSubplot at 0x168858690b8>"
      ]
     },
     "execution_count": 50,
     "metadata": {},
     "output_type": "execute_result"
    },
    {
     "data": {
      "image/png": "[encoded data removed]",
      "text/plain": [
       "<Figure size 432x288 with 1 Axes>"
      ]
     },
     "metadata": {
      "needs_background": "light"
     },
     "output_type": "display_data"
    }
   ],
   "source": [
    "traindata[['family_status','happiness']].groupby(['family_status']).mean().plot.bar()"
   ]
  },
  {
   "cell_type": "markdown",
   "metadata": {},
   "source": [
    "##### 7.health_problem\t\n",
    "在过去的四周中由于健康问题影响到您的工作或其他日常活动的频繁程度\t-"
   ]
  },
  {
   "cell_type": "code",
   "execution_count": 51,
   "metadata": {},
   "outputs": [
    {
     "data": {
      "text/plain": [
       "33"
      ]
     },
     "execution_count": 51,
     "metadata": {},
     "output_type": "execute_result"
    }
   ],
   "source": [
    "error_class = traindata[traindata['health_problem'] == -8]\n",
    "error_class.shape[0]"
   ]
  },
  {
   "cell_type": "code",
   "execution_count": 52,
   "metadata": {},
   "outputs": [],
   "source": [
    "#去除异常数据\n",
    "traindata = traindata[traindata['health_problem'] != -8]"
   ]
  },
  {
   "cell_type": "code",
   "execution_count": 53,
   "metadata": {},
   "outputs": [
    {
     "data": {
      "text/plain": [
       "<matplotlib.axes._subplots.AxesSubplot at 0x16886975a90>"
      ]
     },
     "execution_count": 53,
     "metadata": {},
     "output_type": "execute_result"
    },
    {
     "data": {
      "image/png": "[encoded data removed]",
      "text/plain": [
       "<Figure size 432x288 with 1 Axes>"
      ]
     },
     "metadata": {
      "needs_background": "light"
     },
     "output_type": "display_data"
    }
   ],
   "source": [
    "traindata[['health_problem','happiness']].groupby(['health_problem']).mean().plot.bar()"
   ]
  },
  {
   "cell_type": "markdown",
   "metadata": {},
   "source": [
    "##### 8.relax \n",
    "在过去一年中，您是否经常在您的空闲时间做下面的事情-休息放松\t1 = 从不; 2 = 很少; 3 = 有时; 4 = 经常; 5 = 非常频繁; \n"
   ]
  },
  {
   "cell_type": "code",
   "execution_count": 54,
   "metadata": {},
   "outputs": [
    {
     "data": {
      "text/plain": [
       "12"
      ]
     },
     "execution_count": 54,
     "metadata": {},
     "output_type": "execute_result"
    }
   ],
   "source": [
    "error_class = traindata[traindata['relax'] == -8]\n",
    "error_class.shape[0]"
   ]
  },
  {
   "cell_type": "code",
   "execution_count": 55,
   "metadata": {},
   "outputs": [],
   "source": [
    "#去除异常数据\n",
    "traindata = traindata[traindata['relax'] != -8]"
   ]
  },
  {
   "cell_type": "code",
   "execution_count": 56,
   "metadata": {},
   "outputs": [
    {
     "data": {
      "text/plain": [
       "<matplotlib.axes._subplots.AxesSubplot at 0x168867ab940>"
      ]
     },
     "execution_count": 56,
     "metadata": {},
     "output_type": "execute_result"
    },
    {
     "data": {
      "image/png": "[encoded data removed]",
      "text/plain": [
       "<Figure size 432x288 with 1 Axes>"
      ]
     },
     "metadata": {
      "needs_background": "light"
     },
     "output_type": "display_data"
    }
   ],
   "source": [
    "traindata[['relax','happiness']].groupby(['relax']).mean().plot.bar()"
   ]
  },
  {
   "cell_type": "markdown",
   "metadata": {},
   "source": [
    "##### 9.learn\t\t\n",
    "在过去一年中，您是否经常在您的空闲时间做下面的事情-学习充电\t1 = 从不; 2 = 很少; 3 = 有时; 4 = 经常; 5 = 非常频繁; \n"
   ]
  },
  {
   "cell_type": "code",
   "execution_count": 58,
   "metadata": {},
   "outputs": [
    {
     "data": {
      "text/plain": [
       "10"
      ]
     },
     "execution_count": 58,
     "metadata": {},
     "output_type": "execute_result"
    }
   ],
   "source": [
    "error_class = traindata[traindata['learn'] == -8]\n",
    "error_class.shape[0]"
   ]
  },
  {
   "cell_type": "code",
   "execution_count": 59,
   "metadata": {},
   "outputs": [],
   "source": [
    "#去除异常数据\n",
    "traindata = traindata[traindata['learn'] != -8]"
   ]
  },
  {
   "cell_type": "code",
   "execution_count": 60,
   "metadata": {},
   "outputs": [
    {
     "data": {
      "text/plain": [
       "<matplotlib.axes._subplots.AxesSubplot at 0x16886882978>"
      ]
     },
     "execution_count": 60,
     "metadata": {},
     "output_type": "execute_result"
    },
    {
     "data": {
      "image/png": "[encoded data removed]",
      "text/plain": [
       "<Figure size 432x288 with 1 Axes>"
      ]
     },
     "metadata": {
      "needs_background": "light"
     },
     "output_type": "display_data"
    }
   ],
   "source": [
    "traindata[['learn','happiness']].groupby(['learn']).mean().plot.bar()"
   ]
  },
  {
   "cell_type": "markdown",
   "metadata": {},
   "source": [
    "##### 10.view \n",
    "根据您的一般印象您对一些重要事情所持的观点和看法与社会大众一致的时候有多少\t1 = 一致的时候非常少; 2 = 一致的时候比较少; 3 = 一般; 4 = 一致的时候比较多; 5 = 一致的时候非常多; \n"
   ]
  },
  {
   "cell_type": "code",
   "execution_count": 62,
   "metadata": {},
   "outputs": [
    {
     "data": {
      "text/plain": [
       "168"
      ]
     },
     "execution_count": 62,
     "metadata": {},
     "output_type": "execute_result"
    }
   ],
   "source": [
    "error_class = traindata[traindata['view'] == -8]\n",
    "error_class.shape[0]"
   ]
  },
  {
   "cell_type": "code",
   "execution_count": 65,
   "metadata": {},
   "outputs": [],
   "source": [
    "#view的异常数据比较多,暂时选择不删除异常view,而异常数据的均值更接近3,所以对于-8的数据我们设置为3\n",
    "traindata['view'].replace(-8,3,inplace = True)"
   ]
  },
  {
   "cell_type": "code",
   "execution_count": 68,
   "metadata": {
    "scrolled": true
   },
   "outputs": [
    {
     "data": {
      "text/plain": [
       "<matplotlib.axes._subplots.AxesSubplot at 0x168861569b0>"
      ]
     },
     "execution_count": 68,
     "metadata": {},
     "output_type": "execute_result"
    },
    {
     "data": {
      "image/png": "[encoded data removed]",
      "text/plain": [
       "<Figure size 432x288 with 1 Axes>"
      ]
     },
     "metadata": {
      "needs_background": "light"
     },
     "output_type": "display_data"
    }
   ],
   "source": [
    "traindata[['view','happiness']].groupby(['view']).mean().plot.bar()"
   ]
  },
  {
   "cell_type": "markdown",
   "metadata": {},
   "source": [
    "##### 11.socialize\n",
    "在过去一年中，您是否经常在您的空闲时间做下面的事情-社交\t1 = 从不; 2 = 很少; 3 = 有时; 4 = 经常; 5 = 非常频繁; \n"
   ]
  },
  {
   "cell_type": "code",
   "execution_count": 69,
   "metadata": {},
   "outputs": [
    {
     "data": {
      "text/plain": [
       "1"
      ]
     },
     "execution_count": 69,
     "metadata": {},
     "output_type": "execute_result"
    }
   ],
   "source": [
    "error_class = traindata[traindata['socialize'] == -8]\n",
    "error_class.shape[0]"
   ]
  },
  {
   "cell_type": "code",
   "execution_count": 70,
   "metadata": {},
   "outputs": [],
   "source": [
    "#去除异常数据\n",
    "traindata = traindata[traindata['socialize'] != -8]"
   ]
  },
  {
   "cell_type": "code",
   "execution_count": 71,
   "metadata": {},
   "outputs": [
    {
     "data": {
      "text/plain": [
       "<matplotlib.axes._subplots.AxesSubplot at 0x16886d0fa90>"
      ]
     },
     "execution_count": 71,
     "metadata": {},
     "output_type": "execute_result"
    },
    {
     "data": {
      "image/png": "[encoded data removed]",
      "text/plain": [
       "<Figure size 432x288 with 1 Axes>"
      ]
     },
     "metadata": {
      "needs_background": "light"
     },
     "output_type": "display_data"
    }
   ],
   "source": [
    "traindata[['socialize','happiness']].groupby(['socialize']).mean().plot.bar()"
   ]
  },
  {
   "cell_type": "markdown",
   "metadata": {},
   "source": [
    "##### 12.house \n",
    "您家现拥有几处房产\t96 = 房产数超过两位数; \n"
   ]
  },
  {
   "cell_type": "code",
   "execution_count": 72,
   "metadata": {},
   "outputs": [
    {
     "data": {
      "text/plain": [
       "<matplotlib.axes._subplots.AxesSubplot at 0x16886d80898>"
      ]
     },
     "execution_count": 72,
     "metadata": {},
     "output_type": "execute_result"
    },
    {
     "data": {
      "image/png": "[encoded data removed]",
      "text/plain": [
       "<Figure size 432x288 with 1 Axes>"
      ]
     },
     "metadata": {
      "needs_background": "light"
     },
     "output_type": "display_data"
    }
   ],
   "source": [
    "traindata[['house','happiness']].groupby(['house']).mean().plot.bar()"
   ]
  },
  {
   "cell_type": "markdown",
   "metadata": {},
   "source": [
    "##### 13.edu \n",
    "您目前的最高教育程度（包括目前在读的） \t1 = 没有受过任何教育; 2 = 私塾、扫盲班; 3 = 小学; 4 = 初中; 5 = 职业高中; 6 = 普通高中; 7 = 中专; 8 = 技校; 9 = 大学专科（成人高等教育）; 10 = 大学专科（正规高等教育）; 11 = 大学本科（成人高等教育）; 12 = 大学本科（正规高等教育）; 13 = 研究生及以上; 14 = 其他; \n"
   ]
  },
  {
   "cell_type": "code",
   "execution_count": 74,
   "metadata": {},
   "outputs": [
    {
     "data": {
      "text/plain": [
       "7"
      ]
     },
     "execution_count": 74,
     "metadata": {},
     "output_type": "execute_result"
    }
   ],
   "source": [
    "error_class = traindata[traindata['edu'] == -8]\n",
    "error_class.shape[0]"
   ]
  },
  {
   "cell_type": "code",
   "execution_count": 75,
   "metadata": {},
   "outputs": [],
   "source": [
    "#去除异常数据\n",
    "traindata = traindata[traindata['edu'] != -8]"
   ]
  },
  {
   "cell_type": "code",
   "execution_count": 76,
   "metadata": {},
   "outputs": [
    {
     "data": {
      "text/plain": [
       "<matplotlib.axes._subplots.AxesSubplot at 0x16888f4e198>"
      ]
     },
     "execution_count": 76,
     "metadata": {},
     "output_type": "execute_result"
    },
    {
     "data": {
      "image/png": "[encoded data removed]",
      "text/plain": [
       "<Figure size 432x288 with 1 Axes>"
      ]
     },
     "metadata": {
      "needs_background": "light"
     },
     "output_type": "display_data"
    }
   ],
   "source": [
    "traindata[['edu','happiness']].groupby(['edu']).mean().plot.bar()"
   ]
  },
  {
   "cell_type": "markdown",
   "metadata": {},
   "source": [
    "从上面edu和house已经找不到跟happniess很规律的影响了所以放弃这两个及以后的元素的相关分析,开始分析一些特殊元素"
   ]
  },
  {
   "cell_type": "markdown",
   "metadata": {},
   "source": [
    "### 以下对一些特殊的字段进行处理"
   ]
  },
  {
   "cell_type": "markdown",
   "metadata": {},
   "source": [
    "#####  14.birth\n",
    "您的出生日期-年"
   ]
  },
  {
   "cell_type": "code",
   "execution_count": 89,
   "metadata": {},
   "outputs": [
    {
     "name": "stdout",
     "output_type": "stream",
     "text": [
      "count    8000.000000\n",
      "mean     1964.707625\n",
      "std        16.842865\n",
      "min      1921.000000\n",
      "25%      1952.000000\n",
      "50%      1965.000000\n",
      "75%      1977.000000\n",
      "max      1997.000000\n",
      "Name: birth, dtype: float64\n"
     ]
    }
   ],
   "source": [
    "print(traindata['birth'].describe())"
   ]
  },
  {
   "cell_type": "code",
   "execution_count": 99,
   "metadata": {},
   "outputs": [
    {
     "name": "stdout",
     "output_type": "stream",
     "text": [
      "birth\n",
      "(1915, 1955]    3.911787\n",
      "(1955, 1965]    3.740765\n",
      "(1965, 1975]    3.782955\n",
      "(1975, 1985]    3.858439\n",
      "(1985, 1997]    3.946809\n",
      "Name: happiness, dtype: float64\n"
     ]
    }
   ],
   "source": [
    "#再分细一点\n",
    "#将数据分为几个年龄段60-100 岁，50-60.40-50.30-40,18-30\n",
    "bins = [1915, 1955,1965,1975,1985, 1997] \n",
    "traindata['birth'] = pd.cut(traindata['birth'],bins)\n",
    "by_age = traindata.groupby('birth')['happiness'].mean()\n",
    "print(by_age)"
   ]
  },
  {
   "cell_type": "code",
   "execution_count": 100,
   "metadata": {
    "scrolled": true
   },
   "outputs": [
    {
     "data": {
      "text/plain": [
       "<matplotlib.axes._subplots.AxesSubplot at 0x16888eebe80>"
      ]
     },
     "execution_count": 100,
     "metadata": {},
     "output_type": "execute_result"
    },
    {
     "data": {
      "image/png": "[encoded data removed]",
      "text/plain": [
       "<Figure size 432x288 with 1 Axes>"
      ]
     },
     "metadata": {
      "needs_background": "light"
     },
     "output_type": "display_data"
    }
   ],
   "source": [
    "#birth\t\t您的出生日期-年\t-\n",
    "traindata[['birth','happiness']].groupby(['birth']).mean().plot.bar()"
   ]
  },
  {
   "cell_type": "code",
   "execution_count": null,
   "metadata": {},
   "outputs": [],
   "source": [
    "根据分析，中年人的35-60岁之间的人幸福指数最低,但是影响不是很明显"
   ]
  },
  {
   "cell_type": "code",
   "execution_count": 40,
   "metadata": {},
   "outputs": [
    {
     "data": {
      "image/png": "[encoded data removed]",
      "text/plain": [
       "<Figure size 792x360 with 2 Axes>"
      ]
     },
     "metadata": {},
     "output_type": "display_data"
    }
   ],
   "source": [
    "#traindata.groupby(['survey_type','happiness'])['happiness'].count()\n",
    "#将数据分为有 1 = 城市; 2 = 农村的所占比列两组：1 = 非常不幸福; 2 = 比较不幸福; 3 = 说不上幸福不幸福; 4 = 比较幸福; 5 = 非常幸福\n",
    "city_df = traindata[traindata['survey_type'] == 1]\n",
    "not_city_df = traindata[traindata['survey_type'] == 2]\n",
    "\n",
    "plt.figure(figsize=(11,5))\n",
    "plt.subplot(121)\n",
    "city_df['happiness'].value_counts().plot.pie(autopct= '%1.1f%%')\n",
    "plt.xlabel('city')\n",
    " \n",
    "plt.subplot(122)\n",
    "not_city_df['happiness'].value_counts().plot.pie(autopct= '%1.1f%%')\n",
    "plt.xlabel('not_city')\n",
    " \n",
    "plt.show()"
   ]
  },
  {
   "cell_type": "markdown",
   "metadata": {},
   "source": [
    "从上面的两个图标来看survey_type的平均幸福指数，和各类幸福程度的占比都相差不大，认为survey_type对幸福指数没有影响"
   ]
  },
  {
   "cell_type": "code",
   "execution_count": 92,
   "metadata": {},
   "outputs": [
    {
     "name": "stdout",
     "output_type": "stream",
     "text": [
      "count    8.000000e+03\n",
      "mean     3.330734e+04\n",
      "std      2.329853e+05\n",
      "min     -3.000000e+00\n",
      "25%      1.695000e+03\n",
      "50%      1.500000e+04\n",
      "75%      3.600000e+04\n",
      "max      9.999990e+06\n",
      "Name: income, dtype: float64\n"
     ]
    }
   ],
   "source": [
    "#income\t\t您个人去年全年的总收入\t9999996 = 个人全年总收入高于百万位数; \n",
    "print(traindata['income'].describe())"
   ]
  },
  {
   "cell_type": "code",
   "execution_count": 93,
   "metadata": {},
   "outputs": [
    {
     "name": "stdout",
     "output_type": "stream",
     "text": [
      "income\n",
      "(-100, 0]              3.770732\n",
      "(0, 100000]            3.863185\n",
      "(100000, 300000]       4.048193\n",
      "(300000, 500000]       4.157895\n",
      "(500000, 1000000]      4.227273\n",
      "(1000000, 10000000]    4.333333\n",
      "Name: happiness, dtype: float64\n"
     ]
    }
   ],
   "source": [
    "#对于年收入分等级 无收入，十万以内，三十万以内，五十万以内，百万以内，千万级别\n",
    "bins = [-100,0,100000,300000,500000,1000000,10000000] \n",
    "traindata['income'] = pd.cut(traindata['income'],bins)\n",
    "by_income = traindata.groupby('income')['happiness'].mean()\n",
    "print(by_income)"
   ]
  },
  {
   "cell_type": "markdown",
   "metadata": {},
   "source": [
    "大概分析收入越高幸福指数越高"
   ]
  },
  {
   "cell_type": "code",
   "execution_count": 65,
   "metadata": {},
   "outputs": [
    {
     "data": {
      "text/plain": [
       "<matplotlib.axes._subplots.AxesSubplot at 0x20027b0cc18>"
      ]
     },
     "execution_count": 65,
     "metadata": {},
     "output_type": "execute_result"
    },
    {
     "data": {
      "image/png": "[encoded data removed]",
      "text/plain": [
       "<Figure size 432x288 with 1 Axes>"
      ]
     },
     "metadata": {
      "needs_background": "light"
     },
     "output_type": "display_data"
    }
   ],
   "source": [
    "#political\t您目前的政治面貌\t1 = 群众; 2 = 共青团员; 3 = 民主党派; 4 = 共产党员;\n",
    "traindata[['political','happiness']].groupby(['political']).mean().plot.bar()"
   ]
  },
  {
   "cell_type": "code",
   "execution_count": 66,
   "metadata": {},
   "outputs": [
    {
     "name": "stdout",
     "output_type": "stream",
     "text": [
      "count    8000.000000\n",
      "mean      115.302954\n",
      "std        87.275890\n",
      "min         3.000000\n",
      "25%        64.000000\n",
      "50%        96.000000\n",
      "75%       130.000000\n",
      "max      1300.000000\n",
      "Name: floor_area, dtype: float64\n"
     ]
    }
   ],
   "source": [
    "#floor_area\t\t您现在住的这座住房的套内建筑面积\t-\n",
    "print(traindata['floor_area'].describe())"
   ]
  },
  {
   "cell_type": "code",
   "execution_count": 67,
   "metadata": {},
   "outputs": [
    {
     "name": "stdout",
     "output_type": "stream",
     "text": [
      "floor_area\n",
      "(0, 30]        3.694915\n",
      "(30, 60]       3.728947\n",
      "(60, 100]      3.863636\n",
      "(100, 130]     3.930636\n",
      "(130, 1500]    3.906788\n",
      "Name: happiness, dtype: float64\n"
     ]
    }
   ],
   "source": [
    "bins = [0,30,60,100,130,1500] \n",
    "traindata['floor_area'] = pd.cut(traindata['floor_area'],bins)\n",
    "by_floor_area = traindata.groupby('floor_area')['happiness'].mean()\n",
    "print(by_floor_area)"
   ]
  },
  {
   "cell_type": "code",
   "execution_count": null,
   "metadata": {},
   "outputs": [],
   "source": [
    "居住面积影响不是特别大但也有线性相关的趋势"
   ]
  },
  {
   "cell_type": "code",
   "execution_count": 103,
   "metadata": {},
   "outputs": [],
   "source": [
    "#height_cm\t\t您目前的身高是（厘米）\t-\n",
    "#weight_jin\t\t您目前的体重是（斤）\t-\n",
    "whbmi=(traindata['weight_jin']/2)/((traindata['height_cm']/100)*(traindata['height_cm']/100))\n",
    "traindata['whbmi'] = whbmi"
   ]
  },
  {
   "cell_type": "code",
   "execution_count": 104,
   "metadata": {},
   "outputs": [
    {
     "name": "stdout",
     "output_type": "stream",
     "text": [
      "count    8000.000000\n",
      "mean       22.532004\n",
      "std         3.564708\n",
      "min         7.807852\n",
      "25%        20.202020\n",
      "50%        22.313278\n",
      "75%        24.654832\n",
      "max        49.149338\n",
      "Name: whbmi, dtype: float64\n"
     ]
    }
   ],
   "source": [
    "print(traindata['whbmi'].describe())"
   ]
  },
  {
   "cell_type": "code",
   "execution_count": 105,
   "metadata": {},
   "outputs": [
    {
     "name": "stdout",
     "output_type": "stream",
     "text": [
      "whbmi\n",
      "(0.0, 18.5]     3.713134\n",
      "(18.5, 24.0]    3.828922\n",
      "(24.0, 28.0]    3.944557\n",
      "(28.0, 32.0]    3.933036\n",
      "(32.0, 50.0]    3.774648\n",
      "Name: happiness, dtype: float64\n"
     ]
    }
   ],
   "source": [
    "#过轻：低于18.5 正常：18.5-23.9 过重：24-27 肥胖：28-32 非常肥胖, 高于32\n",
    "bins = [0,18.5,24,28,32,50] \n",
    "traindata['whbmi'] = pd.cut(traindata['whbmi'],bins)\n",
    "by_whbmi = traindata.groupby('whbmi')['happiness'].mean()\n",
    "print(by_whbmi)"
   ]
  },
  {
   "cell_type": "markdown",
   "metadata": {},
   "source": [
    "过轻和肥胖的相对幸福指数要低,一般过轻和肥胖也是健康状态不是那么好"
   ]
  },
  {
   "cell_type": "code",
   "execution_count": 74,
   "metadata": {},
   "outputs": [
    {
     "data": {
      "text/plain": [
       "<matplotlib.axes._subplots.AxesSubplot at 0x200277835f8>"
      ]
     },
     "execution_count": 74,
     "metadata": {},
     "output_type": "execute_result"
    },
    {
     "data": {
      "image/png": "[encoded data removed]",
      "text/plain": [
       "<Figure size 432x288 with 1 Axes>"
      ]
     },
     "metadata": {
      "needs_background": "light"
     },
     "output_type": "display_data"
    }
   ],
   "source": [
    "#hukou\ta18\t您目前的户口登记状况\t1 = 农业户口; 2 = 非农业户口; 3 = 蓝印户口; 4 = 居民户口（以前是农业户口）; 5 = 居民户口（以前是非农业户口）; 6 = 军籍; 7 = 没有户口; 8 = 其他;\n",
    "traindata[['hukou','happiness']].groupby(['hukou']).mean().plot.bar()"
   ]
  },
  {
   "cell_type": "code",
   "execution_count": 107,
   "metadata": {},
   "outputs": [
    {
     "data": {
      "text/plain": [
       "7"
      ]
     },
     "execution_count": 107,
     "metadata": {},
     "output_type": "execute_result"
    }
   ],
   "source": [
    "hukou_3 = traindata[traindata['hukou'] == 3]\n",
    "error_class.shape[0]"
   ]
  },
  {
   "cell_type": "code",
   "execution_count": 108,
   "metadata": {},
   "outputs": [
    {
     "data": {
      "text/plain": [
       "7"
      ]
     },
     "execution_count": 108,
     "metadata": {},
     "output_type": "execute_result"
    }
   ],
   "source": [
    "hukou_3 = traindata[traindata['hukou'] == 7]\n",
    "error_class.shape[0]"
   ]
  },
  {
   "cell_type": "code",
   "execution_count": null,
   "metadata": {},
   "outputs": [],
   "source": [
    "蓝印户口,军籍,没有户口的相对幸福指数要高一些,但是由于样本比列太少了不作为参考"
   ]
  },
  {
   "cell_type": "code",
   "execution_count": 81,
   "metadata": {},
   "outputs": [
    {
     "data": {
      "text/plain": [
       "<matplotlib.axes._subplots.AxesSubplot at 0x20028eb9208>"
      ]
     },
     "execution_count": 81,
     "metadata": {},
     "output_type": "execute_result"
    },
    {
     "data": {
      "image/png": "[encoded data removed]",
      "text/plain": [
       "<Figure size 432x288 with 1 Axes>"
      ]
     },
     "metadata": {
      "needs_background": "light"
     },
     "output_type": "display_data"
    }
   ],
   "source": [
    "#work_status\ta59a\t下列各种情形，哪一种更符合您目前工作的状况\t1 = 自己是老板（或者是合伙人）; 2 = 个体工商户; 3 = 受雇于他人（有固定雇主）; 4 = 劳务工/劳务派遣人员; 5 = 零工、散工（无固定雇主的受雇者）; 6 = 在自己家的生意/企业中工作/帮忙，领工资; 7 = 在自己家的生意/企业中工作/帮忙，不领工资; 8 = 自由职业者; 9 = 其他; \n",
    "traindata[['work_status','happiness']].groupby(['work_status']).mean().plot.bar()"
   ]
  },
  {
   "cell_type": "code",
   "execution_count": 99,
   "metadata": {},
   "outputs": [
    {
     "data": {
      "text/plain": [
       "<matplotlib.axes._subplots.AxesSubplot at 0x200293ab320>"
      ]
     },
     "execution_count": 99,
     "metadata": {},
     "output_type": "execute_result"
    },
    {
     "data": {
      "image/png": "[encoded data removed]",
      "text/plain": [
       "<Figure size 432x288 with 1 Axes>"
      ]
     },
     "metadata": {
      "needs_background": "light"
     },
     "output_type": "display_data"
    }
   ],
   "source": [
    "#family_income\ta62\t您家去年全年家庭总收入\t9999996 = 全年全家总收入超过了百万位数; \n",
    "traindata[['family_income','happiness']].groupby(['family_income']).mean().plot.bar()"
   ]
  },
  {
   "cell_type": "code",
   "execution_count": 90,
   "metadata": {
    "scrolled": true
   },
   "outputs": [
    {
     "data": {
      "text/plain": [
       "<matplotlib.axes._subplots.AxesSubplot at 0x20029292b70>"
      ]
     },
     "execution_count": 90,
     "metadata": {},
     "output_type": "execute_result"
    },
    {
     "data": {
      "image/png": "[encoded data removed]",
      "text/plain": [
       "<Figure size 432x288 with 1 Axes>"
      ]
     },
     "metadata": {
      "needs_background": "light"
     },
     "output_type": "display_data"
    }
   ],
   "source": [
    "#family_m\ta63\t您家目前住在一起的通常有几人（包括您本人）\n",
    "traindata[['family_m','happiness']].groupby(['family_m']).mean().plot.bar()"
   ]
  },
  {
   "cell_type": "markdown",
   "metadata": {},
   "source": [
    "家庭总收入和人数都没有呈现一定的规律，所以使用这两个再做一次数据处理"
   ]
  },
  {
   "cell_type": "code",
   "execution_count": 91,
   "metadata": {},
   "outputs": [
    {
     "name": "stdout",
     "output_type": "stream",
     "text": [
      "count    7.999000e+03\n",
      "mean     6.776050e+04\n",
      "std      2.909591e+05\n",
      "min     -3.000000e+00\n",
      "25%      1.300000e+04\n",
      "50%      3.800000e+04\n",
      "75%      7.000000e+04\n",
      "max      9.999992e+06\n",
      "Name: family_income, dtype: float64\n"
     ]
    }
   ],
   "source": [
    "print(traindata['family_income'].describe())"
   ]
  },
  {
   "cell_type": "code",
   "execution_count": 109,
   "metadata": {},
   "outputs": [],
   "source": [
    "avg_income=traindata['family_income']/traindata['family_m']\n",
    "traindata['avg_income'] = avg_income"
   ]
  },
  {
   "cell_type": "code",
   "execution_count": 93,
   "metadata": {},
   "outputs": [
    {
     "name": "stdout",
     "output_type": "stream",
     "text": [
      "count    7.999000e+03\n",
      "mean     2.951270e+04\n",
      "std      1.961064e+05\n",
      "min     -3.000000e+05\n",
      "25%      5.000000e+03\n",
      "50%      1.333333e+04\n",
      "75%      3.000000e+04\n",
      "max      9.150000e+06\n",
      "Name: avg_income, dtype: float64\n"
     ]
    }
   ],
   "source": [
    "print(traindata['avg_income'].describe())"
   ]
  },
  {
   "cell_type": "code",
   "execution_count": 110,
   "metadata": {},
   "outputs": [],
   "source": [
    "#对于年收入分等级 无收入，2万以内，5万以内，十万以内，百万以内，千万级别\n",
    "bins = [-100,0,20000,50000,100000,1000000,10000000] \n",
    "traindata['avg_income'] = pd.cut(traindata['avg_income'],bins)"
   ]
  },
  {
   "cell_type": "markdown",
   "metadata": {},
   "source": [
    "家庭人数为-1 -2 -3 和50的数据应该是异常数据，人均年收入对幸福指数呈现线性变化"
   ]
  },
  {
   "cell_type": "code",
   "execution_count": 114,
   "metadata": {},
   "outputs": [
    {
     "data": {
      "text/plain": [
       "1"
      ]
     },
     "execution_count": 114,
     "metadata": {},
     "output_type": "execute_result"
    }
   ],
   "source": [
    "error_class = traindata[traindata['family_m'] == 50]\n",
    "error_class.shape[0]"
   ]
  },
  {
   "cell_type": "code",
   "execution_count": 115,
   "metadata": {},
   "outputs": [],
   "source": [
    "traindata = traindata[traindata['socialize'] != -1]\n",
    "traindata = traindata[traindata['socialize'] != -2]\n",
    "traindata = traindata[traindata['socialize'] != -3]\n",
    "traindata = traindata[traindata['socialize'] != 50]"
   ]
  },
  {
   "cell_type": "code",
   "execution_count": 116,
   "metadata": {},
   "outputs": [
    {
     "data": {
      "text/plain": [
       "<matplotlib.axes._subplots.AxesSubplot at 0x168890902b0>"
      ]
     },
     "execution_count": 116,
     "metadata": {},
     "output_type": "execute_result"
    },
    {
     "data": {
      "image/png": "[encoded data removed]",
      "text/plain": [
       "<Figure size 432x288 with 1 Axes>"
      ]
     },
     "metadata": {
      "needs_background": "light"
     },
     "output_type": "display_data"
    }
   ],
   "source": [
    "#人均年收入与幸福指数的关系\n",
    "traindata[['avg_income','happiness']].groupby(['avg_income']).mean().plot.bar()"
   ]
  },
  {
   "cell_type": "code",
   "execution_count": 87,
   "metadata": {},
   "outputs": [
    {
     "data": {
      "text/plain": [
       "<matplotlib.axes._subplots.AxesSubplot at 0x200291555f8>"
      ]
     },
     "execution_count": 87,
     "metadata": {},
     "output_type": "execute_result"
    },
    {
     "data": {
      "image/png": "[encoded data removed]",
      "text/plain": [
       "<Figure size 432x288 with 1 Axes>"
      ]
     },
     "metadata": {
      "needs_background": "light"
     },
     "output_type": "display_data"
    }
   ],
   "source": [
    "#car\ta66\t您家是否拥有家用小汽车\t1 = 有; 2 = 没有; \n",
    "traindata[['car','happiness']].groupby(['car']).mean().plot.bar()"
   ]
  },
  {
   "cell_type": "code",
   "execution_count": 117,
   "metadata": {},
   "outputs": [
    {
     "data": {
      "text/plain": [
       "<matplotlib.axes._subplots.AxesSubplot at 0x168890f82b0>"
      ]
     },
     "execution_count": 117,
     "metadata": {},
     "output_type": "execute_result"
    },
    {
     "data": {
      "image/png": "[encoded data removed]",
      "text/plain": [
       "<Figure size 432x288 with 1 Axes>"
      ]
     },
     "metadata": {
      "needs_background": "light"
     },
     "output_type": "display_data"
    }
   ],
   "source": [
    "#marital a69 您目前的婚姻状况 1 = 未婚; 2 = 同居; 3 = 初婚有配偶; 4 = 再婚有配偶; 5 = 分居未离婚; 6 = 离婚; 7 = 丧偶;\n",
    "traindata[['marital','happiness']].groupby(['marital']).mean().plot.bar()"
   ]
  },
  {
   "cell_type": "markdown",
   "metadata": {},
   "source": [
    "5 = 分居未离婚; 6 = 离婚 这两种婚姻状况幸福程度相对低一点,其他的没有特别明显的差异\n",
    "所以我选择将数据做一次变量调整,将1,2,3,4,7 设置为1,6设置为2,5设置为3"
   ]
  },
  {
   "cell_type": "code",
   "execution_count": 136,
   "metadata": {},
   "outputs": [],
   "source": [
    "traindata['marital'].replace(2,1,inplace = True)\n",
    "traindata['marital'].replace(3,1,inplace = True)\n",
    "traindata['marital'].replace(4,1,inplace = True)\n",
    "traindata['marital'].replace(7,1,inplace = True)\n",
    "traindata['marital'].replace(6,2,inplace = True)\n",
    "traindata['marital'].replace(5,3,inplace = True)"
   ]
  },
  {
   "cell_type": "code",
   "execution_count": 137,
   "metadata": {},
   "outputs": [
    {
     "data": {
      "text/plain": [
       "<matplotlib.axes._subplots.AxesSubplot at 0x16886a86e10>"
      ]
     },
     "execution_count": 137,
     "metadata": {},
     "output_type": "execute_result"
    },
    {
     "data": {
      "image/png": "[encoded data removed]",
      "text/plain": [
       "<Figure size 432x288 with 1 Axes>"
      ]
     },
     "metadata": {
      "needs_background": "light"
     },
     "output_type": "display_data"
    }
   ],
   "source": [
    "traindata[['marital','happiness']].groupby(['marital']).mean().plot.bar()"
   ]
  },
  {
   "cell_type": "code",
   "execution_count": 118,
   "metadata": {},
   "outputs": [
    {
     "data": {
      "text/plain": [
       "49"
      ]
     },
     "execution_count": 118,
     "metadata": {},
     "output_type": "execute_result"
    }
   ],
   "source": [
    "error_class = traindata[traindata['status_peer'] == -8]\n",
    "error_class.shape[0]"
   ]
  },
  {
   "cell_type": "code",
   "execution_count": 121,
   "metadata": {},
   "outputs": [],
   "source": [
    "traindata = traindata[traindata['status_peer'] != -8]"
   ]
  },
  {
   "cell_type": "code",
   "execution_count": 122,
   "metadata": {},
   "outputs": [
    {
     "data": {
      "text/plain": [
       "<matplotlib.axes._subplots.AxesSubplot at 0x168891bdb00>"
      ]
     },
     "execution_count": 122,
     "metadata": {},
     "output_type": "execute_result"
    },
    {
     "data": {
      "image/png": "[encoded data removed]",
      "text/plain": [
       "<Figure size 432x288 with 1 Axes>"
      ]
     },
     "metadata": {
      "needs_background": "light"
     },
     "output_type": "display_data"
    }
   ],
   "source": [
    "#status_peer\tb1\t与同龄人相比，您本人的社会经济地位怎样\t1 = 较高; 2 = 差不多; 3 = 较低; \n",
    "traindata[['status_peer','happiness']].groupby(['status_peer']).mean().plot.bar()"
   ]
  },
  {
   "cell_type": "markdown",
   "metadata": {},
   "source": [
    "status_peer 和幸福还是有一点线性的关系的"
   ]
  },
  {
   "cell_type": "code",
   "execution_count": 128,
   "metadata": {},
   "outputs": [
    {
     "data": {
      "text/plain": [
       "0"
      ]
     },
     "execution_count": 128,
     "metadata": {},
     "output_type": "execute_result"
    }
   ],
   "source": [
    "error_class = traindata[traindata['status_3_before'] == -8]\n",
    "error_class.shape[0]"
   ]
  },
  {
   "cell_type": "code",
   "execution_count": 129,
   "metadata": {},
   "outputs": [],
   "source": [
    "traindata = traindata[traindata['status_3_before'] != -8]"
   ]
  },
  {
   "cell_type": "code",
   "execution_count": 130,
   "metadata": {},
   "outputs": [
    {
     "data": {
      "text/plain": [
       "<matplotlib.axes._subplots.AxesSubplot at 0x1688907a7b8>"
      ]
     },
     "execution_count": 130,
     "metadata": {},
     "output_type": "execute_result"
    },
    {
     "data": {
      "image/png": "[encoded data removed]",
      "text/plain": [
       "<Figure size 432x288 with 1 Axes>"
      ]
     },
     "metadata": {
      "needs_background": "light"
     },
     "output_type": "display_data"
    }
   ],
   "source": [
    "#status_3_before\tb2\t与三年前相比，您的社会经济地位发生了什么变化\t1 = 上升了; 2 = 差不多; 3 = 下降了; \n",
    "traindata[['status_3_before','happiness']].groupby(['status_3_before']).mean().plot.bar()"
   ]
  },
  {
   "cell_type": "code",
   "execution_count": 132,
   "metadata": {},
   "outputs": [
    {
     "data": {
      "text/plain": [
       "<matplotlib.axes._subplots.AxesSubplot at 0x168869d30b8>"
      ]
     },
     "execution_count": 132,
     "metadata": {},
     "output_type": "execute_result"
    },
    {
     "data": {
      "image/png": "[encoded data removed]",
      "text/plain": [
       "<Figure size 432x288 with 1 Axes>"
      ]
     },
     "metadata": {
      "needs_background": "light"
     },
     "output_type": "display_data"
    }
   ],
   "source": [
    "#inc_ability\t\t考虑到您的能力和工作状况，您目前的收入是否合理\t1 = 非常合理; 2 = 合理; 3 = 不合理; 4 = 非常不合理; \n",
    "traindata[['inc_ability','happiness']].groupby(['inc_ability']).mean().plot.bar()"
   ]
  },
  {
   "cell_type": "code",
   "execution_count": 133,
   "metadata": {},
   "outputs": [
    {
     "data": {
      "text/plain": [
       "937"
      ]
     },
     "execution_count": 133,
     "metadata": {},
     "output_type": "execute_result"
    }
   ],
   "source": [
    "error_class = traindata[traindata['inc_ability'] == -8]\n",
    "error_class.shape[0]"
   ]
  },
  {
   "cell_type": "markdown",
   "metadata": {},
   "source": [
    "由于-8的值比较多我们不能移除,我们选择将他们设置为3,因为指数和三最想接近"
   ]
  },
  {
   "cell_type": "code",
   "execution_count": 134,
   "metadata": {},
   "outputs": [],
   "source": [
    "traindata['inc_ability'].replace(-8,3,inplace = True)"
   ]
  },
  {
   "cell_type": "code",
   "execution_count": 135,
   "metadata": {},
   "outputs": [
    {
     "data": {
      "text/plain": [
       "<matplotlib.axes._subplots.AxesSubplot at 0x16886a2cda0>"
      ]
     },
     "execution_count": 135,
     "metadata": {},
     "output_type": "execute_result"
    },
    {
     "data": {
      "image/png": "[encoded data removed]",
      "text/plain": [
       "<Figure size 432x288 with 1 Axes>"
      ]
     },
     "metadata": {
      "needs_background": "light"
     },
     "output_type": "display_data"
    }
   ],
   "source": [
    "traindata[['inc_ability','happiness']].groupby(['inc_ability']).mean().plot.bar()"
   ]
  },
  {
   "cell_type": "markdown",
   "metadata": {},
   "source": [
    "这样和幸福指数就有了线性关系"
   ]
  },
  {
   "cell_type": "markdown",
   "metadata": {},
   "source": [
    "### 4.特征分析与数据处理"
   ]
  },
  {
   "cell_type": "markdown",
   "metadata": {},
   "source": [
    "经过以上的分析我决定将以下参数纳入算法的计算中,并对这些特征值做以下处理\n",
    "\n",
    "happiness：有一部分数据是-8,证明是异常数据,这部分数据没有参考意义,去除\n",
    "traindata = traindata[traindata['happiness'] != -8]\n",
    "\n",
    "depression：在过去的四周中您感到心情抑郁或沮丧的频繁程度 1 = 总是; 2 = 经常; 3 = 有时; 4 = 很少; 5 = 从不;并且去除-8明显的是数据的异常,\n",
    "traindata = traindata[traindata['depression'] != -8]\n",
    "\n",
    "class：您认为自己目前处于哪个等级上 1 = 1(最底层); 10 = 10(最顶层);并且去除-8明显的是数据的异常\n",
    "traindata = traindata[traindata['class'] != -8]\n",
    "\n",
    "health：您觉得您目前的身体健康状况 1 = 很不健康; 2 = 比较不健康; 3 = 一般; 4 = 比较健康; 5 = 很健康;并且去除-8明显的是数据的异常\n",
    "traindata = traindata[traindata['health'] != -8]\n",
    "\n",
    "equity：总的来说，您认为当今社会公不公平 1 = 完全不公平; 2 = 比较不公平; 3 = 说不上公平但也不能说不公平; 4 = 比较公平; 5 = 完全公平;并且去除-8明显的是数据的异常\n",
    "traindata = traindata[traindata['equity'] != -8]\n",
    "\n",
    "family_status：您家的家庭经济状况在所在地属于哪一档 1 = 远低于平均水平; 2 = 低于平均水平; 3 = 平均水平; 4 = 高于平均水平; 5 = 远高于平均水平;\n",
    "traindata = traindata[traindata['family_status'] != -8]\n",
    "\n",
    "health_problem：在过去的四周中由于健康问题影响到您的工作或其他日常活动的频繁程度 -1-5\n",
    "traindata = traindata[traindata['health_problem'] != -8]\n",
    "\n",
    "relax：在过去一年中，您是否经常在您的空闲时间做下面的事情-休息放松 1 = 从不; 2 = 很少; 3 = 有时; 4 = 经常; 5 = 非常频繁;\n",
    "traindata = traindata[traindata['relax'] != -8]\n",
    "\n",
    "learn：在过去一年中，您是否经常在您的空闲时间做下面的事情-学习充电 1 = 从不; 2 = 很少; 3 = 有时; 4 = 经常; 5 = 非常频繁;\n",
    "traindata = traindata[traindata['learn'] != -8]\n",
    "\n",
    "view：根据您的一般印象您对一些重要事情所持的观点和看法与社会大众一致的时候有多少 1 = 一致的时候非常少; 2 = 一致的时候比较少; 3 = 一般; 4 = 一致的时候比较多; 5 = 一致的时候非常多;\n",
    "#view的异常数据比较多,暂时选择不删除异常view,而异常数据的均值更接近3,所以对于-8的数据我们设置为3\n",
    "traindata['view'].replace(-8,3,inplace = True)\n",
    "\n",
    "socialize：在过去一年中，您是否经常在您的空闲时间做下面的事情-社交 1 = 从不; 2 = 很少; 3 = 有时; 4 = 经常; 5 = 非常频繁;\n",
    "traindata = traindata[traindata['socialize'] != -8]\n",
    "\n",
    "income：您个人去年全年的总收入\t9999996 = 个人全年总收入高于百万位数;\n",
    "将年收入分类\n",
    "#对于年收入分等级 无收入，十万以内，三十万以内，五十万以内，百万以内，千万级别\n",
    "bins = [-100,0,100000,300000,500000,1000000,10000000] \n",
    "大概分析收入越高幸福指数越高\n",
    "\n",
    "\n",
    "身高体重的比例\n",
    "whbmi=(traindata['weight_jin']/2)/((traindata['height_cm']/100)*(traindata['height_cm']/100))\n",
    "traindata['whbmi'] = whbmi\n",
    "#过轻：低于18.5 正常：18.5-23.9 过重：24-27 肥胖：28-32 非常肥胖, 高于32\n",
    "bins = [0,18.5,24,28,32,100] \n",
    "traindata['whbmi'] = pd.cut(traindata['whbmi'],bins)\n",
    "结果显示过轻和肥胖的相对幸福指数要低,一般过轻和肥胖也是健康状态不是那么好所以先不做分析\n",
    "\n",
    "hukou\t您目前的户口登记状况\t1 = 农业户口; 2 = 非农业户口; 3 = 蓝印户口; 4 = 居民户口（以前是农业户口）; 5 = 居民户口（以前是非农业户口）; 6 = 军籍; 7 = 没有户口; 8 = 其他;\n",
    "蓝印户口,军籍,没有户口的相对幸福指数要高一些,但是由于样本比列太少了，各只有七个不作为参考\n",
    "\n",
    "家庭年收入和人数看上去对幸福没什么影响但是人均收入就有一定的规律\n",
    "avg_income=traindata['family_income']/traindata['family_m']\n",
    "traindata['avg_income'] = avg_income\n",
    "bins = [-100,0,20000,50000,100000,1000000,10000000] \n",
    "traindata['avg_income'] = pd.cut(traindata['avg_income'],bins)\n",
    "家庭人数为-1 -2 -3 和50的数据应该是异常数据，人均年收入对幸福指数呈现线性变化\n",
    "traindata = traindata[traindata['socialize'] != -1]\n",
    "traindata = traindata[traindata['socialize'] != -2]\n",
    "traindata = traindata[traindata['socialize'] != -3]\n",
    "traindata = traindata[traindata['socialize'] != 50]\n",
    "\n",
    "marital a69 您目前的婚姻状况 1 = 未婚; 2 = 同居; 3 = 初婚有配偶; 4 = 再婚有配偶; 5 = 分居未离婚; 6 = 离婚; 7 = 丧偶;\n",
    "5 = 分居未离婚; 6 = 离婚 这两种婚姻状况幸福程度相对低一点,其他的没有特别明显的差异\n",
    "所以我选择将数据做一次变量调整,将1,2,3,4,7 设置为1,6设置为2,5设置为3\n",
    "traindata['marital'].replace(2,1,inplace = True)\n",
    "traindata['marital'].replace(3,1,inplace = True)\n",
    "traindata['marital'].replace(4,1,inplace = True)\n",
    "traindata['marital'].replace(7,1,inplace = True)\n",
    "traindata['marital'].replace(6,2,inplace = True)\n",
    "traindata['marital'].replace(5,3,inplace = True)\n",
    "\n",
    "status_peer\t与同龄人相比，您本人的社会经济地位怎样\t1 = 较高; 2 = 差不多; 3 = 较低; \n",
    "出去-8的异类数据status_peer 和幸福还是有一点线性的关系的\n",
    "traindata = traindata[traindata['status_peer'] != -8]\n",
    "\n",
    "status_3_before与三年前相比，您的社会经济地位发生了什么变化\t1 = 上升了; 2 = 差不多; 3 = 下降了; \n",
    "-8的异类数据status_peer 和幸福还是有一点线性的关系的\n",
    "traindata = traindata[traindata['status_3_before'] != -8]\n",
    "\n",
    "inc_ability\t 考虑到您的能力和工作状况，您目前的收入是否合理\t1 = 非常合理; 2 = 合理; 3 = 不合理; 4 = 非常不合理; \n",
    "由于-8的值比较多我们不能移除,我们选择将他们设置为3,因为指数和三最想接近\n",
    "traindata['inc_ability'].replace(-8,3,inplace = True)\n",
    "这样和幸福指数就有了线性关系\n"
   ]
  },
  {
   "cell_type": "code",
   "execution_count": 8,
   "metadata": {},
   "outputs": [],
   "source": [
    "# 读取数据\n",
    "#testdata = pd.read_csv('data/happiness_test_abbr.csv')\n",
    "#traindata = pd.read_csv('data/happiness_train_abbr.csv')\n",
    "# 读取数据\n",
    "#testdata = pd.read_csv('../data/dataannalysis/happiness_test_abbr.csv')\n",
    "traindata = pd.read_csv('../data/dataannalysis/happiness_train_abbr.csv')\n",
    "#异常数据处理\n",
    "traindata = traindata[traindata['happiness'] != -8]\n",
    "traindata = traindata[traindata['depression'] != -8]\n",
    "traindata = traindata[traindata['class'] != -8]\n",
    "traindata = traindata[traindata['health'] != -8]\n",
    "traindata = traindata[traindata['equity'] != -8]\n",
    "traindata = traindata[traindata['family_status'] != -8]\n",
    "traindata = traindata[traindata['health_problem'] != -8]\n",
    "traindata = traindata[traindata['relax'] != -8]\n",
    "traindata = traindata[traindata['learn'] != -8]\n",
    "traindata['view'].replace(-8,3,inplace = True)\n",
    "traindata = traindata[traindata['socialize'] != -8]\n",
    "traindata = traindata[traindata['socialize'] != -1]\n",
    "traindata = traindata[traindata['socialize'] != -2]\n",
    "traindata = traindata[traindata['socialize'] != -3]\n",
    "traindata = traindata[traindata['socialize'] != 50]\n",
    "traindata = traindata[traindata['status_3_before'] != -8]\n",
    "traindata = traindata[traindata['status_peer'] != -8]\n",
    "traindata['inc_ability'].replace(-8,3,inplace = True)\n",
    "\n",
    "#数据重新处理\n",
    "traindata['marital'].replace(2,1,inplace = True)\n",
    "traindata['marital'].replace(3,1,inplace = True)\n",
    "traindata['marital'].replace(4,1,inplace = True)\n",
    "traindata['marital'].replace(7,1,inplace = True)\n",
    "traindata['marital'].replace(6,2,inplace = True)\n",
    "traindata['marital'].replace(5,3,inplace = True)\n",
    "\n",
    "bins = [-100,0,100000,300000,500000,1000000,10000000] \n",
    "traindata['income'] = pd.cut(traindata['income'],bins, labels=['1','2', '3', '4', '5', '6'])\n",
    "\n",
    "\n",
    "\n",
    "avg_income=traindata['family_income']/traindata['family_m']\n",
    "traindata['avg_income'] = avg_income\n",
    "bins = [-100,0,20000,50000,100000,1000000,10000000] \n",
    "traindata['avg_income'] = pd.cut(traindata['avg_income'],bins, labels=['1','2', '3', '4', '5', '6'])\n",
    "\n",
    "\n",
    "\n"
   ]
  },
  {
   "cell_type": "code",
   "execution_count": 9,
   "metadata": {},
   "outputs": [],
   "source": [
    "#traindata['avg_income'].('unknown', inplace=True)\n",
    "traindata['avg_income'] = traindata['avg_income'].cat.add_categories(['0']);\n",
    "traindata['avg_income'].fillna('0', inplace=True)"
   ]
  },
  {
   "cell_type": "code",
   "execution_count": 11,
   "metadata": {},
   "outputs": [
    {
     "ename": "AttributeError",
     "evalue": "module 'sklearn' has no attribute 'preprocessing'",
     "output_type": "error",
     "traceback": [
      "\u001b[1;31m---------------------------------------------------------------------------\u001b[0m",
      "\u001b[1;31mAttributeError\u001b[0m                            Traceback (most recent call last)",
      "\u001b[1;32m<ipython-input-11-8ab6bf8351fe>\u001b[0m in \u001b[0;36m<module>\u001b[1;34m\u001b[0m\n\u001b[1;32m----> 1\u001b[1;33m \u001b[0mle\u001b[0m \u001b[1;33m=\u001b[0m \u001b[0msklearn\u001b[0m\u001b[1;33m.\u001b[0m\u001b[0mpreprocessing\u001b[0m\u001b[1;33m.\u001b[0m\u001b[0mLabelEncoder\u001b[0m\u001b[1;33m(\u001b[0m\u001b[1;33m)\u001b[0m\u001b[1;33m\u001b[0m\u001b[1;33m\u001b[0m\u001b[0m\n\u001b[0m\u001b[0;32m      2\u001b[0m \u001b[0mle\u001b[0m\u001b[1;33m.\u001b[0m\u001b[0mfit\u001b[0m\u001b[1;33m(\u001b[0m\u001b[1;33m[\u001b[0m\u001b[1;34m'1'\u001b[0m\u001b[1;33m,\u001b[0m\u001b[1;34m'2'\u001b[0m\u001b[1;33m,\u001b[0m \u001b[1;34m'3'\u001b[0m\u001b[1;33m,\u001b[0m \u001b[1;34m'4'\u001b[0m\u001b[1;33m,\u001b[0m \u001b[1;34m'5'\u001b[0m\u001b[1;33m,\u001b[0m \u001b[1;34m'6'\u001b[0m\u001b[1;33m,\u001b[0m \u001b[1;34m'0'\u001b[0m\u001b[1;33m]\u001b[0m\u001b[1;33m)\u001b[0m\u001b[1;33m\u001b[0m\u001b[1;33m\u001b[0m\u001b[0m\n\u001b[0;32m      3\u001b[0m \u001b[0mtraindata\u001b[0m\u001b[1;33m[\u001b[0m\u001b[1;34m'avg_income'\u001b[0m\u001b[1;33m]\u001b[0m  \u001b[1;33m=\u001b[0m \u001b[0mle\u001b[0m\u001b[1;33m.\u001b[0m\u001b[0mtransform\u001b[0m\u001b[1;33m(\u001b[0m\u001b[0mtraindata\u001b[0m\u001b[1;33m[\u001b[0m\u001b[1;34m'avg_income'\u001b[0m\u001b[1;33m]\u001b[0m \u001b[1;33m)\u001b[0m\u001b[1;33m\u001b[0m\u001b[1;33m\u001b[0m\u001b[0m\n",
      "\u001b[1;31mAttributeError\u001b[0m: module 'sklearn' has no attribute 'preprocessing'"
     ]
    }
   ],
   "source": [
    "le = sklearn.preprocessing.LabelEncoder() \n",
    "le.fit(['1','2', '3', '4', '5', '6', '0']) \n",
    "traindata['avg_income']  = le.transform(traindata['avg_income'] ) "
   ]
  },
  {
   "cell_type": "code",
   "execution_count": 12,
   "metadata": {},
   "outputs": [
    {
     "ename": "AttributeError",
     "evalue": "module 'sklearn' has no attribute 'preprocessing'",
     "output_type": "error",
     "traceback": [
      "\u001b[1;31m---------------------------------------------------------------------------\u001b[0m",
      "\u001b[1;31mAttributeError\u001b[0m                            Traceback (most recent call last)",
      "\u001b[1;32m<ipython-input-12-acb210090ef1>\u001b[0m in \u001b[0;36m<module>\u001b[1;34m\u001b[0m\n\u001b[1;32m----> 1\u001b[1;33m \u001b[0mle\u001b[0m \u001b[1;33m=\u001b[0m \u001b[0msklearn\u001b[0m\u001b[1;33m.\u001b[0m\u001b[0mpreprocessing\u001b[0m\u001b[1;33m.\u001b[0m\u001b[0mLabelEncoder\u001b[0m\u001b[1;33m(\u001b[0m\u001b[1;33m)\u001b[0m\u001b[1;33m\u001b[0m\u001b[1;33m\u001b[0m\u001b[0m\n\u001b[0m\u001b[0;32m      2\u001b[0m \u001b[0mle\u001b[0m\u001b[1;33m.\u001b[0m\u001b[0mfit\u001b[0m\u001b[1;33m(\u001b[0m\u001b[1;33m[\u001b[0m\u001b[1;34m'1'\u001b[0m\u001b[1;33m,\u001b[0m\u001b[1;34m'2'\u001b[0m\u001b[1;33m,\u001b[0m \u001b[1;34m'3'\u001b[0m\u001b[1;33m,\u001b[0m \u001b[1;34m'4'\u001b[0m\u001b[1;33m,\u001b[0m \u001b[1;34m'5'\u001b[0m\u001b[1;33m,\u001b[0m \u001b[1;34m'6'\u001b[0m\u001b[1;33m]\u001b[0m\u001b[1;33m)\u001b[0m\u001b[1;33m\u001b[0m\u001b[1;33m\u001b[0m\u001b[0m\n\u001b[0;32m      3\u001b[0m \u001b[0mtraindata\u001b[0m\u001b[1;33m[\u001b[0m\u001b[1;34m'income'\u001b[0m\u001b[1;33m]\u001b[0m  \u001b[1;33m=\u001b[0m \u001b[0mle\u001b[0m\u001b[1;33m.\u001b[0m\u001b[0mtransform\u001b[0m\u001b[1;33m(\u001b[0m\u001b[0mtraindata\u001b[0m\u001b[1;33m[\u001b[0m\u001b[1;34m'income'\u001b[0m\u001b[1;33m]\u001b[0m \u001b[1;33m)\u001b[0m\u001b[1;33m\u001b[0m\u001b[1;33m\u001b[0m\u001b[0m\n",
      "\u001b[1;31mAttributeError\u001b[0m: module 'sklearn' has no attribute 'preprocessing'"
     ]
    }
   ],
   "source": [
    "le = sklearn.preprocessing.LabelEncoder() \n",
    "le.fit(['1','2', '3', '4', '5', '6']) \n",
    "traindata['income']  = le.transform(traindata['income'] ) "
   ]
  },
  {
   "cell_type": "code",
   "execution_count": 204,
   "metadata": {},
   "outputs": [
    {
     "data": {
      "text/plain": [
       "id                 0.008267\n",
       "happiness          1.000000\n",
       "survey_type       -0.035656\n",
       "province          -0.021285\n",
       "city              -0.023442\n",
       "county            -0.021499\n",
       "gender             0.018517\n",
       "birth             -0.004821\n",
       "nationality       -0.035595\n",
       "religion           0.006780\n",
       "religion_freq      0.010455\n",
       "edu                0.104231\n",
       "income             0.043733\n",
       "political          0.080010\n",
       "floor_area         0.044722\n",
       "height_cm          0.040638\n",
       "weight_jin         0.084260\n",
       "health             0.246918\n",
       "health_problem     0.212923\n",
       "depression         0.320490\n",
       "hukou              0.079546\n",
       "socialize          0.079689\n",
       "relax              0.123843\n",
       "learn              0.123454\n",
       "equity             0.284537\n",
       "class              0.301481\n",
       "work_exper         0.008198\n",
       "work_status       -0.039226\n",
       "work_yr           -0.018063\n",
       "work_type          0.021679\n",
       "work_manage       -0.039622\n",
       "family_income      0.052113\n",
       "family_m           0.059978\n",
       "family_status      0.306640\n",
       "house              0.092656\n",
       "car               -0.110458\n",
       "marital           -0.077905\n",
       "status_peer       -0.273150\n",
       "status_3_before   -0.177749\n",
       "view               0.133684\n",
       "inc_ability       -0.191048\n",
       "avg_income         0.102122\n",
       "Name: happiness, dtype: float64"
      ]
     },
     "execution_count": 204,
     "metadata": {},
     "output_type": "execute_result"
    }
   ],
   "source": [
    "#重新做相关性分析\n",
    "traindata.corr()['happiness']"
   ]
  },
  {
   "cell_type": "markdown",
   "metadata": {},
   "source": [
    "根据上面的一些分析happiness想要加入计算的熟悉有:depression;class;health;equity;family_status;health_problem;relax;learn;view;socialize;\n",
    "status_peer;status_3_before;inc_ability;car;avg_income  --\t  marital;按推测应该是有关系的最后却相关性很小需要重新计算edu"
   ]
  },
  {
   "cell_type": "markdown",
   "metadata": {},
   "source": [
    "#### 丢弃不加入算法的数据 "
   ]
  },
  {
   "cell_type": "code",
   "execution_count": 13,
   "metadata": {},
   "outputs": [],
   "source": [
    "traindatafinal = traindata[['happiness','depression','depression','class','health','equity','family_status','health_problem','relax','learn','view','socialize','status_peer','status_3_before','inc_ability','car','avg_income','edu']]"
   ]
  },
  {
   "cell_type": "code",
   "execution_count": 14,
   "metadata": {},
   "outputs": [
    {
     "data": {
      "text/html": [
       "<div>\n",
       "<style scoped>\n",
       "    .dataframe tbody tr th:only-of-type {\n",
       "        vertical-align: middle;\n",
       "    }\n",
       "\n",
       "    .dataframe tbody tr th {\n",
       "        vertical-align: top;\n",
       "    }\n",
       "\n",
       "    .dataframe thead th {\n",
       "        text-align: right;\n",
       "    }\n",
       "</style>\n",
       "<table border=\"1\" class=\"dataframe\">\n",
       "  <thead>\n",
       "    <tr style=\"text-align: right;\">\n",
       "      <th></th>\n",
       "      <th>happiness</th>\n",
       "      <th>depression</th>\n",
       "      <th>depression</th>\n",
       "      <th>class</th>\n",
       "      <th>health</th>\n",
       "      <th>equity</th>\n",
       "      <th>family_status</th>\n",
       "      <th>health_problem</th>\n",
       "      <th>relax</th>\n",
       "      <th>learn</th>\n",
       "      <th>view</th>\n",
       "      <th>socialize</th>\n",
       "      <th>status_peer</th>\n",
       "      <th>status_3_before</th>\n",
       "      <th>inc_ability</th>\n",
       "      <th>car</th>\n",
       "      <th>avg_income</th>\n",
       "      <th>edu</th>\n",
       "    </tr>\n",
       "  </thead>\n",
       "  <tbody>\n",
       "    <tr>\n",
       "      <th>0</th>\n",
       "      <td>4</td>\n",
       "      <td>5</td>\n",
       "      <td>5</td>\n",
       "      <td>3</td>\n",
       "      <td>3</td>\n",
       "      <td>3</td>\n",
       "      <td>2</td>\n",
       "      <td>2</td>\n",
       "      <td>4</td>\n",
       "      <td>3</td>\n",
       "      <td>4</td>\n",
       "      <td>2</td>\n",
       "      <td>3</td>\n",
       "      <td>2</td>\n",
       "      <td>3</td>\n",
       "      <td>2</td>\n",
       "      <td>3</td>\n",
       "      <td>11</td>\n",
       "    </tr>\n",
       "    <tr>\n",
       "      <th>1</th>\n",
       "      <td>4</td>\n",
       "      <td>3</td>\n",
       "      <td>3</td>\n",
       "      <td>6</td>\n",
       "      <td>5</td>\n",
       "      <td>3</td>\n",
       "      <td>4</td>\n",
       "      <td>4</td>\n",
       "      <td>4</td>\n",
       "      <td>3</td>\n",
       "      <td>4</td>\n",
       "      <td>2</td>\n",
       "      <td>1</td>\n",
       "      <td>1</td>\n",
       "      <td>2</td>\n",
       "      <td>2</td>\n",
       "      <td>2</td>\n",
       "      <td>12</td>\n",
       "    </tr>\n",
       "    <tr>\n",
       "      <th>2</th>\n",
       "      <td>4</td>\n",
       "      <td>5</td>\n",
       "      <td>5</td>\n",
       "      <td>5</td>\n",
       "      <td>4</td>\n",
       "      <td>4</td>\n",
       "      <td>3</td>\n",
       "      <td>4</td>\n",
       "      <td>4</td>\n",
       "      <td>2</td>\n",
       "      <td>4</td>\n",
       "      <td>3</td>\n",
       "      <td>2</td>\n",
       "      <td>1</td>\n",
       "      <td>2</td>\n",
       "      <td>2</td>\n",
       "      <td>2</td>\n",
       "      <td>4</td>\n",
       "    </tr>\n",
       "    <tr>\n",
       "      <th>3</th>\n",
       "      <td>5</td>\n",
       "      <td>4</td>\n",
       "      <td>4</td>\n",
       "      <td>5</td>\n",
       "      <td>4</td>\n",
       "      <td>4</td>\n",
       "      <td>3</td>\n",
       "      <td>4</td>\n",
       "      <td>4</td>\n",
       "      <td>4</td>\n",
       "      <td>3</td>\n",
       "      <td>2</td>\n",
       "      <td>2</td>\n",
       "      <td>1</td>\n",
       "      <td>2</td>\n",
       "      <td>1</td>\n",
       "      <td>2</td>\n",
       "      <td>3</td>\n",
       "    </tr>\n",
       "    <tr>\n",
       "      <th>4</th>\n",
       "      <td>4</td>\n",
       "      <td>3</td>\n",
       "      <td>3</td>\n",
       "      <td>1</td>\n",
       "      <td>5</td>\n",
       "      <td>2</td>\n",
       "      <td>3</td>\n",
       "      <td>5</td>\n",
       "      <td>3</td>\n",
       "      <td>4</td>\n",
       "      <td>3</td>\n",
       "      <td>4</td>\n",
       "      <td>3</td>\n",
       "      <td>2</td>\n",
       "      <td>3</td>\n",
       "      <td>1</td>\n",
       "      <td>1</td>\n",
       "      <td>12</td>\n",
       "    </tr>\n",
       "  </tbody>\n",
       "</table>\n",
       "</div>"
      ],
      "text/plain": [
       "   happiness  depression  depression  class  health  equity  family_status  \\\n",
       "0          4           5           5      3       3       3              2   \n",
       "1          4           3           3      6       5       3              4   \n",
       "2          4           5           5      5       4       4              3   \n",
       "3          5           4           4      5       4       4              3   \n",
       "4          4           3           3      1       5       2              3   \n",
       "\n",
       "   health_problem  relax  learn  view  socialize  status_peer  \\\n",
       "0               2      4      3     4          2            3   \n",
       "1               4      4      3     4          2            1   \n",
       "2               4      4      2     4          3            2   \n",
       "3               4      4      4     3          2            2   \n",
       "4               5      3      4     3          4            3   \n",
       "\n",
       "   status_3_before  inc_ability  car avg_income  edu  \n",
       "0                2            3    2          3   11  \n",
       "1                1            2    2          2   12  \n",
       "2                1            2    2          2    4  \n",
       "3                1            2    1          2    3  \n",
       "4                2            3    1          1   12  "
      ]
     },
     "execution_count": 14,
     "metadata": {},
     "output_type": "execute_result"
    }
   ],
   "source": [
    "traindatafinal.head()\n"
   ]
  },
  {
   "cell_type": "markdown",
   "metadata": {},
   "source": [
    "#### 处理需要预测数据"
   ]
  },
  {
   "cell_type": "code",
   "execution_count": 49,
   "metadata": {},
   "outputs": [],
   "source": [
    "# 读取数据\n",
    "testdata = pd.read_csv('../data/dataannalysis/happiness_test_abbr.csv')\n",
    "#异常数据处理\n",
    "\n",
    "testdata['view'].replace(-8,3,inplace = True)\n",
    "\n",
    "testdata['inc_ability'].replace(-8,3,inplace = True)\n",
    "\n",
    "#数据重新处理\n",
    "testdata['marital'].replace(2,1,inplace = True)\n",
    "testdata['marital'].replace(3,1,inplace = True)\n",
    "testdata['marital'].replace(4,1,inplace = True)\n",
    "testdata['marital'].replace(7,1,inplace = True)\n",
    "testdata['marital'].replace(6,2,inplace = True)\n",
    "testdata['marital'].replace(5,3,inplace = True)\n",
    "\n",
    "bins = [-100,0,100000,300000,500000,1000000,10000000] \n",
    "testdata['income'] = pd.cut(testdata['income'],bins, labels=['1','2', '3', '4', '5', '6'])\n",
    "\n",
    "\n",
    "\n",
    "avg_income=testdata['family_income']/traindata['family_m']\n",
    "testdata['avg_income'] = avg_income\n",
    "bins = [-100,0,20000,50000,100000,1000000,10000000] \n",
    "testdata['avg_income'] = pd.cut(testdata['avg_income'],bins, labels=['1','2', '3', '4', '5', '6'])"
   ]
  },
  {
   "cell_type": "code",
   "execution_count": 50,
   "metadata": {},
   "outputs": [],
   "source": [
    "#traindata['avg_income'].('unknown', inplace=True)\n",
    "testdata['avg_income'] = testdata['avg_income'].cat.add_categories(['0']);\n",
    "testdata['avg_income'].fillna('0', inplace=True)"
   ]
  },
  {
   "cell_type": "code",
   "execution_count": 51,
   "metadata": {},
   "outputs": [],
   "source": [
    "testdatafinal = testdata[['depression','depression','class','health','equity','family_status','health_problem','relax','learn','view','socialize','status_peer','status_3_before','inc_ability','car','avg_income','edu']]"
   ]
  },
  {
   "cell_type": "code",
   "execution_count": 52,
   "metadata": {},
   "outputs": [
    {
     "data": {
      "text/plain": [
       "2968"
      ]
     },
     "execution_count": 52,
     "metadata": {},
     "output_type": "execute_result"
    }
   ],
   "source": [
    "testdatafinal.shape[0]"
   ]
  },
  {
   "cell_type": "markdown",
   "metadata": {},
   "source": [
    "\n",
    "#### 拆分数据"
   ]
  },
  {
   "cell_type": "code",
   "execution_count": 15,
   "metadata": {},
   "outputs": [
    {
     "data": {
      "text/plain": [
       "7718"
      ]
     },
     "execution_count": 15,
     "metadata": {},
     "output_type": "execute_result"
    }
   ],
   "source": [
    "traindatafinal.shape[0]"
   ]
  },
  {
   "cell_type": "code",
   "execution_count": 16,
   "metadata": {},
   "outputs": [],
   "source": [
    "train_data = traindatafinal[:7000]\n",
    "test_data = traindatafinal[7000:]\n",
    " \n",
    "train_data_X = train_data.drop(['happiness'],axis=1)\n",
    "train_data_Y = train_data['happiness']\n",
    "test_data_X = test_data.drop(['happiness'],axis=1)\n",
    "test_data_Y = test_data['happiness']"
   ]
  },
  {
   "cell_type": "code",
   "execution_count": null,
   "metadata": {},
   "outputs": [],
   "source": []
  },
  {
   "cell_type": "markdown",
   "metadata": {},
   "source": [
    "##  5.机器学习建模"
   ]
  },
  {
   "cell_type": "markdown",
   "metadata": {},
   "source": [
    "综合分析后我先用随机森林做一个预测"
   ]
  },
  {
   "cell_type": "code",
   "execution_count": 36,
   "metadata": {},
   "outputs": [],
   "source": [
    "\n",
    "from sklearn.model_selection import KFold\n",
    "from sklearn.model_selection import train_test_split\n",
    "from sklearn.feature_extraction import DictVectorizer\n",
    "from sklearn.tree import DecisionTreeClassifier\n",
    "from sklearn.metrics import classification_report\n",
    "from sklearn.ensemble import RandomForestClassifier, GradientBoostingClassifier\n"
   ]
  },
  {
   "cell_type": "code",
   "execution_count": 37,
   "metadata": {},
   "outputs": [
    {
     "name": "stdout",
     "output_type": "stream",
     "text": [
      "0.5738161559888579\n"
     ]
    },
    {
     "name": "stderr",
     "output_type": "stream",
     "text": [
      "C:\\Users\\Coffee\\Anaconda3\\lib\\site-packages\\sklearn\\ensemble\\forest.py:246: FutureWarning: The default value of n_estimators will change from 10 in version 0.20 to 100 in 0.22.\n",
      "  \"10 in version 0.20 to 100 in 0.22.\", FutureWarning)\n"
     ]
    }
   ],
   "source": [
    "rfc = RandomForestClassifier()\n",
    " \n",
    "rfc.fit(train_data_X, train_data_Y)\n",
    " \n",
    "y_predict = rfc.predict(test_data_X)\n",
    " \n",
    "print(rfc.score(test_data_X, test_data_Y))\n"
   ]
  },
  {
   "cell_type": "code",
   "execution_count": 38,
   "metadata": {},
   "outputs": [
    {
     "name": "stdout",
     "output_type": "stream",
     "text": [
      "              precision    recall  f1-score   support\n",
      "\n",
      "           1       0.33      0.11      0.17         9\n",
      "           2       0.30      0.16      0.21        45\n",
      "           3       0.19      0.13      0.16       104\n",
      "           4       0.65      0.84      0.74       430\n",
      "           5       0.43      0.21      0.28       130\n",
      "\n",
      "   micro avg       0.57      0.57      0.57       718\n",
      "   macro avg       0.38      0.29      0.31       718\n",
      "weighted avg       0.52      0.57      0.53       718\n",
      "\n"
     ]
    }
   ],
   "source": [
    "\n",
    "print(classification_report(test_data_Y, y_predict))"
   ]
  },
  {
   "cell_type": "code",
   "execution_count": 57,
   "metadata": {},
   "outputs": [
    {
     "name": "stdout",
     "output_type": "stream",
     "text": [
      "17\n",
      "17\n"
     ]
    }
   ],
   "source": [
    "print(train_data_X.shape[1])\n",
    "print(testdatafinal.shape[1])"
   ]
  },
  {
   "cell_type": "code",
   "execution_count": 60,
   "metadata": {},
   "outputs": [],
   "source": [
    " \n",
    "y_test_predict = rfc.predict(testdatafinal)"
   ]
  },
  {
   "cell_type": "code",
   "execution_count": 61,
   "metadata": {},
   "outputs": [],
   "source": [
    " testdata.insert(0,'happiness',y_test_predict)"
   ]
  },
  {
   "cell_type": "code",
   "execution_count": 62,
   "metadata": {},
   "outputs": [
    {
     "data": {
      "text/html": [
       "<div>\n",
       "<style scoped>\n",
       "    .dataframe tbody tr th:only-of-type {\n",
       "        vertical-align: middle;\n",
       "    }\n",
       "\n",
       "    .dataframe tbody tr th {\n",
       "        vertical-align: top;\n",
       "    }\n",
       "\n",
       "    .dataframe thead th {\n",
       "        text-align: right;\n",
       "    }\n",
       "</style>\n",
       "<table border=\"1\" class=\"dataframe\">\n",
       "  <thead>\n",
       "    <tr style=\"text-align: right;\">\n",
       "      <th></th>\n",
       "      <th>happiness</th>\n",
       "      <th>id</th>\n",
       "      <th>survey_type</th>\n",
       "      <th>province</th>\n",
       "      <th>city</th>\n",
       "      <th>county</th>\n",
       "      <th>survey_time</th>\n",
       "      <th>gender</th>\n",
       "      <th>birth</th>\n",
       "      <th>nationality</th>\n",
       "      <th>...</th>\n",
       "      <th>family_m</th>\n",
       "      <th>family_status</th>\n",
       "      <th>house</th>\n",
       "      <th>car</th>\n",
       "      <th>marital</th>\n",
       "      <th>status_peer</th>\n",
       "      <th>status_3_before</th>\n",
       "      <th>view</th>\n",
       "      <th>inc_ability</th>\n",
       "      <th>avg_income</th>\n",
       "    </tr>\n",
       "  </thead>\n",
       "  <tbody>\n",
       "    <tr>\n",
       "      <th>0</th>\n",
       "      <td>4</td>\n",
       "      <td>8001</td>\n",
       "      <td>1</td>\n",
       "      <td>2</td>\n",
       "      <td>2</td>\n",
       "      <td>9</td>\n",
       "      <td>2015/7/24 10:30</td>\n",
       "      <td>2</td>\n",
       "      <td>1972</td>\n",
       "      <td>8</td>\n",
       "      <td>...</td>\n",
       "      <td>5</td>\n",
       "      <td>3</td>\n",
       "      <td>1</td>\n",
       "      <td>2</td>\n",
       "      <td>1</td>\n",
       "      <td>3</td>\n",
       "      <td>1</td>\n",
       "      <td>4</td>\n",
       "      <td>2</td>\n",
       "      <td>1</td>\n",
       "    </tr>\n",
       "    <tr>\n",
       "      <th>1</th>\n",
       "      <td>4</td>\n",
       "      <td>8002</td>\n",
       "      <td>1</td>\n",
       "      <td>22</td>\n",
       "      <td>66</td>\n",
       "      <td>106</td>\n",
       "      <td>2015/7/12 15:38</td>\n",
       "      <td>2</td>\n",
       "      <td>1938</td>\n",
       "      <td>1</td>\n",
       "      <td>...</td>\n",
       "      <td>1</td>\n",
       "      <td>1</td>\n",
       "      <td>2</td>\n",
       "      <td>2</td>\n",
       "      <td>1</td>\n",
       "      <td>3</td>\n",
       "      <td>3</td>\n",
       "      <td>4</td>\n",
       "      <td>2</td>\n",
       "      <td>2</td>\n",
       "    </tr>\n",
       "    <tr>\n",
       "      <th>2</th>\n",
       "      <td>3</td>\n",
       "      <td>8003</td>\n",
       "      <td>2</td>\n",
       "      <td>9</td>\n",
       "      <td>22</td>\n",
       "      <td>44</td>\n",
       "      <td>2015/7/5 9:36</td>\n",
       "      <td>2</td>\n",
       "      <td>1935</td>\n",
       "      <td>1</td>\n",
       "      <td>...</td>\n",
       "      <td>1</td>\n",
       "      <td>2</td>\n",
       "      <td>1</td>\n",
       "      <td>2</td>\n",
       "      <td>1</td>\n",
       "      <td>3</td>\n",
       "      <td>1</td>\n",
       "      <td>3</td>\n",
       "      <td>4</td>\n",
       "      <td>1</td>\n",
       "    </tr>\n",
       "    <tr>\n",
       "      <th>3</th>\n",
       "      <td>4</td>\n",
       "      <td>8004</td>\n",
       "      <td>2</td>\n",
       "      <td>18</td>\n",
       "      <td>52</td>\n",
       "      <td>86</td>\n",
       "      <td>2015/7/19 10:10</td>\n",
       "      <td>2</td>\n",
       "      <td>1992</td>\n",
       "      <td>1</td>\n",
       "      <td>...</td>\n",
       "      <td>2</td>\n",
       "      <td>4</td>\n",
       "      <td>1</td>\n",
       "      <td>2</td>\n",
       "      <td>1</td>\n",
       "      <td>2</td>\n",
       "      <td>1</td>\n",
       "      <td>3</td>\n",
       "      <td>2</td>\n",
       "      <td>3</td>\n",
       "    </tr>\n",
       "    <tr>\n",
       "      <th>4</th>\n",
       "      <td>4</td>\n",
       "      <td>8005</td>\n",
       "      <td>2</td>\n",
       "      <td>24</td>\n",
       "      <td>70</td>\n",
       "      <td>110</td>\n",
       "      <td>2015/8/3 11:41</td>\n",
       "      <td>1</td>\n",
       "      <td>1990</td>\n",
       "      <td>1</td>\n",
       "      <td>...</td>\n",
       "      <td>3</td>\n",
       "      <td>2</td>\n",
       "      <td>1</td>\n",
       "      <td>2</td>\n",
       "      <td>1</td>\n",
       "      <td>2</td>\n",
       "      <td>2</td>\n",
       "      <td>5</td>\n",
       "      <td>2</td>\n",
       "      <td>2</td>\n",
       "    </tr>\n",
       "  </tbody>\n",
       "</table>\n",
       "<p>5 rows × 43 columns</p>\n",
       "</div>"
      ],
      "text/plain": [
       "   happiness    id  survey_type  province  city  county      survey_time  \\\n",
       "0          4  8001            1         2     2       9  2015/7/24 10:30   \n",
       "1          4  8002            1        22    66     106  2015/7/12 15:38   \n",
       "2          3  8003            2         9    22      44    2015/7/5 9:36   \n",
       "3          4  8004            2        18    52      86  2015/7/19 10:10   \n",
       "4          4  8005            2        24    70     110   2015/8/3 11:41   \n",
       "\n",
       "   gender  birth  nationality     ...      family_m  family_status  house car  \\\n",
       "0       2   1972            8     ...             5              3      1   2   \n",
       "1       2   1938            1     ...             1              1      2   2   \n",
       "2       2   1935            1     ...             1              2      1   2   \n",
       "3       2   1992            1     ...             2              4      1   2   \n",
       "4       1   1990            1     ...             3              2      1   2   \n",
       "\n",
       "   marital  status_peer  status_3_before  view  inc_ability  avg_income  \n",
       "0        1            3                1     4            2           1  \n",
       "1        1            3                3     4            2           2  \n",
       "2        1            3                1     3            4           1  \n",
       "3        1            2                1     3            2           3  \n",
       "4        1            2                2     5            2           2  \n",
       "\n",
       "[5 rows x 43 columns]"
      ]
     },
     "execution_count": 62,
     "metadata": {},
     "output_type": "execute_result"
    }
   ],
   "source": [
    "testdata.head()"
   ]
  },
  {
   "cell_type": "code",
   "execution_count": 64,
   "metadata": {},
   "outputs": [],
   "source": [
    "col=['id','happiness']\n",
    "testdata.to_csv('../data/dataannalysis/happiness_result.csv',index=False,columns=col)\n"
   ]
  }
 ],
 "metadata": {
  "kernelspec": {
   "display_name": "Python 3",
   "language": "python",
   "name": "python3"
  },
  "language_info": {
   "codemirror_mode": {
    "name": "ipython",
    "version": 3
   },
   "file_extension": ".py",
   "mimetype": "text/x-python",
   "name": "python",
   "nbconvert_exporter": "python",
   "pygments_lexer": "ipython3",
   "version": "3.7.1"
  }
 },
 "nbformat": 4,
 "nbformat_minor": 2
}
