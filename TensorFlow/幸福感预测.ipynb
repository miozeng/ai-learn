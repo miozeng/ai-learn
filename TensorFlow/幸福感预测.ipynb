{
 "cells": [
  {
   "cell_type": "code",
   "execution_count": 8,
   "metadata": {},
   "outputs": [],
   "source": [
    "import tensorflow as tf\n",
    "from tensorflow.keras import layers\n",
    "import numpy as np\n",
    "import pandas as pd\n",
    "import seaborn as sns\n",
    "import matplotlib.pyplot as plt\n",
    "import sklearn as sklearn\n",
    "from sklearn import preprocessing\n",
    "from sklearn.model_selection import train_test_split\n",
    "import os"
   ]
  },
  {
   "cell_type": "code",
   "execution_count": 58,
   "metadata": {},
   "outputs": [],
   "source": [
    "# 读取数据\n",
    "testdata = pd.read_csv('../data/dataannalysis/happiness_test_abbr.csv')\n",
    "traindata = pd.read_csv('../data/dataannalysis/happiness_train_abbr.csv')"
   ]
  },
  {
   "cell_type": "code",
   "execution_count": 59,
   "metadata": {},
   "outputs": [],
   "source": [
    "#异常数据处理\n",
    "traindata = traindata[traindata['happiness'] != -8]\n",
    "traindata = traindata[traindata['depression'] != -8]\n",
    "traindata = traindata[traindata['class'] != -8]\n",
    "traindata = traindata[traindata['health'] != -8]\n",
    "traindata = traindata[traindata['equity'] != -8]\n",
    "traindata = traindata[traindata['family_status'] != -8]\n",
    "traindata = traindata[traindata['health_problem'] != -8]\n",
    "traindata = traindata[traindata['relax'] != -8]\n",
    "traindata = traindata[traindata['learn'] != -8]\n",
    "traindata['view'].replace(-8,3,inplace = True)\n",
    "traindata = traindata[traindata['socialize'] != -8]\n",
    "traindata = traindata[traindata['socialize'] != -1]\n",
    "traindata = traindata[traindata['socialize'] != -2]\n",
    "traindata = traindata[traindata['socialize'] != -3]\n",
    "traindata = traindata[traindata['socialize'] != 50]\n",
    "traindata = traindata[traindata['status_3_before'] != -8]\n",
    "traindata = traindata[traindata['status_peer'] != -8]\n",
    "traindata['inc_ability'].replace(-8,3,inplace = True)\n",
    "\n",
    "\n",
    "#数据重新处理\n",
    "traindata['marital'].replace(2,1,inplace = True)\n",
    "traindata['marital'].replace(3,1,inplace = True)\n",
    "traindata['marital'].replace(4,1,inplace = True)\n",
    "traindata['marital'].replace(7,1,inplace = True)\n",
    "traindata['marital'].replace(6,2,inplace = True)\n",
    "traindata['marital'].replace(5,3,inplace = True)\n",
    "\n",
    "bins = [-100,0,100000,300000,500000,1000000,10000000] \n",
    "traindata['income'] = pd.cut(traindata['income'],bins, labels=['1','2', '3', '4', '5', '6'])\n",
    "\n",
    "\n",
    "\n",
    "avg_income=traindata['family_income']/traindata['family_m']\n",
    "traindata['avg_income'] = avg_income\n",
    "bins = [-100,0,20000,50000,100000,1000000,10000000] \n",
    "traindata['avg_income'] = pd.cut(traindata['avg_income'],bins, labels=['1','2', '3', '4', '5', '6'])\n",
    "\n",
    "testdata['view'].replace(-8,3,inplace = True)\n",
    "testdata['inc_ability'].replace(-8,3,inplace = True)\n",
    "\n",
    "testdata['marital'].replace(2,1,inplace = True)\n",
    "testdata['marital'].replace(3,1,inplace = True)\n",
    "testdata['marital'].replace(4,1,inplace = True)\n",
    "testdata['marital'].replace(7,1,inplace = True)\n",
    "testdata['marital'].replace(6,2,inplace = True)\n",
    "testdata['marital'].replace(5,3,inplace = True)\n",
    "\n",
    "testdata['income'] = pd.cut(testdata['income'],bins, labels=['1','2', '3', '4', '5', '6'])\n",
    "\n",
    "\n",
    "avg_income=testdata['family_income']/testdata['family_m']\n",
    "testdata['avg_income'] = avg_income\n",
    "testdata['avg_income'] = pd.cut(testdata['avg_income'],bins, labels=['1','2', '3', '4', '5', '6'])\n"
   ]
  },
  {
   "cell_type": "code",
   "execution_count": 60,
   "metadata": {},
   "outputs": [
    {
     "ename": "ValueError",
     "evalue": "y contains new labels: ['0']",
     "output_type": "error",
     "traceback": [
      "\u001b[1;31m---------------------------------------------------------------------------\u001b[0m",
      "\u001b[1;31mValueError\u001b[0m                                Traceback (most recent call last)",
      "\u001b[1;32m<ipython-input-60-37f8455d8c3a>\u001b[0m in \u001b[0;36m<module>\u001b[1;34m()\u001b[0m\n\u001b[0;32m     16\u001b[0m \u001b[1;33m\u001b[0m\u001b[0m\n\u001b[0;32m     17\u001b[0m \u001b[1;33m\u001b[0m\u001b[0m\n\u001b[1;32m---> 18\u001b[1;33m \u001b[0mtestdata\u001b[0m\u001b[1;33m[\u001b[0m\u001b[1;34m'avg_income'\u001b[0m\u001b[1;33m]\u001b[0m  \u001b[1;33m=\u001b[0m \u001b[0mle\u001b[0m\u001b[1;33m.\u001b[0m\u001b[0mtransform\u001b[0m\u001b[1;33m(\u001b[0m\u001b[0mtestdata\u001b[0m\u001b[1;33m[\u001b[0m\u001b[1;34m'avg_income'\u001b[0m\u001b[1;33m]\u001b[0m \u001b[1;33m)\u001b[0m\u001b[1;33m\u001b[0m\u001b[0m\n\u001b[0m\u001b[0;32m     19\u001b[0m \u001b[1;33m\u001b[0m\u001b[0m\n\u001b[0;32m     20\u001b[0m \u001b[0mtestdata\u001b[0m\u001b[1;33m[\u001b[0m\u001b[1;34m'income'\u001b[0m\u001b[1;33m]\u001b[0m  \u001b[1;33m=\u001b[0m \u001b[0mle\u001b[0m\u001b[1;33m.\u001b[0m\u001b[0mtransform\u001b[0m\u001b[1;33m(\u001b[0m\u001b[0mtestdata\u001b[0m\u001b[1;33m[\u001b[0m\u001b[1;34m'income'\u001b[0m\u001b[1;33m]\u001b[0m \u001b[1;33m)\u001b[0m\u001b[1;33m\u001b[0m\u001b[0m\n",
      "\u001b[1;32mD:\\Program Files\\Anaconda3\\lib\\site-packages\\sklearn\\preprocessing\\label.py\u001b[0m in \u001b[0;36mtransform\u001b[1;34m(self, y)\u001b[0m\n\u001b[0;32m    131\u001b[0m         \u001b[1;32mif\u001b[0m \u001b[0mlen\u001b[0m\u001b[1;33m(\u001b[0m\u001b[0mnp\u001b[0m\u001b[1;33m.\u001b[0m\u001b[0mintersect1d\u001b[0m\u001b[1;33m(\u001b[0m\u001b[0mclasses\u001b[0m\u001b[1;33m,\u001b[0m \u001b[0mself\u001b[0m\u001b[1;33m.\u001b[0m\u001b[0mclasses_\u001b[0m\u001b[1;33m)\u001b[0m\u001b[1;33m)\u001b[0m \u001b[1;33m<\u001b[0m \u001b[0mlen\u001b[0m\u001b[1;33m(\u001b[0m\u001b[0mclasses\u001b[0m\u001b[1;33m)\u001b[0m\u001b[1;33m:\u001b[0m\u001b[1;33m\u001b[0m\u001b[0m\n\u001b[0;32m    132\u001b[0m             \u001b[0mdiff\u001b[0m \u001b[1;33m=\u001b[0m \u001b[0mnp\u001b[0m\u001b[1;33m.\u001b[0m\u001b[0msetdiff1d\u001b[0m\u001b[1;33m(\u001b[0m\u001b[0mclasses\u001b[0m\u001b[1;33m,\u001b[0m \u001b[0mself\u001b[0m\u001b[1;33m.\u001b[0m\u001b[0mclasses_\u001b[0m\u001b[1;33m)\u001b[0m\u001b[1;33m\u001b[0m\u001b[0m\n\u001b[1;32m--> 133\u001b[1;33m             \u001b[1;32mraise\u001b[0m \u001b[0mValueError\u001b[0m\u001b[1;33m(\u001b[0m\u001b[1;34m\"y contains new labels: %s\"\u001b[0m \u001b[1;33m%\u001b[0m \u001b[0mstr\u001b[0m\u001b[1;33m(\u001b[0m\u001b[0mdiff\u001b[0m\u001b[1;33m)\u001b[0m\u001b[1;33m)\u001b[0m\u001b[1;33m\u001b[0m\u001b[0m\n\u001b[0m\u001b[0;32m    134\u001b[0m         \u001b[1;32mreturn\u001b[0m \u001b[0mnp\u001b[0m\u001b[1;33m.\u001b[0m\u001b[0msearchsorted\u001b[0m\u001b[1;33m(\u001b[0m\u001b[0mself\u001b[0m\u001b[1;33m.\u001b[0m\u001b[0mclasses_\u001b[0m\u001b[1;33m,\u001b[0m \u001b[0my\u001b[0m\u001b[1;33m)\u001b[0m\u001b[1;33m\u001b[0m\u001b[0m\n\u001b[0;32m    135\u001b[0m \u001b[1;33m\u001b[0m\u001b[0m\n",
      "\u001b[1;31mValueError\u001b[0m: y contains new labels: ['0']"
     ]
    }
   ],
   "source": [
    "#traindata['avg_income'].('unknown', inplace=True)\n",
    "traindata['avg_income'] = traindata['avg_income'].cat.add_categories(['0']);\n",
    "traindata['avg_income'].fillna('0', inplace=True)\n",
    "\n",
    "le = sklearn.preprocessing.LabelEncoder() \n",
    "le.fit(['1','2', '3', '4', '5', '6', '0']) \n",
    "traindata['avg_income']  = le.transform(traindata['avg_income'] ) \n",
    "\n",
    "le = sklearn.preprocessing.LabelEncoder() \n",
    "le.fit(['1','2', '3', '4', '5', '6']) \n",
    "traindata['income']  = le.transform(traindata['income'] ) \n",
    "\n",
    "#traindata['avg_income'].('unknown', inplace=True)\n",
    "testdata['avg_income'] = testdata['avg_income'].cat.add_categories(['0']);\n",
    "testdata['avg_income'].fillna('0', inplace=True)\n",
    "\n",
    "\n",
    "testdata['avg_income']  = le.transform(testdata['avg_income'] ) \n",
    "\n",
    "testdata['income']  = le.transform(testdata['income'] ) "
   ]
  },
  {
   "cell_type": "code",
   "execution_count": 63,
   "metadata": {},
   "outputs": [],
   "source": [
    "traindatafinal = traindata[['happiness','depression','class','health','equity','family_status','health_problem','relax','learn','view','socialize','status_peer','status_3_before','inc_ability','car','avg_income','edu']]\n",
    "\n",
    "testdatafinal = testdata[['depression','class','health','equity','family_status','health_problem','relax','learn','view','socialize','status_peer','status_3_before','inc_ability','car','avg_income','edu']]\n"
   ]
  },
  {
   "cell_type": "code",
   "execution_count": 13,
   "metadata": {},
   "outputs": [
    {
     "name": "stdout",
     "output_type": "stream",
     "text": [
      "4939 train examples\n",
      "1235 validation examples\n",
      "1544 test examples\n"
     ]
    }
   ],
   "source": [
    "train, test = train_test_split(traindatafinal, test_size=0.2)\n",
    "train, val = train_test_split(train, test_size=0.2)\n",
    "print(len(train), 'train examples')\n",
    "print(len(val), 'validation examples')\n",
    "print(len(test), 'test examples')"
   ]
  },
  {
   "cell_type": "code",
   "execution_count": 44,
   "metadata": {},
   "outputs": [
    {
     "data": {
      "text/html": [
       "<div>\n",
       "<style scoped>\n",
       "    .dataframe tbody tr th:only-of-type {\n",
       "        vertical-align: middle;\n",
       "    }\n",
       "\n",
       "    .dataframe tbody tr th {\n",
       "        vertical-align: top;\n",
       "    }\n",
       "\n",
       "    .dataframe thead th {\n",
       "        text-align: right;\n",
       "    }\n",
       "</style>\n",
       "<table border=\"1\" class=\"dataframe\">\n",
       "  <thead>\n",
       "    <tr style=\"text-align: right;\">\n",
       "      <th></th>\n",
       "      <th>depression</th>\n",
       "      <th>class</th>\n",
       "      <th>health</th>\n",
       "      <th>equity</th>\n",
       "      <th>family_status</th>\n",
       "      <th>health_problem</th>\n",
       "      <th>relax</th>\n",
       "      <th>learn</th>\n",
       "      <th>view</th>\n",
       "      <th>socialize</th>\n",
       "      <th>status_peer</th>\n",
       "      <th>status_3_before</th>\n",
       "      <th>inc_ability</th>\n",
       "      <th>car</th>\n",
       "      <th>avg_income</th>\n",
       "      <th>edu</th>\n",
       "    </tr>\n",
       "  </thead>\n",
       "  <tbody>\n",
       "    <tr>\n",
       "      <th>1214</th>\n",
       "      <td>3</td>\n",
       "      <td>1</td>\n",
       "      <td>3</td>\n",
       "      <td>4</td>\n",
       "      <td>2</td>\n",
       "      <td>4</td>\n",
       "      <td>4</td>\n",
       "      <td>4</td>\n",
       "      <td>4</td>\n",
       "      <td>2</td>\n",
       "      <td>3</td>\n",
       "      <td>2</td>\n",
       "      <td>2</td>\n",
       "      <td>2</td>\n",
       "      <td>2</td>\n",
       "      <td>10</td>\n",
       "    </tr>\n",
       "    <tr>\n",
       "      <th>422</th>\n",
       "      <td>2</td>\n",
       "      <td>3</td>\n",
       "      <td>3</td>\n",
       "      <td>4</td>\n",
       "      <td>3</td>\n",
       "      <td>4</td>\n",
       "      <td>2</td>\n",
       "      <td>1</td>\n",
       "      <td>3</td>\n",
       "      <td>1</td>\n",
       "      <td>3</td>\n",
       "      <td>2</td>\n",
       "      <td>3</td>\n",
       "      <td>2</td>\n",
       "      <td>1</td>\n",
       "      <td>4</td>\n",
       "    </tr>\n",
       "    <tr>\n",
       "      <th>4883</th>\n",
       "      <td>4</td>\n",
       "      <td>4</td>\n",
       "      <td>4</td>\n",
       "      <td>3</td>\n",
       "      <td>1</td>\n",
       "      <td>4</td>\n",
       "      <td>1</td>\n",
       "      <td>1</td>\n",
       "      <td>3</td>\n",
       "      <td>2</td>\n",
       "      <td>3</td>\n",
       "      <td>2</td>\n",
       "      <td>2</td>\n",
       "      <td>2</td>\n",
       "      <td>2</td>\n",
       "      <td>1</td>\n",
       "    </tr>\n",
       "    <tr>\n",
       "      <th>2932</th>\n",
       "      <td>4</td>\n",
       "      <td>4</td>\n",
       "      <td>3</td>\n",
       "      <td>4</td>\n",
       "      <td>2</td>\n",
       "      <td>4</td>\n",
       "      <td>4</td>\n",
       "      <td>1</td>\n",
       "      <td>3</td>\n",
       "      <td>4</td>\n",
       "      <td>3</td>\n",
       "      <td>2</td>\n",
       "      <td>3</td>\n",
       "      <td>2</td>\n",
       "      <td>2</td>\n",
       "      <td>4</td>\n",
       "    </tr>\n",
       "    <tr>\n",
       "      <th>7584</th>\n",
       "      <td>3</td>\n",
       "      <td>5</td>\n",
       "      <td>2</td>\n",
       "      <td>4</td>\n",
       "      <td>3</td>\n",
       "      <td>2</td>\n",
       "      <td>4</td>\n",
       "      <td>1</td>\n",
       "      <td>4</td>\n",
       "      <td>1</td>\n",
       "      <td>2</td>\n",
       "      <td>2</td>\n",
       "      <td>2</td>\n",
       "      <td>2</td>\n",
       "      <td>2</td>\n",
       "      <td>1</td>\n",
       "    </tr>\n",
       "  </tbody>\n",
       "</table>\n",
       "</div>"
      ],
      "text/plain": [
       "      depression  class  health  equity  family_status  health_problem  relax  \\\n",
       "1214           3      1       3       4              2               4      4   \n",
       "422            2      3       3       4              3               4      2   \n",
       "4883           4      4       4       3              1               4      1   \n",
       "2932           4      4       3       4              2               4      4   \n",
       "7584           3      5       2       4              3               2      4   \n",
       "\n",
       "      learn  view  socialize  status_peer  status_3_before  inc_ability  car  \\\n",
       "1214      4     4          2            3                2            2    2   \n",
       "422       1     3          1            3                2            3    2   \n",
       "4883      1     3          2            3                2            2    2   \n",
       "2932      1     3          4            3                2            3    2   \n",
       "7584      1     4          1            2                2            2    2   \n",
       "\n",
       "      avg_income  edu  \n",
       "1214           2   10  \n",
       "422            1    4  \n",
       "4883           2    1  \n",
       "2932           2    4  \n",
       "7584           2    1  "
      ]
     },
     "execution_count": 44,
     "metadata": {},
     "output_type": "execute_result"
    }
   ],
   "source": [
    "train_x = train.copy()\n",
    "labels = train_x.pop('happiness')\n",
    "train_y = tf.one_hot(labels-1,5)\n",
    "\n",
    "test_x = test.copy()\n",
    "testlabels = test_x.pop('happiness')\n",
    "test_y = tf.one_hot(testlabels-1,5)\n",
    "\n",
    "val_x = train.copy()\n",
    "vallabels = val_x.pop('happiness')\n",
    "val_y = tf.one_hot(vallabels-1,5)\n",
    "\n",
    "train_x.head()"
   ]
  },
  {
   "cell_type": "code",
   "execution_count": 35,
   "metadata": {},
   "outputs": [
    {
     "data": {
      "text/plain": [
       "1214    4\n",
       "422     1\n",
       "4883    3\n",
       "2932    4\n",
       "7584    4\n",
       "Name: happiness, dtype: int64"
      ]
     },
     "execution_count": 35,
     "metadata": {},
     "output_type": "execute_result"
    }
   ],
   "source": [
    "labels.head()"
   ]
  },
  {
   "cell_type": "code",
   "execution_count": 37,
   "metadata": {},
   "outputs": [
    {
     "data": {
      "text/plain": [
       "<tf.Tensor: id=384, shape=(4939, 5), dtype=float32, numpy=\n",
       "array([[0., 0., 0., 1., 0.],\n",
       "       [1., 0., 0., 0., 0.],\n",
       "       [0., 0., 1., 0., 0.],\n",
       "       ...,\n",
       "       [0., 0., 0., 1., 0.],\n",
       "       [0., 0., 0., 0., 1.],\n",
       "       [0., 0., 0., 1., 0.]], dtype=float32)>"
      ]
     },
     "execution_count": 37,
     "metadata": {},
     "output_type": "execute_result"
    }
   ],
   "source": [
    "\n",
    "train_y = tf.one_hot(labels-1,5)\n",
    "train_y"
   ]
  },
  {
   "cell_type": "code",
   "execution_count": 70,
   "metadata": {},
   "outputs": [
    {
     "name": "stdout",
     "output_type": "stream",
     "text": [
      "Model: \"sequential_5\"\n",
      "_________________________________________________________________\n",
      "Layer (type)                 Output Shape              Param #   \n",
      "=================================================================\n",
      "dense_14 (Dense)             (None, 10)                170       \n",
      "_________________________________________________________________\n",
      "dense_15 (Dense)             (None, 7)                 77        \n",
      "_________________________________________________________________\n",
      "dense_16 (Dense)             (None, 5)                 40        \n",
      "=================================================================\n",
      "Total params: 287\n",
      "Trainable params: 287\n",
      "Non-trainable params: 0\n",
      "_________________________________________________________________\n"
     ]
    }
   ],
   "source": [
    "model = tf.keras.Sequential([\n",
    "#   layers.Flatten(input_shape=(NONE, 28)),\n",
    "  layers.Dense(10,kernel_regularizer= tf.keras.regularizers.l2(0.001), activation='relu', input_shape=[16]),\n",
    "  layers.Dense(7, kernel_regularizer=tf.keras.regularizers.l2(0.001),activation='relu'),\n",
    "  layers.Dense(5, activation='sigmoid')\n",
    "])\n",
    "optimizer = tf.keras.optimizers.RMSprop(0.001)\n",
    "\n",
    "model.compile(loss='mse',\n",
    "                optimizer=optimizer,\n",
    "                metrics=['accuracy','mae', 'mse'])\n",
    "\n",
    "model.summary()\n"
   ]
  },
  {
   "cell_type": "code",
   "execution_count": 71,
   "metadata": {},
   "outputs": [
    {
     "name": "stdout",
     "output_type": "stream",
     "text": [
      "Train on 4939 samples, validate on 4939 samples\n",
      "Epoch 1/40\n",
      "4939/4939 [==============================] - 0s 65us/sample - loss: 0.4632 - accuracy: 0.0626 - mae: 0.5894 - mse: 0.4425 - val_loss: 0.4249 - val_accuracy: 0.0624 - val_mae: 0.5649 - val_mse: 0.4047\n",
      "Epoch 2/40\n",
      "4939/4939 [==============================] - 0s 6us/sample - loss: 0.4038 - accuracy: 0.0624 - mae: 0.5487 - mse: 0.3838 - val_loss: 0.3786 - val_accuracy: 0.0624 - val_mae: 0.5274 - val_mse: 0.3589\n",
      "Epoch 3/40\n",
      "4939/4939 [==============================] - 0s 6us/sample - loss: 0.3630 - accuracy: 0.0628 - mae: 0.5122 - mse: 0.3435 - val_loss: 0.3450 - val_accuracy: 0.0628 - val_mae: 0.4936 - val_mse: 0.3258\n",
      "Epoch 4/40\n",
      "4939/4939 [==============================] - 0s 5us/sample - loss: 0.3344 - accuracy: 0.0630 - mae: 0.4816 - mse: 0.3153 - val_loss: 0.3218 - val_accuracy: 0.0664 - val_mae: 0.4673 - val_mse: 0.3031\n",
      "Epoch 5/40\n",
      "4939/4939 [==============================] - 0s 6us/sample - loss: 0.3133 - accuracy: 0.0739 - mae: 0.4584 - mse: 0.2947 - val_loss: 0.3021 - val_accuracy: 0.0887 - val_mae: 0.4500 - val_mse: 0.2839\n",
      "Epoch 6/40\n",
      "4939/4939 [==============================] - 0s 5us/sample - loss: 0.2930 - accuracy: 0.1223 - mae: 0.4442 - mse: 0.2750 - val_loss: 0.2807 - val_accuracy: 0.1849 - val_mae: 0.4368 - val_mse: 0.2630\n",
      "Epoch 7/40\n",
      "4939/4939 [==============================] - 0s 6us/sample - loss: 0.2708 - accuracy: 0.2687 - mae: 0.4340 - mse: 0.2533 - val_loss: 0.2583 - val_accuracy: 0.3655 - val_mae: 0.4303 - val_mse: 0.2410\n",
      "Epoch 8/40\n",
      "4939/4939 [==============================] - 0s 5us/sample - loss: 0.2497 - accuracy: 0.4128 - mae: 0.4267 - mse: 0.2327 - val_loss: 0.2390 - val_accuracy: 0.4645 - val_mae: 0.4197 - val_mse: 0.2222\n",
      "Epoch 9/40\n",
      "4939/4939 [==============================] - 0s 5us/sample - loss: 0.2310 - accuracy: 0.4894 - mae: 0.4121 - mse: 0.2143 - val_loss: 0.2202 - val_accuracy: 0.5183 - val_mae: 0.4018 - val_mse: 0.2038\n",
      "Epoch 10/40\n",
      "4939/4939 [==============================] - 0s 5us/sample - loss: 0.2118 - accuracy: 0.5367 - mae: 0.3911 - mse: 0.1955 - val_loss: 0.2011 - val_accuracy: 0.5564 - val_mae: 0.3759 - val_mse: 0.1850\n",
      "Epoch 11/40\n",
      "4939/4939 [==============================] - 0s 5us/sample - loss: 0.1933 - accuracy: 0.5704 - mae: 0.3659 - mse: 0.1775 - val_loss: 0.1836 - val_accuracy: 0.5859 - val_mae: 0.3514 - val_mse: 0.1680\n",
      "Epoch 12/40\n",
      "4939/4939 [==============================] - 0s 5us/sample - loss: 0.1771 - accuracy: 0.5912 - mae: 0.3407 - mse: 0.1616 - val_loss: 0.1692 - val_accuracy: 0.5961 - val_mae: 0.3276 - val_mse: 0.1539\n",
      "Epoch 13/40\n",
      "4939/4939 [==============================] - 0s 6us/sample - loss: 0.1641 - accuracy: 0.5985 - mae: 0.3170 - mse: 0.1490 - val_loss: 0.1580 - val_accuracy: 0.6009 - val_mae: 0.3043 - val_mse: 0.1432\n",
      "Epoch 14/40\n",
      "4939/4939 [==============================] - 0s 5us/sample - loss: 0.1543 - accuracy: 0.6013 - mae: 0.2956 - mse: 0.1396 - val_loss: 0.1499 - val_accuracy: 0.6023 - val_mae: 0.2835 - val_mse: 0.1355\n",
      "Epoch 15/40\n",
      "4939/4939 [==============================] - 0s 5us/sample - loss: 0.1472 - accuracy: 0.6023 - mae: 0.2768 - mse: 0.1330 - val_loss: 0.1441 - val_accuracy: 0.6023 - val_mae: 0.2707 - val_mse: 0.1301\n",
      "Epoch 16/40\n",
      "4939/4939 [==============================] - 0s 6us/sample - loss: 0.1421 - accuracy: 0.6036 - mae: 0.2641 - mse: 0.1282 - val_loss: 0.1398 - val_accuracy: 0.6038 - val_mae: 0.2569 - val_mse: 0.1261\n",
      "Epoch 17/40\n",
      "4939/4939 [==============================] - 0s 5us/sample - loss: 0.1383 - accuracy: 0.6038 - mae: 0.2530 - mse: 0.1249 - val_loss: 0.1366 - val_accuracy: 0.6040 - val_mae: 0.2501 - val_mse: 0.1234\n",
      "Epoch 18/40\n",
      "4939/4939 [==============================] - 0s 6us/sample - loss: 0.1355 - accuracy: 0.6040 - mae: 0.2470 - mse: 0.1226 - val_loss: 0.1343 - val_accuracy: 0.6040 - val_mae: 0.2425 - val_mse: 0.1215\n",
      "Epoch 19/40\n",
      "4939/4939 [==============================] - 0s 5us/sample - loss: 0.1335 - accuracy: 0.6040 - mae: 0.2414 - mse: 0.1210 - val_loss: 0.1325 - val_accuracy: 0.6042 - val_mae: 0.2369 - val_mse: 0.1202\n",
      "Epoch 20/40\n",
      "4939/4939 [==============================] - 0s 6us/sample - loss: 0.1318 - accuracy: 0.6042 - mae: 0.2376 - mse: 0.1198 - val_loss: 0.1310 - val_accuracy: 0.6042 - val_mae: 0.2361 - val_mse: 0.1191\n",
      "Epoch 21/40\n",
      "4939/4939 [==============================] - 0s 6us/sample - loss: 0.1305 - accuracy: 0.6042 - mae: 0.2361 - mse: 0.1189 - val_loss: 0.1297 - val_accuracy: 0.6042 - val_mae: 0.2336 - val_mse: 0.1184\n",
      "Epoch 22/40\n",
      "4939/4939 [==============================] - 0s 6us/sample - loss: 0.1293 - accuracy: 0.6040 - mae: 0.2331 - mse: 0.1181 - val_loss: 0.1287 - val_accuracy: 0.6040 - val_mae: 0.2354 - val_mse: 0.1178\n",
      "Epoch 23/40\n",
      "4939/4939 [==============================] - 0s 6us/sample - loss: 0.1283 - accuracy: 0.6040 - mae: 0.2336 - mse: 0.1175 - val_loss: 0.1277 - val_accuracy: 0.6040 - val_mae: 0.2324 - val_mse: 0.1172\n",
      "Epoch 24/40\n",
      "4939/4939 [==============================] - 0s 5us/sample - loss: 0.1273 - accuracy: 0.6040 - mae: 0.2325 - mse: 0.1170 - val_loss: 0.1268 - val_accuracy: 0.6040 - val_mae: 0.2301 - val_mse: 0.1167\n",
      "Epoch 25/40\n",
      "4939/4939 [==============================] - 0s 6us/sample - loss: 0.1265 - accuracy: 0.6040 - mae: 0.2310 - mse: 0.1166 - val_loss: 0.1260 - val_accuracy: 0.6040 - val_mae: 0.2320 - val_mse: 0.1164\n",
      "Epoch 26/40\n",
      "4939/4939 [==============================] - 0s 5us/sample - loss: 0.1258 - accuracy: 0.6040 - mae: 0.2312 - mse: 0.1163 - val_loss: 0.1252 - val_accuracy: 0.6040 - val_mae: 0.2327 - val_mse: 0.1160\n",
      "Epoch 27/40\n",
      "4939/4939 [==============================] - 0s 5us/sample - loss: 0.1250 - accuracy: 0.6040 - mae: 0.2313 - mse: 0.1159 - val_loss: 0.1245 - val_accuracy: 0.6040 - val_mae: 0.2317 - val_mse: 0.1156\n",
      "Epoch 28/40\n",
      "4939/4939 [==============================] - 0s 5us/sample - loss: 0.1243 - accuracy: 0.6040 - mae: 0.2315 - mse: 0.1155 - val_loss: 0.1240 - val_accuracy: 0.6042 - val_mae: 0.2262 - val_mse: 0.1154\n",
      "Epoch 29/40\n",
      "4939/4939 [==============================] - 0s 5us/sample - loss: 0.1237 - accuracy: 0.6042 - mae: 0.2292 - mse: 0.1153 - val_loss: 0.1233 - val_accuracy: 0.6042 - val_mae: 0.2299 - val_mse: 0.1150\n",
      "Epoch 30/40\n",
      "4939/4939 [==============================] - 0s 5us/sample - loss: 0.1231 - accuracy: 0.6042 - mae: 0.2298 - mse: 0.1150 - val_loss: 0.1228 - val_accuracy: 0.6040 - val_mae: 0.2332 - val_mse: 0.1148\n",
      "Epoch 31/40\n",
      "4939/4939 [==============================] - 0s 5us/sample - loss: 0.1227 - accuracy: 0.6040 - mae: 0.2305 - mse: 0.1149 - val_loss: 0.1222 - val_accuracy: 0.6040 - val_mae: 0.2312 - val_mse: 0.1145\n",
      "Epoch 32/40\n",
      "4939/4939 [==============================] - 0s 5us/sample - loss: 0.1220 - accuracy: 0.6042 - mae: 0.2301 - mse: 0.1144 - val_loss: 0.1217 - val_accuracy: 0.6044 - val_mae: 0.2288 - val_mse: 0.1143\n",
      "Epoch 33/40\n",
      "4939/4939 [==============================] - 0s 6us/sample - loss: 0.1216 - accuracy: 0.6042 - mae: 0.2293 - mse: 0.1143 - val_loss: 0.1212 - val_accuracy: 0.6044 - val_mae: 0.2312 - val_mse: 0.1140\n",
      "Epoch 34/40\n",
      "4939/4939 [==============================] - 0s 5us/sample - loss: 0.1210 - accuracy: 0.6044 - mae: 0.2305 - mse: 0.1140 - val_loss: 0.1208 - val_accuracy: 0.6042 - val_mae: 0.2279 - val_mse: 0.1139\n",
      "Epoch 35/40\n",
      "4939/4939 [==============================] - 0s 5us/sample - loss: 0.1206 - accuracy: 0.6044 - mae: 0.2287 - mse: 0.1138 - val_loss: 0.1203 - val_accuracy: 0.6044 - val_mae: 0.2300 - val_mse: 0.1136\n",
      "Epoch 36/40\n",
      "4939/4939 [==============================] - 0s 5us/sample - loss: 0.1202 - accuracy: 0.6044 - mae: 0.2299 - mse: 0.1136 - val_loss: 0.1200 - val_accuracy: 0.6044 - val_mae: 0.2274 - val_mse: 0.1135\n",
      "Epoch 37/40\n",
      "4939/4939 [==============================] - 0s 5us/sample - loss: 0.1197 - accuracy: 0.6044 - mae: 0.2281 - mse: 0.1133 - val_loss: 0.1196 - val_accuracy: 0.6044 - val_mae: 0.2325 - val_mse: 0.1133\n",
      "Epoch 38/40\n",
      "4939/4939 [==============================] - 0s 5us/sample - loss: 0.1193 - accuracy: 0.6044 - mae: 0.2310 - mse: 0.1131 - val_loss: 0.1193 - val_accuracy: 0.6044 - val_mae: 0.2254 - val_mse: 0.1131\n",
      "Epoch 39/40\n",
      "4939/4939 [==============================] - 0s 5us/sample - loss: 0.1191 - accuracy: 0.6044 - mae: 0.2289 - mse: 0.1130 - val_loss: 0.1188 - val_accuracy: 0.6044 - val_mae: 0.2262 - val_mse: 0.1129\n"
     ]
    },
    {
     "name": "stdout",
     "output_type": "stream",
     "text": [
      "Epoch 40/40\n",
      "4939/4939 [==============================] - 0s 6us/sample - loss: 0.1187 - accuracy: 0.6044 - mae: 0.2288 - mse: 0.1129 - val_loss: 0.1185 - val_accuracy: 0.6044 - val_mae: 0.2274 - val_mse: 0.1127\n"
     ]
    }
   ],
   "source": [
    "history = model.fit(train_x,\n",
    "                    train_y,\n",
    "                    epochs=40,\n",
    "                    batch_size=512,\n",
    "                    validation_data=(val_x, val_y),\n",
    "                    verbose=1)"
   ]
  },
  {
   "cell_type": "code",
   "execution_count": 72,
   "metadata": {},
   "outputs": [
    {
     "name": "stdout",
     "output_type": "stream",
     "text": [
      "1544/1544 [==============================] - 0s 19us/sample - loss: 0.1158 - accuracy: 0.6192 - mae: 0.2245 - mse: 0.1101\n",
      "[0.11584633480699569, 0.61917096, 0.22452824, 0.11007025]\n"
     ]
    }
   ],
   "source": [
    "results = model.evaluate(test_x, test_y)\n",
    "\n",
    "print(results)"
   ]
  },
  {
   "cell_type": "code",
   "execution_count": 48,
   "metadata": {},
   "outputs": [
    {
     "data": {
      "text/plain": [
       "dict_keys(['loss', 'mae', 'mse', 'val_loss', 'val_mae', 'val_mse'])"
      ]
     },
     "execution_count": 48,
     "metadata": {},
     "output_type": "execute_result"
    }
   ],
   "source": [
    "history_dict = history.history\n",
    "history_dict.keys()"
   ]
  },
  {
   "cell_type": "code",
   "execution_count": 50,
   "metadata": {},
   "outputs": [
    {
     "data": {
      "image/png": "[encoded data removed]",
      "text/plain": [
       "<matplotlib.figure.Figure at 0x188ce7ca3c8>"
      ]
     },
     "metadata": {},
     "output_type": "display_data"
    }
   ],
   "source": [
    "import matplotlib.pyplot as plt\n",
    "\n",
    "acc = history_dict['mae']\n",
    "val_acc = history_dict['val_mae']\n",
    "loss = history_dict['loss']\n",
    "val_loss = history_dict['val_loss']\n",
    "\n",
    "epochs = range(1, len(acc) + 1)\n",
    "\n",
    "# \"bo\" is for \"blue dot\"\n",
    "plt.plot(epochs, loss, 'bo', label='Training loss')\n",
    "# b is for \"solid blue line\"\n",
    "plt.plot(epochs, val_loss, 'b', label='Validation loss')\n",
    "plt.title('Training and validation loss')\n",
    "plt.xlabel('Epochs')\n",
    "plt.ylabel('Loss')\n",
    "plt.legend()\n",
    "\n",
    "plt.show()"
   ]
  },
  {
   "cell_type": "code",
   "execution_count": 64,
   "metadata": {},
   "outputs": [],
   "source": [
    "predictions= model.predict(testdatafinal)\n"
   ]
  },
  {
   "cell_type": "code",
   "execution_count": 66,
   "metadata": {},
   "outputs": [
    {
     "data": {
      "text/plain": [
       "array([[0.01722544, 0.08192572, 0.16030249, 0.60254866, 0.2208769 ],\n",
       "       [0.01185894, 0.13214874, 0.0903784 , 0.5036901 , 0.11763519],\n",
       "       [0.03937125, 0.3213198 , 0.1091035 , 0.3981722 , 0.11493742],\n",
       "       ...,\n",
       "       [0.01726073, 0.06923667, 0.17752752, 0.62862074, 0.2493692 ],\n",
       "       [0.01052359, 0.07797799, 0.11790338, 0.5852132 , 0.16776866],\n",
       "       [0.00428686, 0.0218471 , 0.13751245, 0.72282267, 0.23971036]],\n",
       "      dtype=float32)"
      ]
     },
     "execution_count": 66,
     "metadata": {},
     "output_type": "execute_result"
    }
   ],
   "source": [
    "predictions"
   ]
  },
  {
   "cell_type": "code",
   "execution_count": null,
   "metadata": {},
   "outputs": [],
   "source": []
  }
 ],
 "metadata": {
  "kernelspec": {
   "display_name": "Python 3",
   "language": "python",
   "name": "python3"
  },
  "language_info": {
   "codemirror_mode": {
    "name": "ipython",
    "version": 3
   },
   "file_extension": ".py",
   "mimetype": "text/x-python",
   "name": "python",
   "nbconvert_exporter": "python",
   "pygments_lexer": "ipython3",
   "version": "3.6.4"
  }
 },
 "nbformat": 4,
 "nbformat_minor": 2
}
